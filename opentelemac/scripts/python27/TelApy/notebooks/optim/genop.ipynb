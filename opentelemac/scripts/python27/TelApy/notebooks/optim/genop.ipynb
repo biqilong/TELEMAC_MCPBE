{
 "metadata": {
  "anaconda-cloud": {},
  "kernelspec": {
   "display_name": "Python 2",
   "language": "python",
   "name": "python2"
  },
  "language_info": {
   "codemirror_mode": {
    "name": "ipython",
    "version": 2
   },
   "file_extension": ".py",
   "mimetype": "text/x-python",
   "name": "python",
   "nbconvert_exporter": "python",
   "pygments_lexer": "ipython2",
   "version": "2.7.13"
  },
  "name": "",
  "signature": "sha256:2ecdeb0eadcc745f5bc0ab6974d324db4e828618bd228e14b4566e8f149a6cbf"
 },
 "nbformat": 3,
 "nbformat_minor": 0,
 "worksheets": [
  {
   "cells": [
    {
     "cell_type": "markdown",
     "metadata": {},
     "source": [
      "<span style=\"float:left;\">Licence CC BY-SA</span><span style=\"float:right;\">Fabrice Zaoui&nbsp;</span><br/>\n",
      "___"
     ]
    },
    {
     "cell_type": "markdown",
     "metadata": {},
     "source": [
      "This tutorial is intended for people who want to use the Genop optimizer. Genop (**Gen**etic **op**timizer) is a Python package implementing the Genetic Algorithm (GA) for a mono-objective minimization. GA is a derivative-free optimizer.  This metaheuristic mimics the natural evolution with the repeated application of operators (selection, mutation, crossover, etc.) in order to evolve a set of solutions towards the optimality. People interested in this class of algorithms may refer to [Genetic Algorithms](https://en.wikipedia.org/wiki/Genetic_algorithm) or [Genetic Programming](http://geneticprogramming.com/) for more information.\n",
      "\n",
      "Although Genop was primarly designed for the Telemac system, it is user-friendly and open to other fields of applications where derivatives are difficult to assess. Indeed, the software claims to be easy to figure out, efficient to run and supported.\n"
     ]
    },
    {
     "cell_type": "heading",
     "level": 1,
     "metadata": {},
     "source": [
      "Genop as a Python package"
     ]
    },
    {
     "cell_type": "markdown",
     "metadata": {},
     "source": [
      "Genop can be imported as a Python v2 package. It is located with the Telemac distribution in the sub-folder:\n",
      "\n",
      "$HOMETEL/scripts/python27/TelApy/tools"
     ]
    },
    {
     "cell_type": "code",
     "collapsed": false,
     "input": [
      "# Changing of directory\n",
      "import os\n",
      "HOMETEL = os.environ.get('HOMETEL')\n",
      "if HOMETEL:\n",
      "    os.chdir(HOMETEL + '/scripts/python27/TelApy/tools')\n",
      "else:\n",
      "    raise Exception('Unable to change of directory: \\\n",
      "    please check the HOMETEL value.')"
     ],
     "language": "python",
     "metadata": {},
     "outputs": [],
     "prompt_number": 6
    },
    {
     "cell_type": "markdown",
     "metadata": {
      "collapsed": false
     },
     "source": [
      "Note: In order to import the package from any other path, one can change the PYTHONPATH environment variable.\n",
      "\n",
      "Once the Genop package is correctly located, it can be imported:"
     ]
    },
    {
     "cell_type": "code",
     "collapsed": true,
     "input": [
      "from TelApy.tools.genop import genop"
     ],
     "language": "python",
     "metadata": {},
     "outputs": [],
     "prompt_number": 7
    },
    {
     "cell_type": "markdown",
     "metadata": {},
     "source": [
      "Some basic information on Genop package can be obtained with:"
     ]
    },
    {
     "cell_type": "code",
     "collapsed": false,
     "input": [
      "help(genop)"
     ],
     "language": "python",
     "metadata": {},
     "outputs": [
      {
       "output_type": "stream",
       "stream": "stdout",
       "text": [
        "Help on module TelApy.tools.genop.genop in TelApy.tools.genop:\n",
        "\n",
        "NAME\n",
        "    TelApy.tools.genop.genop - A genetic algorithm optimizer (minimizer) in Python\n",
        "\n",
        "FILE\n",
        "    /home/B61570/opentelemac/svn/trunk/scripts/python27/TelApy/tools/genop/genop.py\n",
        "\n",
        "DESCRIPTION\n",
        "    Author(s): Fabrice Zaoui\n",
        "    \n",
        "    Copyright EDF 2016-2017\n",
        "    \n",
        "    Comments : adapted from the original algorithm of Scilab module 'optim_ga'\n",
        "\n",
        "CLASSES\n",
        "    __builtin__.object\n",
        "        Genop\n",
        "    \n",
        "    class Genop(__builtin__.object)\n",
        "     |  The base class for the Genetic Opimization\n",
        "     |  \n",
        "     |  Methods defined here:\n",
        "     |  \n",
        "     |  __init__(self, popsize=100, pbcross=0.7, pbmut=0.1)\n",
        "     |      Initialize some algorithmic parameters to default values\n",
        "     |      :return: a new object from Genop\n",
        "     |  \n",
        "     |  initialize(self, func, nvar, bounds)\n",
        "     |      Description of the minimization problem\n",
        "     |      :param 'f': the name of the python function where the cost function            is implemented (type: str)\n",
        "     |      :param 'n': the number of optimization variables (type: int)\n",
        "     |      :param 'bounds': a numpy array for the lower and upper bounds of            optimization variables (type: int)\n",
        "     |      :return: error code = 0 if successful (type: int)\n",
        "     |  \n",
        "     |  optimize(self, nbgen=10, nproc=1)\n",
        "     |      Do the genetic algorithm with 'niter' generations\n",
        "     |      :param 'nbgen': the maximal number of gnerations (i.e. iterations)\n",
        "     |      :param 'nproc': the number of processes (parallel simulations)\n",
        "     |      :return: a tuple of two elements for all the iterations:\n",
        "     |                  - the best parameters\n",
        "     |                  - the associated optimal cost functions\n",
        "     |  \n",
        "     |  ----------------------------------------------------------------------\n",
        "     |  Data descriptors defined here:\n",
        "     |  \n",
        "     |  __dict__\n",
        "     |      dictionary for instance variables (if defined)\n",
        "     |  \n",
        "     |  __weakref__\n",
        "     |      list of weak references to the object (if defined)\n",
        "\n",
        "\n"
       ]
      }
     ],
     "prompt_number": 8
    },
    {
     "cell_type": "markdown",
     "metadata": {},
     "source": [
      "and attributes reachable from it with:"
     ]
    },
    {
     "cell_type": "code",
     "collapsed": false,
     "input": [
      "dir(genop)"
     ],
     "language": "python",
     "metadata": {},
     "outputs": [
      {
       "metadata": {},
       "output_type": "pyout",
       "prompt_number": 9,
       "text": [
        "['Genop',\n",
        " '__builtins__',\n",
        " '__doc__',\n",
        " '__file__',\n",
        " '__name__',\n",
        " '__package__',\n",
        " 'cost',\n",
        " 'crossover',\n",
        " 'elitist',\n",
        " 'genpop',\n",
        " 'mutation',\n",
        " 'np',\n",
        " 'printinfo',\n",
        " 'selection',\n",
        " 'updatecost',\n",
        " 'validate']"
       ]
      }
     ],
     "prompt_number": 9
    },
    {
     "cell_type": "heading",
     "level": 1,
     "metadata": {},
     "source": [
      "Cost function"
     ]
    },
    {
     "cell_type": "markdown",
     "metadata": {},
     "source": [
      "The problem under consideration is formulated as a mathematical optimization seeking to minimize a cost function. With Genop the user has to define the cost function as a Python function taking as argument the (numpy array) vector of variables and returning the corresponding cost function value.\n",
      "\n",
      "For example, in the parent directory of Genop some test functions are defined in the file 'simul.py' "
     ]
    },
    {
     "cell_type": "code",
     "collapsed": true,
     "input": [
      "import TelApy.tools.simul as simul"
     ],
     "language": "python",
     "metadata": {},
     "outputs": [],
     "prompt_number": 10
    },
    {
     "cell_type": "code",
     "collapsed": false,
     "input": [
      "%%bash\n",
      "cat simul.py"
     ],
     "language": "python",
     "metadata": {},
     "outputs": [
      {
       "output_type": "stream",
       "stream": "stdout",
       "text": [
        "# -*- coding: utf-8 -*-\r\n",
        "\"\"\"\r\n",
        "Definition of the cost function for 'genop' optimizer\r\n",
        "\r\n",
        "Author(s) : Fabrice Zaoui\r\n",
        "\r\n",
        "Copyright EDF 2016-2017\r\n",
        "\r\n",
        ":param 'x': array of optimization variables\r\n",
        ":return: value of the cost function\r\n",
        "\"\"\"\r\n",
        "import numpy as np\r\n",
        "\r\n",
        "# user function\r\n",
        "def sim_telemac(varx):\r\n",
        "    \"\"\"\r\n",
        "    The cost function to be written by user\r\n",
        "    \"\"\"\r\n",
        "    return\r\n",
        "\r\n",
        "# test function\r\n",
        "def rosenbrock(varx):\r\n",
        "    \"\"\"\r\n",
        "    https://en.wikipedia.org/wiki/Rosenbrock_function\r\n",
        "    \"\"\"\r\n",
        "    val = (1.-varx[0])**2+100.*(varx[1]-varx[0]**2)**2\r\n",
        "    return val\r\n",
        "\r\n",
        "# test function\r\n",
        "def maccormick(varx):\r\n",
        "    \"\"\"\r\n",
        "    https://en.wikipedia.org/wiki/Test_functions_for_optimization\r\n",
        "    \"\"\"\r\n",
        "    val = np.sin(varx[0]+varx[1])+(varx[0]-varx[1])**2 - \\\r\n",
        "                1.5*varx[0]+2.5*varx[1]+1.\r\n",
        "    return val\r\n",
        "\r\n",
        "# test function\r\n",
        "def easom(varx):\r\n",
        "    \"\"\"\r\n",
        "    https://en.wikipedia.org/wiki/Test_functions_for_optimization\r\n",
        "    \"\"\"\r\n",
        "    val = -np.cos(varx[0])*np.cos(varx[1])*\\\r\n",
        "                 np.exp(-((varx[0]-np.pi)**2+(varx[1]-np.pi)**2))\r\n",
        "    return val\r\n",
        "\r\n",
        "# test function\r\n",
        "def eggholder(varx):\r\n",
        "    \"\"\"\r\n",
        "    https://en.wikipedia.org/wiki/Test_functions_for_optimization\r\n",
        "    \"\"\"\r\n",
        "    val = -(varx[1]+47.)*np.sin(np.sqrt(np.abs(0.5*varx[0]+varx[1]+47.))) - \\\r\n",
        "           varx[0]*np.sin(np.sqrt(np.abs(varx[0]-varx[1]-47.)))\r\n",
        "    return val\r\n",
        "\r\n",
        "# test function\r\n",
        "def linear(varx):\r\n",
        "    \"\"\"\r\n",
        "    a simple linear function of three variables\r\n",
        "    \"\"\"\r\n",
        "    val = varx[0] + varx[1] - varx[2]\r\n",
        "    return val\r\n",
        "\r\n",
        "# test function\r\n",
        "def abslinear(varx):\r\n",
        "    \"\"\"\r\n",
        "    a simple absolute value function\r\n",
        "    \"\"\"\r\n",
        "    val = np.abs(varx[0]-2.)\r\n",
        "    return val\r\n"
       ]
      }
     ],
     "prompt_number": 11
    },
    {
     "cell_type": "markdown",
     "metadata": {},
     "source": [
      "Six analytical functions are defined in this test file. They can be all optimized with Genop in one shot using the script 'test_genop.py':"
     ]
    },
    {
     "cell_type": "code",
     "collapsed": false,
     "input": [
      "%%bash\n",
      "python test_genop.py"
     ],
     "language": "python",
     "metadata": {},
     "outputs": [
      {
       "output_type": "stream",
       "stream": "stdout",
       "text": [
        "-----  genop optimization -----\n",
        "-------------------------------\n",
        "|     iter     |     Cost     |\n",
        "-------------------------------\n",
        "        1       3.961961e+00\n",
        "        2       1.866606e-01\n",
        "        3       3.854852e-02\n",
        "        4       3.854852e-02\n",
        "        5       3.854852e-02\n",
        "        6       3.337131e-02\n",
        "        7       3.337131e-02\n",
        "        8       3.337131e-02\n",
        "        9       3.171135e-02\n",
        "       10       2.992792e-02\n",
        "       11       2.992792e-02\n",
        "       12       1.777003e-02\n",
        "       13       1.777003e-02\n",
        "       14       1.777003e-02\n",
        "       15       1.010011e-02\n",
        "       16       1.010011e-02\n",
        "       17       9.884907e-03\n",
        "       18       9.852896e-03\n",
        "       19       9.796998e-03\n",
        "       20       9.796998e-03\n",
        "-------------------------------------\n",
        "\n",
        "--> Maximum number of iterations: 20\n",
        "-------------------------------------\n",
        "\n",
        "--> Number of simulations: 3574\n",
        "-------------------------------------\n",
        "\n",
        "--> Best solution found:\n",
        "\t * cost function: 9.796998e-03\n",
        "\t * solution:\t\n",
        "\t\t0: 0.904263933245\t\t\t1: 0.815180087763\n",
        "-------------------------------------\n",
        "\n"
       ]
      },
      {
       "output_type": "stream",
       "stream": "stderr",
       "text": [
        "......\n",
        "----------------------------------------------------------------------\n",
        "Ran 6 tests in 6.101s\n",
        "\n",
        "OK\n"
       ]
      }
     ],
     "prompt_number": 12
    },
    {
     "cell_type": "heading",
     "level": 1,
     "metadata": {},
     "source": [
      "Problem definition with Genop"
     ]
    },
    {
     "cell_type": "markdown",
     "metadata": {},
     "source": [
      "Suppose that the problem concerns the minimization of the [Rosenbrock function](https://en.wikipedia.org/wiki/Rosenbrock_function):"
     ]
    },
    {
     "cell_type": "markdown",
     "metadata": {},
     "source": [
      "$$ F(x_1,x_2) = (1-x_1)^2 + 100 \\times (x_2-x_1^2)^2$$ "
     ]
    },
    {
     "cell_type": "markdown",
     "metadata": {},
     "source": [
      "This functions of two variables has a global optimum at $$(x_1,x_2)=(1,1)$$ where $$F_{opt}(1,1)=0$$"
     ]
    },
    {
     "cell_type": "markdown",
     "metadata": {},
     "source": [
      "As the function is already implemented in 'simul.py' the definition of the Genop problem will be:"
     ]
    },
    {
     "cell_type": "code",
     "collapsed": false,
     "input": [
      "import numpy as np\n",
      "\n",
      "# pointer to the function\n",
      "f = simul.rosenbrock\n",
      "# number of variables\n",
      "n = 2\n",
      "# lower and upper bounds for variable (optimizing in the range [-5., 5.])\n",
      "bounds = np.zeros((n, 2))\n",
      "bounds[0, 0] = -5.\n",
      "bounds[0, 1] = 5.\n",
      "bounds[1, 0] = -5.\n",
      "bounds[1, 1] = 5.\n",
      "# instantiation of a Genop problem with default values for parameters\n",
      "mypb = genop.Genop()\n",
      "# initialization of the problem for Genop\n",
      "error = mypb.initialize(f, n, bounds)\n",
      "if error:\n",
      "    raise Exception('Unable to initialize Genop')"
     ],
     "language": "python",
     "metadata": {},
     "outputs": [],
     "prompt_number": 13
    },
    {
     "cell_type": "heading",
     "level": 1,
     "metadata": {},
     "source": [
      "Optimizing with Genop"
     ]
    },
    {
     "cell_type": "markdown",
     "metadata": {},
     "source": [
      "The Genop minimization with default valuesis straightforward: "
     ]
    },
    {
     "cell_type": "code",
     "collapsed": false,
     "input": [
      "fcost, xopt = mypb.optimize()"
     ],
     "language": "python",
     "metadata": {},
     "outputs": [
      {
       "output_type": "stream",
       "stream": "stdout",
       "text": [
        "-----  genop optimization -----\n",
        "-------------------------------\n",
        "|     iter     |     Cost     |\n",
        "-------------------------------\n",
        "        1       4.404990e+00\n",
        "        2       6.078559e-04\n",
        "        3       6.078559e-04\n",
        "        4       6.078559e-04"
       ]
      },
      {
       "output_type": "stream",
       "stream": "stdout",
       "text": [
        "\n",
        "        5       6.078559e-04\n",
        "        6       6.078559e-04\n",
        "        7       6.078559e-04\n",
        "        8       3.737983e-04"
       ]
      },
      {
       "output_type": "stream",
       "stream": "stdout",
       "text": [
        "\n",
        "        9       3.810899e-05\n",
        "       10       3.291596e-05\n",
        "-------------------------------------\n",
        "\n",
        "--> Maximum number of iterations: 10\n",
        "-------------------------------------\n",
        "\n",
        "--> Number of simulations: 1895\n",
        "-------------------------------------\n",
        "\n",
        "--> Best solution found:\n",
        "\t * cost function: 3.291596e-05\n",
        "\t * solution:\t\n",
        "\t\t0: 0.994305128321\t\t\t1: 0.988573089295\n",
        "-------------------------------------\n",
        "\n"
       ]
      }
     ],
     "prompt_number": 14
    },
    {
     "cell_type": "markdown",
     "metadata": {},
     "source": [
      "Genop returns all the values of optimal cost functions *fcost* and associated variables *xopt* throughout the minimization process."
     ]
    },
    {
     "cell_type": "code",
     "collapsed": false,
     "input": [
      "import matplotlib.pyplot as plt\n",
      "\n",
      "%matplotlib inline\n",
      "plt.plot(fcost)\n",
      "plt.grid()\n",
      "plt.xlabel('Iteration number')\n",
      "plt.ylabel('Cost function value')\n",
      "plt.title('Rosenborck function minimized with Genop')\n",
      "plt.show()"
     ],
     "language": "python",
     "metadata": {},
     "outputs": [
      {
       "metadata": {},
       "output_type": "display_data",
       "png": "[encoded data removed]",
       "text": [
        "<matplotlib.figure.Figure at 0x7f8747d21f50>"
       ]
      }
     ],
     "prompt_number": 15
    },
    {
     "cell_type": "code",
     "collapsed": false,
     "input": [
      "x1, x2 = np.meshgrid(np.linspace(-5.,5.,201),np.linspace(-5.,5.,201))\n",
      "plt.contourf(x1, x2, simul.rosenbrock([x1,x2]), np.linspace(0.,3000.,200))\n",
      "plt.plot(*zip(*xopt), lw=4, color=\"green\", marker=\"o\", markerfacecolor=\"white\")\n",
      "plt.show()"
     ],
     "language": "python",
     "metadata": {},
     "outputs": [
      {
       "metadata": {},
       "output_type": "display_data",
       "png": "[encoded data removed]",
       "text": [
        "<matplotlib.figure.Figure at 0x7f87436c0090>"
       ]
      }
     ],
     "prompt_number": 16
    },
    {
     "cell_type": "heading",
     "level": 2,
     "metadata": {},
     "source": [
      "Default optimization parameters"
     ]
    },
    {
     "cell_type": "markdown",
     "metadata": {},
     "source": [
      "Usefull parameters for the optimization process can be changed by the user with the instantiation of a new Genop object:"
     ]
    },
    {
     "cell_type": "markdown",
     "metadata": {},
     "source": [
      "mypb = genop.Genop(popsize=20, pbcross=0.8, pbmut=0.05)"
     ]
    },
    {
     "cell_type": "markdown",
     "metadata": {},
     "source": [
      "where:\n",
      "* popsize is the size of the population\n",
      "* pbcross is the probability crossover\n",
      "* pbmut is the probability mutation"
     ]
    },
    {
     "cell_type": "markdown",
     "metadata": {},
     "source": [
      "It is also possible to change the maximum number of generations with the call to the optimize method:"
     ]
    },
    {
     "cell_type": "markdown",
     "metadata": {},
     "source": [
      "fcost, xopt = mypb.optimize(nbgen=30)"
     ]
    },
    {
     "cell_type": "heading",
     "level": 2,
     "metadata": {},
     "source": [
      "Parallelism"
     ]
    },
    {
     "cell_type": "markdown",
     "metadata": {},
     "source": [
      "Althought GA requires many calls to cost functions assessment, it can be easily parallelised since each call is independant from other.\n",
      "\n",
      "Genop implements the *multiprocessing* Python package for this purpose.\n",
      "\n",
      "The number of processors to be used is indicated when calling the optimize method:"
     ]
    },
    {
     "cell_type": "markdown",
     "metadata": {},
     "source": [
      "fcost, xopt = mypb.optimize(nproc=2)"
     ]
    }
   ],
   "metadata": {}
  }
 ]
}