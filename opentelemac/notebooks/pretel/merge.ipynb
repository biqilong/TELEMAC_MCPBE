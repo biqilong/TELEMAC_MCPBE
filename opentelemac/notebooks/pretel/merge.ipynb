{
 "cells": [
  {
   "cell_type": "markdown",
   "metadata": {},
   "source": [
    "# Merging files\n",
    "\n",
    "The following script will allow you to merge files containing multiple time steps into one.\n",
    "\n",
    "They must have the same mesh and the same variables."
   ]
  },
  {
   "cell_type": "code",
   "execution_count": 1,
   "metadata": {},
   "outputs": [
    {
     "name": "stdout",
     "output_type": "stream",
     "text": [
      "\n",
      "\n",
      "Interpreting command line options\n",
      "~~~~~~~~~~~~~~~~~~~~~~~~~~~~~~~~~~~~~~~~~~~~~~~~~~~~~~~~~~~~~~~~~~~~~~~~\n",
      "\n",
      "usage: run_selafin.py merge [-h] [--parallel] [-v XVARS] [--title ATITLE]\n",
      "                            [--reset] [--date ADATE] [--time ATIME] [--switch]\n",
      "                            [--endian] [--float] [--name ANAME] [--T+? ATP]\n",
      "                            [--T*? ATM] [--X+? AXP] [--X*? AXM] [--Y+? AYP]\n",
      "                            [--Y*? AYM] [--Z? AZNAME] [--Z+? AZP] [--Z*? AZM]\n",
      "                            SELAFIN file [SELAFIN file ...]\n",
      "\n",
      "positional arguments:\n",
      "  SELAFIN file\n",
      "\n",
      "optional arguments:\n",
      "  -h, --help            show this help message and exit\n",
      "  --parallel            if option there, will assume input files have not been\n",
      "                        recollected, in which case you also need one example\n",
      "                        of the global file\n",
      "  -v XVARS, --vars XVARS\n",
      "                        specify which variables should remain (','-delimited)\n",
      "  --title ATITLE        set the title of the SLF\n",
      "  --reset               reset AT to zero second\n",
      "  --date ADATE          set the start date of the SLF (dd-mm-yyyy)\n",
      "  --time ATIME          set the start time of the SLF (hh:mm:ss)\n",
      "  --switch              switch between VARIABLES and CLANDESTINES\n",
      "  --endian              switch between endian encoddings\n",
      "  --float               switch between DOUBLE and SINGLE precision float\n",
      "  --name ANAME          change the name of a VARIABLE: 'OLD VAR=NEW VAR'\n",
      "  --T+? ATP             adds to the ATs\n",
      "  --T*? ATM             scales the ATs\n",
      "  --X+? AXP             adds to the meshx\n",
      "  --X*? AXM             scales the meshx\n",
      "  --Y+? AYP             adds to the meshy\n",
      "  --Y*? AYM             scales the meshy\n",
      "  --Z? AZNAME           will filter Z+ znd Z* ((Z* * val )+ Z+) operations on\n",
      "                        that VARIABLE name\n",
      "  --Z+? AZP             adds to the VARIABLE\n",
      "  --Z*? AZM             scales the VARIABLE\n"
     ]
    }
   ],
   "source": [
    "%%bash\n",
    "\n",
    "run_selafin.py merge -h"
   ]
  },
  {
   "cell_type": "markdown",
   "metadata": {},
   "source": [
    "The code below will merge the 2 file:\n",
    "  * **r2d_gouttedo_part1.slf** that contains results from time 0.0s to 1.8s.\n",
    "  *  **r2d_gouttedo_part2.slf** which contains results from time 2.0s to 4.0s. \n",
    "  \n",
    "And the result will be the file **r2d_gouttedo_full.slf** which contains the whole range from 0.0s to 2.0s"
   ]
  },
  {
   "cell_type": "code",
   "execution_count": 2,
   "metadata": {},
   "outputs": [
    {
     "name": "stdout",
     "output_type": "stream",
     "text": [
      "\n",
      "\n",
      "Interpreting command line options\n",
      "~~~~~~~~~~~~~~~~~~~~~~~~~~~~~~~~~~~~~~~~~~~~~~~~~~~~~~~~~~~~~~~~~~~~~~~~\n",
      "\n",
      "\n",
      "\n",
      "Merging into r2d_gouttedo_full.slf within \n",
      "~~~~~~~~~~~~~~~~~~~~~~~~~~~~~~~~~~~~~~~~~~~~~~~~~~~~~~~~~~~~~~~~~~~~~~~~\n",
      "\n",
      "\n",
      "\n",
      "My work is done\n",
      "\n",
      "\n",
      "\u001b[0;36m8c8\u001b[0;0m\n",
      "\u001b[0;31m< Scanning r2d_gouttedo_part1.slf within /home/B61570/opentelemac/git/trunk/examples/python3/pretel\u001b[0;0m\n",
      "\u001b[0;0m---\u001b[0;0m\n",
      "\u001b[0;32m> Scanning r2d_gouttedo_full.slf within /home/B61570/opentelemac/git/trunk/examples/python3/pretel\u001b[0;0m\n",
      "\u001b[0;36m38c38\u001b[0;0m\n",
      "\u001b[0;31m< Number of times : 10\u001b[0;0m\n",
      "\u001b[0;0m---\u001b[0;0m\n",
      "\u001b[0;32m> Number of times : 21\u001b[0;0m\n",
      "\u001b[0;36m40,41c40,41\u001b[0;0m\n",
      "\u001b[0;31m< Last time step  : 1.7999999523162842\u001b[0;0m\n",
      "\u001b[0;31m< Time step       : 0.19999999470180935\u001b[0;0m\n",
      "\u001b[0;0m---\u001b[0;0m\n",
      "\u001b[0;32m> Last time step  : 4.0\u001b[0;0m\n",
      "\u001b[0;32m> Time step       : 0.2\u001b[0;0m\n",
      "\u001b[0;36m8c8\u001b[0;0m\n",
      "\u001b[0;31m< Scanning r2d_gouttedo_part2.slf within /home/B61570/opentelemac/git/trunk/examples/python3/pretel\u001b[0;0m\n",
      "\u001b[0;0m---\u001b[0;0m\n",
      "\u001b[0;32m> Scanning r2d_gouttedo_full.slf within /home/B61570/opentelemac/git/trunk/examples/python3/pretel\u001b[0;0m\n",
      "\u001b[0;36m38,39c38,39\u001b[0;0m\n",
      "\u001b[0;31m< Number of times : 11\u001b[0;0m\n",
      "\u001b[0;31m< First time step : 2.0\u001b[0;0m\n",
      "\u001b[0;0m---\u001b[0;0m\n",
      "\u001b[0;32m> Number of times : 21\u001b[0;0m\n",
      "\u001b[0;32m> First time step : 0.0\u001b[0;0m\n",
      "\n"
     ]
    }
   ],
   "source": [
    "%%bash\n",
    "cd $HOMETEL/examples/python3/pretel\n",
    "\n",
    "run_selafin.py scan r2d_gouttedo_part1.slf > init1.log\n",
    "run_selafin.py scan r2d_gouttedo_part2.slf > init2.log\n",
    "\n",
    "run_selafin.py merge r2d_gouttedo_part1.slf r2d_gouttedo_part2.slf r2d_gouttedo_full.slf\n",
    "\n",
    "run_selafin.py scan r2d_gouttedo_full.slf > merge.log\n",
    "\n",
    "colordiff init1.log merge.log\n",
    "colordiff init2.log merge.log\n",
    "\n",
    "echo"
   ]
  }
 ],
 "metadata": {
  "kernelspec": {
   "display_name": "Python 3",
   "language": "python",
   "name": "python3"
  },
  "language_info": {
   "codemirror_mode": {
    "name": "ipython",
    "version": 3
   },
   "file_extension": ".py",
   "mimetype": "text/x-python",
   "name": "python",
   "nbconvert_exporter": "python",
   "pygments_lexer": "ipython3",
   "version": "3.5.3"
  }
 },
 "nbformat": 4,
 "nbformat_minor": 1
}
