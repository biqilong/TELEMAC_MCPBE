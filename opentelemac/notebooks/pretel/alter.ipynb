{
 "metadata": {
  "kernelspec": {
   "display_name": "Python 3",
   "language": "python",
   "name": "python3"
  },
  "language_info": {
   "codemirror_mode": {
    "name": "ipython",
    "version": 3
   },
   "file_extension": ".py",
   "mimetype": "text/x-python",
   "name": "python",
   "nbconvert_exporter": "python",
   "pygments_lexer": "ipython3",
   "version": "3.5.3"
  },
  "name": ""
 },
 "nbformat": 3,
 "nbformat_minor": 0,
 "worksheets": [
  {
   "cells": [
    {
     "cell_type": "markdown",
     "metadata": {},
     "source": [
      "#Modification of the content of a telemac file\n",
      "\n",
      "This script allows to make alteration to a telemac file such as:\n",
      "  * [Removing results for a list of variables/times](#removing-data)\n",
      "  * [Changing endianess of the file](#switching-endianess)\n",
      "  * Switching between lat/long, spherical, UTM coordinates (options --sph2ll, --ll2sph, --ll2utm, --utm2ll)\n",
      "  * [Modifying variable result (Addition, multiplication and both)](#modification-of-result-value)\n",
      "  * [Switch between single/double precision](#switching_real_precision)\n",
      "  * Modifying the title of the file (option --title)\n",
      "  * Resetting time to zero (option --reset)\n",
      "  * Setting the date (options --date and --time)\n",
      "  * [Changing the name of a variable](#modification-of-result-value)\n",
      "  * [Modifying the coordinates (Addition, multiplication and both)](#modification-of-coordinates) \n",
      "  \n"
     ]
    },
    {
     "cell_type": "code",
     "collapsed": false,
     "input": [
      "%%bash\n",
      "run_selafin.py alter -h"
     ],
     "language": "python",
     "metadata": {},
     "outputs": [
      {
       "output_type": "stream",
       "stream": "stdout",
       "text": [
        "\n",
        "\n",
        "Interpreting command line options\n",
        "~~~~~~~~~~~~~~~~~~~~~~~~~~~~~~~~~~~~~~~~~~~~~~~~~~~~~~~~~~~~~~~~~~~~~~~~\n",
        "\n",
        "usage: run_selafin.py [-h] [-v XVARS] [-f TFROM] [-s TSTOP] [-d TSTEP] [-r] [--parallel] [--title ATITLE] [--reset] [--date ADATE] [--time ATIME] [--switch] [--endian] [--float] [--name ANAME] [--T+? ATP] [--T*? ATM] [--X+? AXP]\n",
        "                      [--X*? AXM] [--Y+? AYP] [--Y*? AYM] [--Z? AZNAME] [--Z+? AZP] [--Z*? AZM] [--sph2ll SPH2LL] [--ll2sph LL2SPH] [--ll2utm LL2UTM] [--utm2ll UTM2LL]\n",
        "                      {scan,spec,chop,alter,merge,diff,calcs,crunch,transf,sample,subdivide,tessalate} SELAFIN files) [SELAFIN file(s ...]\n",
        "\n",
        "positional arguments:\n",
        "  {scan,spec,chop,alter,merge,diff,calcs,crunch,transf,sample,subdivide,tessalate}\n",
        "  SELAFIN file(s)\n",
        "\n",
        "optional arguments:\n",
        "  -h, --help            show this help message and exit\n",
        "  -v XVARS, --vars XVARS\n",
        "                        specify which variables should remain (','-delimited)\n",
        "  -f TFROM, --from TFROM\n",
        "                        specify the first frame included\n",
        "  -s TSTOP, --stop TSTOP\n",
        "                        specify the last frame included (negative from the end)\n",
        "  -d TSTEP, --step TSTEP\n",
        "                        specify the step for the extraction of frames\n",
        "  -r, --replace         if present, the output file will eventualy replace the input file\n",
        "  --parallel            if option there, will assume input files have not been recollected, in which case you also need one example of the global file\n",
        "  --title ATITLE        set the title of the SLF\n",
        "  --reset               reset AT to zero second\n",
        "  --date ADATE          set the start date of the SLF (dd-mm-yyyy)\n",
        "  --time ATIME          set the start time of the SLF (hh:mm:ss)\n",
        "  --switch              switch between VARIABLES and CLANDESTINES\n",
        "  --endian              switch between endian encoddings\n",
        "  --float               switch between DOUBLE and SINGLE precision float\n",
        "  --name ANAME          change the name of a VARIABLE: 'OLD VAR=NEW VAR'\n",
        "  --T+? ATP             adds to the ATs\n",
        "  --T*? ATM             scales the ATs\n",
        "  --X+? AXP             adds to the meshx\n",
        "  --X*? AXM             scales the meshx\n",
        "  --Y+? AYP             adds to the meshy\n",
        "  --Y*? AYM             scales the meshy\n",
        "  --Z? AZNAME           will filter Z+ znd Z* ((Z* * val )+ Z+) operations on that VARIABLE name\n",
        "  --Z+? AZP             adds to the VARIABLE\n",
        "  --Z*? AZM             scales the VARIABLE\n",
        "  --sph2ll SPH2LL       convert from spherical to longitude-latitude\n",
        "  --ll2sph LL2SPH       convert from longitude-latitude to spherical\n",
        "  --ll2utm LL2UTM       convert from longitude-latitude to UTM\n",
        "  --utm2ll UTM2LL       convert from UTM to longitude-latitude\n"
       ]
      }
     ],
     "prompt_number": 1
    },
    {
     "cell_type": "markdown",
     "metadata": {},
     "source": [
      "\n",
      "The option -r/--replace will do the modification directly in the input file so no need for the second argument\n",
      "\n",
      "## Removing data\n",
      "\n",
      "\n",
      "###Removing even time steps\n"
     ]
    },
    {
     "cell_type": "code",
     "collapsed": false,
     "input": [
      "%%bash\n",
      "cd $HOMETEL/examples/python3/pretel\n",
      "\n",
      "run_selafin.py scan r2d_gouttedo.slf > init.log\n",
      "\n",
      "run_selafin.py alter r2d_gouttedo.slf r2d_gouttedo_chop.slf -f 1 -s -1 -d 2\n",
      "\n",
      "run_selafin.py scan r2d_gouttedo_chop.slf > modif.log\n",
      "\n",
      "colordiff init.log modif.log"
     ],
     "language": "python",
     "metadata": {},
     "outputs": [
      {
       "output_type": "stream",
       "stream": "stdout",
       "text": [
        "\n",
        "\n",
        "Interpreting command line options\n",
        "~~~~~~~~~~~~~~~~~~~~~~~~~~~~~~~~~~~~~~~~~~~~~~~~~~~~~~~~~~~~~~~~~~~~~~~~\n",
        "\n",
        "\n",
        "\n",
        "Altering r2d_gouttedo.slf within /home/B61570/opentelemac/git/trunk/examples/python3/pretel\n",
        "~~~~~~~~~~~~~~~~~~~~~~~~~~~~~~~~~~~~~~~~~~~~~~~~~~~~~~~~~~~~~~~~~~~~~~~~\n",
        "\n",
        "\n",
        "\n",
        "My work is done\n",
        "\n",
        "\n",
        "\u001b[1;35m8c8\u001b[0;0m\n",
        "\u001b[1;31m< Scanning r2d_gouttedo.slf within /home/B61570/opentelemac/git/trunk/examples/python3/pretel\u001b[0;0m\n",
        "\u001b[0;0m---\u001b[0;0m\n",
        "\u001b[1;34m> Scanning r2d_gouttedo_chop.slf within /home/B61570/opentelemac/git/trunk/examples/python3/pretel\u001b[0;0m\n",
        "\u001b[1;35m38c38\u001b[0;0m\n",
        "\u001b[1;31m< Number of times : 21\u001b[0;0m\n",
        "\u001b[0;0m---\u001b[0;0m\n",
        "\u001b[1;34m> Number of times : 11\u001b[0;0m\n",
        "\u001b[1;35m41c41\u001b[0;0m\n",
        "\u001b[1;31m< Time step       : 0.2\u001b[0;0m\n",
        "\u001b[0;0m---\u001b[0;0m\n",
        "\u001b[1;34m> Time step       : 0.4\u001b[0;0m\n"
       ]
      }
     ],
     "prompt_number": 2
    },
    {
     "cell_type": "heading",
     "level": 3,
     "metadata": {},
     "source": [
      "Keeping only the last time step"
     ]
    },
    {
     "cell_type": "code",
     "collapsed": false,
     "input": [
      "%%bash\n",
      "cd $HOMETEL/examples/python3/pretel\n",
      "\n",
      "run_selafin.py scan r2d_gouttedo.slf > init.log\n",
      "\n",
      "run_selafin.py alter r2d_gouttedo.slf r2d_gouttedo_last_time_step.slf -f -1\n",
      "\n",
      "run_selafin.py scan r2d_gouttedo_last_time_step.slf > modif.log\n",
      "\n",
      "colordiff init.log modif.log"
     ],
     "language": "python",
     "metadata": {},
     "outputs": [
      {
       "output_type": "stream",
       "stream": "stdout",
       "text": [
        "\n",
        "\n",
        "Interpreting command line options\n",
        "~~~~~~~~~~~~~~~~~~~~~~~~~~~~~~~~~~~~~~~~~~~~~~~~~~~~~~~~~~~~~~~~~~~~~~~~\n",
        "\n",
        "\n",
        "\n",
        "Altering r2d_gouttedo.slf within /home/B61570/opentelemac/git/trunk/examples/python3/pretel\n",
        "~~~~~~~~~~~~~~~~~~~~~~~~~~~~~~~~~~~~~~~~~~~~~~~~~~~~~~~~~~~~~~~~~~~~~~~~\n",
        "\n",
        "\n",
        "\n",
        "My work is done\n",
        "\n",
        "\n",
        "\u001b[1;35m8c8\u001b[0;0m\n",
        "\u001b[1;31m< Scanning r2d_gouttedo.slf within /home/B61570/opentelemac/git/trunk/examples/python3/pretel\u001b[0;0m\n",
        "\u001b[0;0m---\u001b[0;0m\n",
        "\u001b[1;34m> Scanning r2d_gouttedo_last_time_step.slf within /home/B61570/opentelemac/git/trunk/examples/python3/pretel\u001b[0;0m\n",
        "\u001b[1;35m38,39c38,39\u001b[0;0m\n",
        "\u001b[1;31m< Number of times : 21\u001b[0;0m\n",
        "\u001b[1;31m< First time step : 0.0\u001b[0;0m\n",
        "\u001b[0;0m---\u001b[0;0m\n",
        "\u001b[1;34m> Number of times : 1\u001b[0;0m\n",
        "\u001b[1;34m> First time step : 4.0\u001b[0;0m\n",
        "\u001b[1;35m41c41\u001b[0;0m\n",
        "\u001b[1;31m< Time step       : 0.2\u001b[0;0m\n",
        "\u001b[0;0m---\u001b[0;0m\n",
        "\u001b[1;34m> Only one time frame\u001b[0;0m\n"
       ]
      }
     ],
     "prompt_number": 3
    },
    {
     "cell_type": "heading",
     "level": 3,
     "metadata": {},
     "source": [
      "Keeping only one variable"
     ]
    },
    {
     "cell_type": "code",
     "collapsed": false,
     "input": [
      "%%bash\n",
      "cd $HOMETEL/examples/python3/pretel\n",
      "\n",
      "run_selafin.py scan r2d_gouttedo.slf > init.log\n",
      "\n",
      "run_selafin.py alter r2d_gouttedo.slf r2d_gouttedo_no_water_depth.slf -v \"WATER DEPTH\"\n",
      "\n",
      "run_selafin.py scan r2d_gouttedo_no_water_depth.slf > modif.log\n",
      "\n",
      "colordiff init.log modif.log"
     ],
     "language": "python",
     "metadata": {},
     "outputs": [
      {
       "output_type": "stream",
       "stream": "stdout",
       "text": [
        "\n",
        "\n",
        "Interpreting command line options\n",
        "~~~~~~~~~~~~~~~~~~~~~~~~~~~~~~~~~~~~~~~~~~~~~~~~~~~~~~~~~~~~~~~~~~~~~~~~\n",
        "\n",
        "\n",
        "\n",
        "Altering r2d_gouttedo.slf within /home/B61570/opentelemac/git/trunk/examples/python3/pretel\n",
        "~~~~~~~~~~~~~~~~~~~~~~~~~~~~~~~~~~~~~~~~~~~~~~~~~~~~~~~~~~~~~~~~~~~~~~~~\n",
        "\n",
        "\n",
        "\n",
        "My work is done\n",
        "\n",
        "\n",
        "\u001b[1;35m8c8\u001b[0;0m\n",
        "\u001b[1;31m< Scanning r2d_gouttedo.slf within /home/B61570/opentelemac/git/trunk/examples/python3/pretel\u001b[0;0m\n",
        "\u001b[0;0m---\u001b[0;0m\n",
        "\u001b[1;34m> Scanning r2d_gouttedo_no_water_depth.slf within /home/B61570/opentelemac/git/trunk/examples/python3/pretel\u001b[0;0m\n",
        "\u001b[1;35m17,18d16\u001b[0;0m\n",
        "\u001b[1;31m<    - VELOCITY U      M/S             \u001b[0;0m\n",
        "\u001b[1;31m<    - VELOCITY V      M/S             \u001b[0;0m\n"
       ]
      }
     ],
     "prompt_number": 4
    },
    {
     "cell_type": "heading",
     "level": 2,
     "metadata": {},
     "source": [
      "Switching endianess"
     ]
    },
    {
     "cell_type": "code",
     "collapsed": false,
     "input": [
      "%%bash\n",
      "cd $HOMETEL/examples/python3/pretel\n",
      "\n",
      "run_selafin.py scan r2d_gouttedo.slf > init.log\n",
      "\n",
      "run_selafin.py alter r2d_gouttedo.slf r2d_gouttedo_endian.slf --endian\n",
      "\n",
      "run_selafin.py scan r2d_gouttedo_endian.slf > modif.log\n",
      "\n",
      "colordiff init.log modif.log"
     ],
     "language": "python",
     "metadata": {},
     "outputs": [
      {
       "output_type": "stream",
       "stream": "stdout",
       "text": [
        "\n",
        "\n",
        "Interpreting command line options\n",
        "~~~~~~~~~~~~~~~~~~~~~~~~~~~~~~~~~~~~~~~~~~~~~~~~~~~~~~~~~~~~~~~~~~~~~~~~\n",
        "\n",
        "\n",
        "\n",
        "Altering r2d_gouttedo.slf within /home/B61570/opentelemac/git/trunk/examples/python3/pretel\n",
        "~~~~~~~~~~~~~~~~~~~~~~~~~~~~~~~~~~~~~~~~~~~~~~~~~~~~~~~~~~~~~~~~~~~~~~~~\n",
        "\n",
        "\n",
        "\n",
        "My work is done\n",
        "\n",
        "\n",
        "\u001b[1;35m8c8\u001b[0;0m\n",
        "\u001b[1;31m< Scanning r2d_gouttedo.slf within /home/B61570/opentelemac/git/trunk/examples/python3/pretel\u001b[0;0m\n",
        "\u001b[0;0m---\u001b[0;0m\n",
        "\u001b[1;34m> Scanning r2d_gouttedo_endian.slf within /home/B61570/opentelemac/git/trunk/examples/python3/pretel\u001b[0;0m\n",
        "\u001b[1;35m11c11\u001b[0;0m\n",
        "\u001b[1;31m< This file appears to be coded in \"big endian\"\u001b[0;0m\n",
        "\u001b[0;0m---\u001b[0;0m\n",
        "\u001b[1;34m> This Selafin file appears to be coded in \"little endian\"\u001b[0;0m\n"
       ]
      }
     ],
     "prompt_number": 5
    },
    {
     "cell_type": "heading",
     "level": 2,
     "metadata": {},
     "source": [
      "Switching real precision"
     ]
    },
    {
     "cell_type": "code",
     "collapsed": false,
     "input": [
      "%%bash\n",
      "cd $HOMETEL/examples/python3/pretel\n",
      "\n",
      "run_selafin.py scan r2d_gouttedo.slf > init.log\n",
      "\n",
      "run_selafin.py alter r2d_gouttedo.slf r2d_gouttedo_float.slf --float\n",
      "\n",
      "run_selafin.py scan r2d_gouttedo_float.slf > modif.log\n",
      "\n",
      "colordiff init.log modif.log"
     ],
     "language": "python",
     "metadata": {},
     "outputs": [
      {
       "output_type": "stream",
       "stream": "stdout",
       "text": [
        "\n",
        "\n",
        "Interpreting command line options\n",
        "~~~~~~~~~~~~~~~~~~~~~~~~~~~~~~~~~~~~~~~~~~~~~~~~~~~~~~~~~~~~~~~~~~~~~~~~\n",
        "\n",
        "\n",
        "\n",
        "Altering r2d_gouttedo.slf within /home/B61570/opentelemac/git/trunk/examples/python3/pretel\n",
        "~~~~~~~~~~~~~~~~~~~~~~~~~~~~~~~~~~~~~~~~~~~~~~~~~~~~~~~~~~~~~~~~~~~~~~~~\n",
        "\n",
        "\n",
        "\n",
        "My work is done\n",
        "\n",
        "\n",
        "\u001b[1;35m8c8\u001b[0;0m\n",
        "\u001b[1;31m< Scanning r2d_gouttedo.slf within /home/B61570/opentelemac/git/trunk/examples/python3/pretel\u001b[0;0m\n",
        "\u001b[0;0m---\u001b[0;0m\n",
        "\u001b[1;34m> Scanning r2d_gouttedo_float.slf within /home/B61570/opentelemac/git/trunk/examples/python3/pretel\u001b[0;0m\n",
        "\u001b[1;35m12c12\u001b[0;0m\n",
        "\u001b[1;31m<      and the floats are assumed to be SINGLE PRECISION\u001b[0;0m\n",
        "\u001b[0;0m---\u001b[0;0m\n",
        "\u001b[1;34m>      and the floats are assumed to be DOUBLE PRECISION\u001b[0;0m\n"
       ]
      }
     ],
     "prompt_number": 6
    },
    {
     "cell_type": "markdown",
     "metadata": {},
     "source": [
      "##Modification of result value\n",
      "\n",
      "We are going to do Z = 2*Z + 10\n",
      "Also we will rename the variable WATER DEPTH by \"WATER DEPTH2    \".\n",
      "\n",
      "The new name must be 16 character long do not forget the spaces."
     ]
    },
    {
     "cell_type": "code",
     "collapsed": false,
     "input": [
      "%%bash\n",
      "cd $HOMETEL/examples/python3/pretel\n",
      "\n",
      "run_selafin.py scan --core r2d_gouttedo.slf > init.log\n",
      "\n",
      "# Modifcation of the values\n",
      "run_selafin.py alter r2d_gouttedo.slf r2d_gouttedo_new_water_depth.slf --Z?=\"WATER DEPTH\" --Z+? 10 --Z*? 2\n",
      "# Modification of the name\n",
      "run_selafin.py alter r2d_gouttedo_new_water_depth.slf --replace --name=\"WATER DEPTH=WATER DEPTH2    \"\n",
      "\n",
      "run_selafin.py scan --core r2d_gouttedo_new_water_depth.slf > modif.log\n",
      "\n",
      "colordiff init.log modif.log"
     ],
     "language": "python",
     "metadata": {},
     "outputs": [
      {
       "output_type": "stream",
       "stream": "stdout",
       "text": [
        "\n",
        "\n",
        "Interpreting command line options\n",
        "~~~~~~~~~~~~~~~~~~~~~~~~~~~~~~~~~~~~~~~~~~~~~~~~~~~~~~~~~~~~~~~~~~~~~~~~\n",
        "\n",
        "\n",
        "\n",
        "Altering r2d_gouttedo.slf within /home/B61570/opentelemac/git/trunk/examples/python3/pretel\n",
        "~~~~~~~~~~~~~~~~~~~~~~~~~~~~~~~~~~~~~~~~~~~~~~~~~~~~~~~~~~~~~~~~~~~~~~~~\n",
        "\n",
        "\n",
        "\n",
        "My work is done\n",
        "\n",
        "\n",
        "\n",
        "\n",
        "Interpreting command line options\n",
        "~~~~~~~~~~~~~~~~~~~~~~~~~~~~~~~~~~~~~~~~~~~~~~~~~~~~~~~~~~~~~~~~~~~~~~~~\n",
        "\n",
        "\n",
        "\n",
        "Altering r2d_gouttedo_new_water_depth.slf within /home/B61570/opentelemac/git/trunk/examples/python3/pretel\n",
        "~~~~~~~~~~~~~~~~~~~~~~~~~~~~~~~~~~~~~~~~~~~~~~~~~~~~~~~~~~~~~~~~~~~~~~~~\n",
        "\n",
        "\n",
        "\n",
        "My work is done\n",
        "\n",
        "\n",
        "\u001b[1;35m8c8\u001b[0;0m\n",
        "\u001b[1;31m< Scanning r2d_gouttedo.slf within /home/B61570/opentelemac/git/trunk/examples/python3/pretel\u001b[0;0m\n",
        "\u001b[0;0m---\u001b[0;0m\n",
        "\u001b[1;34m> Scanning r2d_gouttedo_new_water_depth.slf within /home/B61570/opentelemac/git/trunk/examples/python3/pretel\u001b[0;0m\n",
        "\u001b[1;35m19c19\u001b[0;0m\n",
        "\u001b[1;31m<    - WATER DEPTH     M               \u001b[0;0m\n",
        "\u001b[0;0m---\u001b[0;0m\n",
        "\u001b[1;34m>    - WATER DEPTH2    M               \u001b[0;0m\n",
        "\u001b[1;35m82,103c82,103\u001b[0;0m\n",
        "\u001b[1;31m< Variable     : WATER DEPTH     \u001b[0;0m\n",
        "\u001b[1;31m<     / Time: 0.0 / min: 2.4000000953674316 / max: 4.773152828216553\u001b[0;0m\n",
        "\u001b[1;31m<     / Time: 0.20000000298023224 / min: 2.4000000953674316 / max: 3.478931427001953\u001b[0;0m\n",
        "\u001b[1;31m<     / Time: 0.4000000059604645 / min: 2.4000000953674316 / max: 2.9701669216156006\u001b[0;0m\n",
        "\u001b[1;31m<     / Time: 0.6000000238418579 / min: 1.9761072397232056 / max: 2.902676820755005\u001b[0;0m\n",
        "\u001b[1;31m<     / Time: 0.800000011920929 / min: 1.9082965850830078 / max: 2.857975721359253\u001b[0;0m\n",
        "\u001b[1;31m<     / Time: 1.0 / min: 2.053157091140747 / max: 2.8222053050994873\u001b[0;0m\n",
        "\u001b[1;31m<     / Time: 1.2000000476837158 / min: 2.144162178039551 / max: 2.7929866313934326\u001b[0;0m\n",
        "\u001b[1;31m<     / Time: 1.399999976158142 / min: 2.187784433364868 / max: 2.7817435264587402\u001b[0;0m\n",
        "\u001b[1;31m<     / Time: 1.600000023841858 / min: 2.2149596214294434 / max: 3.084775447845459\u001b[0;0m\n",
        "\u001b[1;31m<     / Time: 1.7999999523162842 / min: 2.231989622116089 / max: 3.0441198348999023\u001b[0;0m\n",
        "\u001b[1;31m<     / Time: 2.0 / min: 2.2369260787963867 / max: 3.004875898361206\u001b[0;0m\n",
        "\u001b[1;31m<     / Time: 2.200000047683716 / min: 2.2635385990142822 / max: 3.0536575317382812\u001b[0;0m\n",
        "\u001b[1;31m<     / Time: 2.4000000953674316 / min: 2.2835769653320312 / max: 3.4220268726348877\u001b[0;0m\n",
        "\u001b[1;31m<     / Time: 2.5999999046325684 / min: 2.2078800201416016 / max: 3.022886037826538\u001b[0;0m\n",
        "\u001b[1;31m<     / Time: 2.799999952316284 / min: 2.1811394691467285 / max: 2.8764960765838623\u001b[0;0m\n",
        "\u001b[1;31m<     / Time: 3.0 / min: 2.194444417953491 / max: 2.8552663326263428\u001b[0;0m\n",
        "\u001b[1;31m<     / Time: 3.200000047683716 / min: 2.261141300201416 / max: 2.840181350708008\u001b[0;0m\n",
        "\u001b[1;31m<     / Time: 3.4000000953674316 / min: 2.158856153488159 / max: 3.0794355869293213\u001b[0;0m\n",
        "\u001b[1;31m<     / Time: 3.5999999046325684 / min: 2.0860776901245117 / max: 3.0892293453216553\u001b[0;0m\n",
        "\u001b[1;31m<     / Time: 3.799999952316284 / min: 2.070768117904663 / max: 2.8595240116119385\u001b[0;0m\n",
        "\u001b[1;31m<     / Time: 4.0 / min: 2.129861831665039 / max: 3.1280534267425537\u001b[0;0m\n",
        "\u001b[0;0m---\u001b[0;0m\n",
        "\u001b[1;34m> Variable     : WATER DEPTH2    \u001b[0;0m\n",
        "\u001b[1;34m>     / Time: 0.0 / min: 14.800000190734863 / max: 19.546306610107422\u001b[0;0m\n",
        "\u001b[1;34m>     / Time: 0.20000000298023224 / min: 14.800000190734863 / max: 16.957862854003906\u001b[0;0m\n",
        "\u001b[1;34m>     / Time: 0.4000000059604645 / min: 14.800000190734863 / max: 15.94033432006836\u001b[0;0m\n",
        "\u001b[1;34m>     / Time: 0.6000000238418579 / min: 13.952214241027832 / max: 15.805353164672852\u001b[0;0m\n",
        "\u001b[1;34m>     / Time: 0.800000011920929 / min: 13.816593170166016 / max: 15.715951919555664\u001b[0;0m\n",
        "\u001b[1;34m>     / Time: 1.0 / min: 14.106313705444336 / max: 15.644411087036133\u001b[0;0m\n",
        "\u001b[1;34m>     / Time: 1.2000000476837158 / min: 14.288324356079102 / max: 15.585973739624023\u001b[0;0m\n",
        "\u001b[1;34m>     / Time: 1.399999976158142 / min: 14.375568389892578 / max: 15.56348705291748\u001b[0;0m\n",
        "\u001b[1;34m>     / Time: 1.600000023841858 / min: 14.429919242858887 / max: 16.169551849365234\u001b[0;0m\n",
        "\u001b[1;34m>     / Time: 1.7999999523162842 / min: 14.463979721069336 / max: 16.088239669799805\u001b[0;0m\n",
        "\u001b[1;34m>     / Time: 2.0 / min: 14.473852157592773 / max: 16.00975227355957\u001b[0;0m\n",
        "\u001b[1;34m>     / Time: 2.200000047683716 / min: 14.527076721191406 / max: 16.107315063476562\u001b[0;0m\n",
        "\u001b[1;34m>     / Time: 2.4000000953674316 / min: 14.567153930664062 / max: 16.844053268432617\u001b[0;0m\n",
        "\u001b[1;34m>     / Time: 2.5999999046325684 / min: 14.415760040283203 / max: 16.045772552490234\u001b[0;0m\n",
        "\u001b[1;34m>     / Time: 2.799999952316284 / min: 14.362278938293457 / max: 15.752992630004883\u001b[0;0m\n",
        "\u001b[1;34m>     / Time: 3.0 / min: 14.38888931274414 / max: 15.710533142089844\u001b[0;0m\n",
        "\u001b[1;34m>     / Time: 3.200000047683716 / min: 14.522282600402832 / max: 15.680362701416016\u001b[0;0m\n",
        "\u001b[1;34m>     / Time: 3.4000000953674316 / min: 14.317712783813477 / max: 16.158870697021484\u001b[0;0m\n",
        "\u001b[1;34m>     / Time: 3.5999999046325684 / min: 14.172155380249023 / max: 16.17845916748047\u001b[0;0m\n",
        "\u001b[1;34m>     / Time: 3.799999952316284 / min: 14.141536712646484 / max: 15.719047546386719\u001b[0;0m\n",
        "\u001b[1;34m>     / Time: 4.0 / min: 14.259723663330078 / max: 16.256107330322266\u001b[0;0m\n"
       ]
      }
     ],
     "prompt_number": 7
    },
    {
     "cell_type": "markdown",
     "metadata": {},
     "source": [
      "##Modification of coordinates\n",
      "\n",
      "We are going to do the following modifications:\n",
      "  * X = 10*X + 2\n",
      "  * Y = 2*Y  + 5"
     ]
    },
    {
     "cell_type": "code",
     "collapsed": false,
     "input": [
      "%%bash\n",
      "cd $HOMETEL/examples/python3/pretel\n",
      "\n",
      "run_selafin.py scan r2d_gouttedo.slf > init.log\n",
      "\n",
      "run_selafin.py alter r2d_gouttedo.slf r2d_gouttedo_new_coord.slf --X*? 10 --X+? 2 --Y*? 2 --Y+? 5\n",
      "\n",
      "run_selafin.py scan r2d_gouttedo_new_coord.slf > modif.log\n",
      "\n",
      "colordiff init.log modif.log"
     ],
     "language": "python",
     "metadata": {},
     "outputs": [
      {
       "output_type": "stream",
       "stream": "stdout",
       "text": [
        "\n",
        "\n",
        "Interpreting command line options\n",
        "~~~~~~~~~~~~~~~~~~~~~~~~~~~~~~~~~~~~~~~~~~~~~~~~~~~~~~~~~~~~~~~~~~~~~~~~\n",
        "\n",
        "\n",
        "\n",
        "Altering r2d_gouttedo.slf within /home/B61570/opentelemac/git/trunk/examples/python3/pretel\n",
        "~~~~~~~~~~~~~~~~~~~~~~~~~~~~~~~~~~~~~~~~~~~~~~~~~~~~~~~~~~~~~~~~~~~~~~~~\n",
        "\n",
        "\n",
        "\n",
        "My work is done\n",
        "\n",
        "\n",
        "\u001b[1;35m8c8\u001b[0;0m\n",
        "\u001b[1;31m< Scanning r2d_gouttedo.slf within /home/B61570/opentelemac/git/trunk/examples/python3/pretel\u001b[0;0m\n",
        "\u001b[0;0m---\u001b[0;0m\n",
        "\u001b[1;34m> Scanning r2d_gouttedo_new_coord.slf within /home/B61570/opentelemac/git/trunk/examples/python3/pretel\u001b[0;0m\n",
        "\u001b[1;35m28c28\u001b[0;0m\n",
        "\u001b[1;31m< MESH         : / min: [ 0.0;0.0 ] / max: [ 20.100006103515625;20.100006103515625 ]\u001b[0;0m\n",
        "\u001b[0;0m---\u001b[0;0m\n",
        "\u001b[1;34m> MESH         : / min: [ 2.0;5.0 ] / max: [ 203.00006103515625;45.20001220703125 ]\u001b[0;0m\n"
       ]
      }
     ],
     "prompt_number": 8
    },
    {
     "cell_type": "raw",
     "metadata": {},
     "source": []
    }
   ],
   "metadata": {}
  }
 ]
}
