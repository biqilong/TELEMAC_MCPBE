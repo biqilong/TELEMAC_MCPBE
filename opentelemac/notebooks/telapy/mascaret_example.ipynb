{
 "metadata": {
  "kernelspec": {
   "display_name": "Python 3",
   "language": "python",
   "name": "python3"
  },
  "language_info": {
   "codemirror_mode": {
    "name": "ipython",
    "version": 3
   },
   "file_extension": ".py",
   "mimetype": "text/x-python",
   "name": "python",
   "nbconvert_exporter": "python",
   "pygments_lexer": "ipython3",
   "version": "3.5.3"
  },
  "name": ""
 },
 "nbformat": 3,
 "nbformat_minor": 0,
 "worksheets": [
  {
   "cells": [
    {
     "cell_type": "markdown",
     "metadata": {},
     "source": [
      "This is intended for people who want an example showing how to run Mascaret in an interactive mode with the help of the Python programming language."
     ]
    },
    {
     "cell_type": "heading",
     "level": 1,
     "metadata": {},
     "source": [
      "Import Mascaret as a Python module"
     ]
    },
    {
     "cell_type": "code",
     "collapsed": false,
     "input": [
      "import telapy.api.masc"
     ],
     "language": "python",
     "metadata": {},
     "outputs": [],
     "prompt_number": 1
    },
    {
     "cell_type": "markdown",
     "metadata": {},
     "source": [
      "The module 'telapy.api.masc' is located in the '$HOMETEL/scripts/python27/TelApy/api' directory. If an error occurs while attempting to import, check the value of the environment variable PYTHONPATH."
     ]
    },
    {
     "cell_type": "heading",
     "level": 1,
     "metadata": {},
     "source": [
      "Creation of a model (instantiation)"
     ]
    },
    {
     "cell_type": "markdown",
     "metadata": {},
     "source": [
      "The creation of a model consists in the creation of an instance and the Fortran memory allocation\n",
      "The argument \"iprint\" indicates if listing file will be writing (iprint = 1) or not (iprint = 0)"
     ]
    },
    {
     "cell_type": "code",
     "collapsed": false,
     "input": [
      "from telapy.api.masc import Mascaret\n",
      "\n",
      "# Creation of a model in the instance 1\n",
      "masc = Mascaret()\n",
      "masc.create_mascaret(iprint=1)\n",
      "print('Instance #', masc.id_masc.value)\n",
      "\n",
      "# Creation of another model in the instance 2\n",
      "masc_2 = Mascaret()\n",
      "masc_2.create_mascaret(iprint=0)\n",
      "print('Instance #', masc_2.id_masc.value)"
     ],
     "language": "python",
     "metadata": {},
     "outputs": [
      {
       "output_type": "stream",
       "stream": "stderr",
       "text": [
        "INFO:telapy.api.masc:Using MascaretApi\n",
        "INFO:telapy.api.masc:Loading libmascaret.so...\n",
        "INFO:telapy.api.masc:Library loaded.\n",
        "INFO:telapy.api.masc:Using MascaretApi\n",
        "INFO:telapy.api.masc:Loading libmascaret.so...\n",
        "INFO:telapy.api.masc:Library loaded.\n"
       ]
      },
      {
       "output_type": "stream",
       "stream": "stdout",
       "text": [
        "Instance # 1\n",
        "Instance # 2\n"
       ]
      }
     ],
     "prompt_number": 2
    },
    {
     "cell_type": "heading",
     "level": 1,
     "metadata": {},
     "source": [
      "Prepare path and files for simulation"
     ]
    },
    {
     "cell_type": "code",
     "collapsed": false,
     "input": [
      "# Changing of directory : 'examples' directory of the Telemac sources\n",
      "import os\n",
      "HOMETEL = os.environ.get('HOMETEL')\n",
      "os.chdir(HOMETEL + '/examples/mascaret/Test2')\n",
      "\n",
      "# Mascaret files:\n",
      "#  - files_name : list of file names needed for the simulation\n",
      "#  - files_type : list of the extension of files (with same index)\n",
      "# Warning : for listin file the extension is 'listing'\n",
      "files_name = ['mascaret.xcas', 'geometrie', 'hydrogramme.loi',\n",
      "              'limnigramme.loi', 'mascaret0.lis', 'mascaret0.opt',\n",
      "              'init.lig']\n",
      "files_type = ['xcas', 'geo', 'loi', 'loi', 'listing', 'res', 'lig']\n",
      "\n",
      "# The two lists can be encapsulated in a single one\n",
      "study_files = [files_name, files_type]\n",
      "\n",
      "#  Mascaret files & import for second instance\n",
      "files_name_2 = ['sarap.xcas', 'geometrie', 'hydrogramme.loi',\n",
      "              'limnigramme.loi', 'mascaret0.lis', 'mascaret0.opt']\n",
      "files_type_2 = ['xcas', 'geo', 'loi', 'loi', 'listing', 'res']\n",
      "study_files_2 = [files_name_2, files_type_2]\n"
     ],
     "language": "python",
     "metadata": {},
     "outputs": [],
     "prompt_number": 3
    },
    {
     "cell_type": "heading",
     "level": 1,
     "metadata": {},
     "source": [
      "Import model from existing files"
     ]
    },
    {
     "cell_type": "markdown",
     "metadata": {},
     "source": [
      "The method \"import_model\" reads the steering case and open input and output files"
     ]
    },
    {
     "cell_type": "code",
     "collapsed": false,
     "input": [
      "# import model 1\n",
      "masc.import_model(study_files[0], study_files[1])\n",
      "\n",
      "# import model 2\n",
      "masc_2.import_model(study_files_2[0], study_files_2[1])"
     ],
     "language": "python",
     "metadata": {},
     "outputs": [
      {
       "output_type": "stream",
       "stream": "stderr",
       "text": [
        "INFO:telapy.api.masc:Model imported with:\n",
        "-> file_name: [b'mascaret.xcas', b'geometrie', b'hydrogramme.loi', b'limnigramme.loi', b'mascaret0.lis', b'mascaret0.opt', b'init.lig']\n",
        "-> file_type: [b'xcas', b'geo', b'loi', b'loi', b'listing', b'res', b'lig'].\n",
        "INFO:telapy.api.masc:Model imported with:\n",
        "-> file_name: [b'sarap.xcas', b'geometrie', b'hydrogramme.loi', b'limnigramme.loi', b'mascaret0.lis', b'mascaret0.opt']\n",
        "-> file_type: [b'xcas', b'geo', b'loi', b'loi', b'listing', b'res'].\n"
       ]
      }
     ],
     "prompt_number": 4
    },
    {
     "cell_type": "heading",
     "level": 1,
     "metadata": {},
     "source": [
      "Initialization of the model"
     ]
    },
    {
     "cell_type": "markdown",
     "metadata": {},
     "source": [
      "A Mascaret model in Python can be initialize : \n",
      " - from Lidop file (.lig) with \"init_hydro_from_file\" method \n",
      " - with lists for Q (discharge) and Z (free surface elevation) at T=0 with \"init_hydro\" method\n",
      "\n",
      "This second way to initialize the model is the occasion to introduce the method \"get_var_size\" which is returning the size of a variable for every dimension of the variable (max 3 dimensions)."
     ]
    },
    {
     "cell_type": "code",
     "collapsed": false,
     "input": [
      "# Initialization with init_hydro_from_file\n",
      "masc.init_hydro_from_file('init.lig')\n",
      "\n",
      "# Initialization of the second instance with init_hydro\n",
      "npoin_2 = masc_2.get_var_size('Model.X')[0]\n",
      "print(npoin_2)\n",
      "print(\"Number of sections in model #2 :\", npoin_2, \"\\n\")\n",
      "help(masc_2.get_var_size)\n",
      "\n",
      "z_val = [0.]*npoin_2\n",
      "q_val = [0.]*npoin_2\n",
      "masc_2.init_hydro(z_val, q_val)\n",
      "\n",
      "help(masc_2.init_hydro)"
     ],
     "language": "python",
     "metadata": {},
     "outputs": [
      {
       "output_type": "stream",
       "stream": "stdout",
       "text": [
        "500\n",
        "Number of sections in model #2 : 500 \n",
        "\n",
        "Help on method get_var_size in module telapy.api.masc:\n",
        "\n",
        "get_var_size(var_name, index=0) method of telapy.api.masc.Mascaret instance\n",
        "    Get the size(s) of a Mascaret variable\n",
        "    \n",
        "    Use Mascaret Api :meth:`C_GET_TAILLE_VAR_MASCARET`\n",
        "    \n",
        "    @param str var_name: name of the Mascaret variable\n",
        "    @param int index: only for cross-sections, graphs, weirs,\n",
        "                      junctions, storage areas\n",
        "    :return: sizes\n",
        "    :rtype: int, int, int\n",
        "\n",
        "Help on method init_hydro in module telapy.api.masc:\n",
        "\n",
        "init_hydro(z_val, q_val) method of telapy.api.masc.Mascaret instance\n",
        "    Initialize the model from hydraulic values\n",
        "    \n",
        "    Mascaret Api :meth:`C_INIT_LIGNE_MASCARET`\n",
        "    \n",
        "    @param z_val list or array: water levels (m)\n",
        "    @param q_val list or array: discharges (m3/s)\n",
        "\n"
       ]
      }
     ],
     "prompt_number": 5
    },
    {
     "cell_type": "heading",
     "level": 1,
     "metadata": {},
     "source": [
      "Get the number of time steps"
     ]
    },
    {
     "cell_type": "code",
     "collapsed": false,
     "input": [
      "help(masc.get)"
     ],
     "language": "python",
     "metadata": {},
     "outputs": [
      {
       "output_type": "stream",
       "stream": "stdout",
       "text": [
        "Help on method get in module telapy.api.masc:\n",
        "\n",
        "get(varname, i=0, j=0, k=0) method of telapy.api.masc.Mascaret instance\n",
        "    Get the value of a variable of Mascaret\n",
        "    \n",
        "    @param varname Name of the variable\n",
        "    @param i index on first dimension\n",
        "    @param j index on second dimension\n",
        "    @param k index on third dimension\n",
        "    \n",
        "    :return: scalar value\n",
        "\n"
       ]
      }
     ],
     "prompt_number": 6
    },
    {
     "cell_type": "code",
     "collapsed": false,
     "input": [
      "number_of_time_steps = masc.get('Model.MaxNbTimeStep', 1, 0, 0)\n",
      "print(\"Number of time steps in model #1 :\", number_of_time_steps)"
     ],
     "language": "python",
     "metadata": {},
     "outputs": [
      {
       "output_type": "stream",
       "stream": "stdout",
       "text": [
        "Number of time steps in model #1 : 2000\n"
       ]
      }
     ],
     "prompt_number": 7
    },
    {
     "cell_type": "markdown",
     "metadata": {},
     "source": [
      "# Simulation and extract results\n",
      "\n",
      "## 1.1 model #2 : Steady state computation with one step"
     ]
    },
    {
     "cell_type": "code",
     "collapsed": false,
     "input": [
      "masc_2.compute(0., 1., 1.)"
     ],
     "language": "python",
     "metadata": {},
     "outputs": [],
     "prompt_number": 8
    },
    {
     "cell_type": "heading",
     "level": 2,
     "metadata": {},
     "source": [
      "1.2 model #2 : Get some results and draw them in a graph"
     ]
    },
    {
     "cell_type": "code",
     "collapsed": false,
     "input": [
      "z_res, q_res = masc_2.get_hydro()\n",
      "\n",
      "x_2 = []\n",
      "\n",
      "for i in range(npoin_2):\n",
      "    x_2.append(masc.get('Model.X', i, 1, 0))\n"
     ],
     "language": "python",
     "metadata": {},
     "outputs": [],
     "prompt_number": 9
    },
    {
     "cell_type": "code",
     "collapsed": false,
     "input": [
      "%matplotlib inline\n",
      "from matplotlib import pyplot as plt\n",
      "from postel.plot1d import plot1d\n",
      "\n",
      "#Initialising figure\n",
      "fig, (ax1,ax2) = plt.subplots(2,1,figsize=(10,10))\n",
      "\n",
      "plot1d(ax1, x_2, z_res, \n",
      "       x_label='abscissa (m)',\n",
      "       y_label='free surface elevation (m)', \n",
      "       plot_label='Model #2 - Permanent Kernel (Sarap)')\n",
      "\n",
      "plot1d(ax2, x_2, q_res, \n",
      "       x_label='abscissa (m)',\n",
      "       y_label='discharge (m3/s)', \n",
      "       plot_label='Model #2 - Permanent Kernel (Sarap)')\n",
      "\n",
      "ax1.set_ylim(min(z_res), max(z_res))\n",
      "\n",
      "# Displaying legend\n",
      "ax1.legend()\n",
      "ax2.legend()\n",
      "\n",
      "# Showing figure\n",
      "plt.show()\n",
      "\n",
      "del(masc_2)"
     ],
     "language": "python",
     "metadata": {},
     "outputs": [
      {
       "metadata": {},
       "output_type": "display_data",
       "png": "[encoded data removed]",
       "text": [
        "<matplotlib.figure.Figure at 0x7f70378b81d0>"
       ]
      }
     ],
     "prompt_number": 10
    },
    {
     "cell_type": "heading",
     "level": 2,
     "metadata": {},
     "source": [
      "2. model #1 : Computation with loop and dynamic extraction"
     ]
    },
    {
     "cell_type": "code",
     "collapsed": false,
     "input": [
      "# Steady state computation with one step\n",
      "output_freq = 1000\n",
      "T_init = 0\n",
      "T_end = output_freq\n",
      "\n",
      "npoin = masc.get_var_size('Model.X')[0]\n",
      "\n",
      "X_1 = []\n",
      "for i in range(npoin):\n",
      "    X_1.append(masc.get('Model.X', i, 1, 0))\n",
      "\n",
      "\n",
      "long_profiles = []\n",
      "times = []\n",
      "for i in range(0, number_of_time_steps + 1, output_freq):\n",
      "    long_profile = []\n",
      "    masc.compute(T_init, T_end, 1.)\n",
      "    for j in range(npoin):\n",
      "        long_profile.append(masc.get('State.Z', j, 1, 0))\n",
      "    T_init = T_end\n",
      "    T_end += output_freq\n",
      "    long_profiles.append(long_profile)\n",
      "    times.append(i)\n",
      "\n",
      "#Initialising figure\n",
      "fig, ax = plt.subplots(figsize=(10,5))\n",
      "    \n",
      "for i, profile in enumerate(long_profiles):\n",
      "    plot1d(ax, X_1, profile, \n",
      "           x_label='abscisa (m)',\n",
      "           y_label='free surface elevation (m)', \n",
      "           plot_label='T = {}s'.format(times[i]))\n",
      "\n",
      "# Displaying legend\n",
      "ax.legend()\n",
      "\n",
      "# Showing figure\n",
      "plt.show()\n",
      "\n",
      "del(plt)\n",
      "del(masc)"
     ],
     "language": "python",
     "metadata": {},
     "outputs": [
      {
       "metadata": {},
       "output_type": "display_data",
       "png": "[encoded data removed]",
       "text": [
        "<matplotlib.figure.Figure at 0x7f70402626a0>"
       ]
      }
     ],
     "prompt_number": 11
    },
    {
     "cell_type": "code",
     "collapsed": false,
     "input": [],
     "language": "python",
     "metadata": {},
     "outputs": [],
     "prompt_number": null
    }
   ],
   "metadata": {}
  }
 ]
}
