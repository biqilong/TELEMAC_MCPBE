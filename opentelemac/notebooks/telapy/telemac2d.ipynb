{
 "cells": [
  {
   "cell_type": "markdown",
   "metadata": {},
   "source": [
    "<span style=\"float:left;\">Licence CC BY-SA</span><span style=\"float:right;\">Fabrice Zaoui&nbsp;</span><br/>\n",
    "___"
   ]
  },
  {
   "cell_type": "markdown",
   "metadata": {},
   "source": [
    "This tutorial is intended for people who want to run Telemac 2D in an interactive mode with the help of the Python programming language. The interactive mode means that communication with Telemac becomes possible throughout the simulation without having to stop it. One can easily set or get the value of any variables at each time step with the help of special communication functions: the [Application Programming Interfaces](https://en.wikipedia.org/wiki/Application_programming_interface) (API).\n",
    "\n",
    "By using the APIs, research and engineering with Telemac is encouraged in every fields where communication is crucial: optimization, code coupling, control system, sensitivity analysis and so on."
   ]
  },
  {
   "cell_type": "markdown",
   "metadata": {},
   "source": [
    "# Telemac 2D as a Python module"
   ]
  },
  {
   "cell_type": "markdown",
   "metadata": {},
   "source": [
    "## Building the interface"
   ]
  },
  {
   "cell_type": "markdown",
   "metadata": {},
   "source": [
    "When using Telemac in a classic way (i.e. without API), you first have to compile all the Fortran sources of Telemac with (for example) the following command:"
   ]
  },
  {
   "cell_type": "code",
   "execution_count": 1,
   "metadata": {},
   "outputs": [
    {
     "name": "stdout",
     "output_type": "stream",
     "text": [
      "\n",
      "\n",
      "Loading Options and Configurations\n",
      "~~~~~~~~~~~~~~~~~~~~~~~~~~~~~~~~~~~~~~~~~~~~~~~~~~~~~~~~~~~~~~~~~~~~~~~~\n",
      "\n",
      "  _                        _    \n",
      " | |                      | |   \n",
      " | |_  _ __  _   _  _ __  | | __\n",
      " | __|| '__|| | | || '_ \\ | |/ /\n",
      " | |_ | |   | |_| || | | ||   < \n",
      "  \\__||_|    \\__,_||_| |_||_|\\_\\\n",
      "                                \n",
      "                                \n",
      "\n",
      "\n",
      "   _____   ___              __               _                       \n",
      "  / ____| / _ \\            / _|             | |                      \n",
      " | (___  | (_) |     __ _ | |_   ___   _ __ | |_  _ __   __ _  _ __  \n",
      "  \\___ \\  \\__, |    / _` ||  _| / _ \\ | '__|| __|| '__| / _` || '_ \\ \n",
      "  ____) |   / /  _ | (_| || |  | (_) || |   | |_ | |   | (_| || | | |\n",
      " |_____/   /_/  (_) \\__, ||_|   \\___/ |_|    \\__||_|    \\__,_||_| |_|\n",
      "                     __/ |                                           \n",
      "                    |___/                                            \n",
      "Scanning the source code for:\n",
      "~~~~~~~~~~~~~~~~~~~~~~~~~~~~~~~~~~~~~~~~~~~~~~~~~~~~~~~~~~~~~~~~~~~~~~~~\n",
      "\n",
      "\n",
      "\n",
      "~~~~~~~~~~~~~~~~~~~~~~~~~~~~~~~~~~~~~~~~~~~~~~~~~~~~~~~~~~~~~~~~~~~~~~~~\n",
      "\n",
      "S9.gfortran: \n",
      "    \n",
      "\n",
      "    +> Gfortran compiler 6.3.2 with open_mpi for a debian 9\n",
      "\n",
      "    +> root:    /home/B61570/opentelemac/git/trunk\n",
      "    +> module: ad / api / artemis / bief\n",
      "               damocles  / gaia  / gretel  / hermes\n",
      "               identify_liq_bnd  / khione  / mascaret  / nestor\n",
      "               parallel  / partel  / postel3d  / sisyphe\n",
      "               special  / stbtel  / telemac2d  / telemac3d\n",
      "               tomawac / waqtel\n",
      "\n",
      "\n",
      "Compiling from the tree top api plus dependents\n",
      "~~~~~~~~~~~~~~~~~~~~~~~~~~~~~~~~~~~~~~~~~~~~~~~~~~~~~~~~~~~~~~~~~~~~~~~~\n",
      "\n",
      "        +> There is no need to compile any object\n",
      "        +> There is no need to package any library\n",
      "        +> There is no need to create the associate executable\n",
      "\n",
      "\n",
      "Compiling from the tree top artemis plus dependents\n",
      "~~~~~~~~~~~~~~~~~~~~~~~~~~~~~~~~~~~~~~~~~~~~~~~~~~~~~~~~~~~~~~~~~~~~~~~~\n",
      "\n",
      "        +> There is no need to compile any object\n",
      "        +> There is no need to package any library\n",
      "        +> There is no need to create the associate executable\n",
      "\n",
      "\n",
      "Compiling from the tree top damocles plus dependents\n",
      "~~~~~~~~~~~~~~~~~~~~~~~~~~~~~~~~~~~~~~~~~~~~~~~~~~~~~~~~~~~~~~~~~~~~~~~~\n",
      "\n",
      "        +> There is no need to compile any object\n",
      "        +> There is no need to package any library\n",
      "        +> There is no need to create the associate executable\n",
      "\n",
      "\n",
      "Compiling from the tree top gredelhyd_autop plus dependents\n",
      "~~~~~~~~~~~~~~~~~~~~~~~~~~~~~~~~~~~~~~~~~~~~~~~~~~~~~~~~~~~~~~~~~~~~~~~~\n",
      "\n",
      "        +> There is no need to compile any object\n",
      "        +> There is no need to package any library\n",
      "        +> There is no need to create the associate executable\n",
      "\n",
      "\n",
      "Compiling from the tree top gredelmet_autop plus dependents\n",
      "~~~~~~~~~~~~~~~~~~~~~~~~~~~~~~~~~~~~~~~~~~~~~~~~~~~~~~~~~~~~~~~~~~~~~~~~\n",
      "\n",
      "        +> There is no need to compile any object\n",
      "        +> There is no need to package any library\n",
      "        +> There is no need to create the associate executable\n",
      "\n",
      "\n",
      "Compiling from the tree top gredelpts_autop plus dependents\n",
      "~~~~~~~~~~~~~~~~~~~~~~~~~~~~~~~~~~~~~~~~~~~~~~~~~~~~~~~~~~~~~~~~~~~~~~~~\n",
      "\n",
      "        +> There is no need to compile any object\n",
      "        +> There is no need to package any library\n",
      "        +> There is no need to create the associate executable\n",
      "\n",
      "\n",
      "Compiling from the tree top gredelseg_autop plus dependents\n",
      "~~~~~~~~~~~~~~~~~~~~~~~~~~~~~~~~~~~~~~~~~~~~~~~~~~~~~~~~~~~~~~~~~~~~~~~~\n",
      "\n",
      "        +> There is no need to compile any object\n",
      "        +> There is no need to package any library\n",
      "        +> There is no need to create the associate executable\n",
      "\n",
      "\n",
      "Compiling from the tree top gretel plus dependents\n",
      "~~~~~~~~~~~~~~~~~~~~~~~~~~~~~~~~~~~~~~~~~~~~~~~~~~~~~~~~~~~~~~~~~~~~~~~~\n",
      "\n",
      "        +> There is no need to compile any object\n",
      "        +> There is no need to package any library\n",
      "        +> There is no need to create the associate executable\n",
      "\n",
      "\n",
      "Compiling from the tree top identify_liq_bnd plus dependents\n",
      "~~~~~~~~~~~~~~~~~~~~~~~~~~~~~~~~~~~~~~~~~~~~~~~~~~~~~~~~~~~~~~~~~~~~~~~~\n",
      "\n",
      "        +> There is no need to compile any object\n",
      "        +> There is no need to package any library\n",
      "        +> There is no need to create the associate executable\n",
      "\n",
      "\n",
      "Compiling from the tree top HOMERE_MASCARET plus dependents\n",
      "~~~~~~~~~~~~~~~~~~~~~~~~~~~~~~~~~~~~~~~~~~~~~~~~~~~~~~~~~~~~~~~~~~~~~~~~\n",
      "\n",
      "        +> There is no need to compile any object\n",
      "        +> There is no need to compile C object\n",
      "        +> There is no need to compile C object\n",
      "    - completed: .../trunk/builds/S9.gfortran/lib/mascaret.so\n",
      "        +> There is no need to create the associate executable\n",
      "\n",
      "\n",
      "Compiling from the tree top partel plus dependents\n",
      "~~~~~~~~~~~~~~~~~~~~~~~~~~~~~~~~~~~~~~~~~~~~~~~~~~~~~~~~~~~~~~~~~~~~~~~~\n",
      "\n",
      "        +> There is no need to compile any object\n",
      "        +> There is no need to package any library\n",
      "        +> There is no need to create the associate executable\n",
      "\n",
      "\n",
      "Compiling from the tree top partel_para plus dependents\n",
      "~~~~~~~~~~~~~~~~~~~~~~~~~~~~~~~~~~~~~~~~~~~~~~~~~~~~~~~~~~~~~~~~~~~~~~~~\n",
      "\n",
      "        +> There is no need to compile any object\n",
      "        +> There is no need to package any library\n",
      "        +> There is no need to create the associate executable\n",
      "\n",
      "\n",
      "Compiling from the tree top partel_prelim plus dependents\n",
      "~~~~~~~~~~~~~~~~~~~~~~~~~~~~~~~~~~~~~~~~~~~~~~~~~~~~~~~~~~~~~~~~~~~~~~~~\n",
      "\n",
      "        +> There is no need to compile any object\n",
      "        +> There is no need to package any library\n",
      "        +> There is no need to create the associate executable\n",
      "\n",
      "\n",
      "Compiling from the tree top postel3d plus dependents\n",
      "~~~~~~~~~~~~~~~~~~~~~~~~~~~~~~~~~~~~~~~~~~~~~~~~~~~~~~~~~~~~~~~~~~~~~~~~\n",
      "\n",
      "        +> There is no need to compile any object\n",
      "        +> There is no need to package any library\n",
      "        +> There is no need to create the associate executable\n",
      "\n",
      "\n",
      "Compiling from the tree top sisyphe plus dependents\n",
      "~~~~~~~~~~~~~~~~~~~~~~~~~~~~~~~~~~~~~~~~~~~~~~~~~~~~~~~~~~~~~~~~~~~~~~~~\n",
      "\n",
      "        +> There is no need to compile any object\n",
      "        +> There is no need to package any library\n",
      "        +> There is no need to create the associate executable\n",
      "\n",
      "\n",
      "Compiling from the tree top stbtel plus dependents\n",
      "~~~~~~~~~~~~~~~~~~~~~~~~~~~~~~~~~~~~~~~~~~~~~~~~~~~~~~~~~~~~~~~~~~~~~~~~\n",
      "\n",
      "        +> There is no need to compile any object\n",
      "        +> There is no need to package any library\n",
      "        +> There is no need to create the associate executable\n",
      "\n",
      "\n",
      "Compiling from the tree top telemac2d plus dependents\n",
      "~~~~~~~~~~~~~~~~~~~~~~~~~~~~~~~~~~~~~~~~~~~~~~~~~~~~~~~~~~~~~~~~~~~~~~~~\n",
      "\n",
      "        +> There is no need to compile any object\n",
      "        +> There is no need to package any library\n",
      "        +> There is no need to create the associate executable\n",
      "\n",
      "\n",
      "Compiling from the tree top telemac3d plus dependents\n",
      "~~~~~~~~~~~~~~~~~~~~~~~~~~~~~~~~~~~~~~~~~~~~~~~~~~~~~~~~~~~~~~~~~~~~~~~~\n",
      "\n",
      "        +> There is no need to compile any object\n",
      "        +> There is no need to package any library\n",
      "        +> There is no need to create the associate executable\n",
      "\n",
      "\n",
      "Compiling from the tree top tomawac plus dependents\n",
      "~~~~~~~~~~~~~~~~~~~~~~~~~~~~~~~~~~~~~~~~~~~~~~~~~~~~~~~~~~~~~~~~~~~~~~~~\n",
      "\n",
      "        +> There is no need to compile any object\n",
      "        +> There is no need to package any library\n",
      "        +> There is no need to create the associate executable\n",
      "\n",
      "Building the Python API \n",
      "~~~~~~~~~~~~~~~~~~~~~~~~~~~~~~~~~~~~~~~~~~~~~~~~~~~~~~~~~~~~~~~~~~~~~~~~\n",
      "\n",
      "    ~> Wrap_api built\n",
      "    ~> Compiling Modules api\n",
      "    ~> First part of f2py for api passed\n",
      "    ~> Second part of f2py of api passed\n",
      "    ~> Compiling hermes api\n",
      "    ~> First part of f2py for hermes passed\n",
      "    ~> Second part of f2py of hermes passed\n",
      "\n",
      "\n",
      "My work is done\n",
      "\n",
      "\n"
     ]
    }
   ],
   "source": [
    "%%bash\n",
    "compile_telemac.py"
   ]
  },
  {
   "cell_type": "markdown",
   "metadata": {
    "collapsed": true
   },
   "source": [
    "*Note: if an error occurs, check for the environment variables HOMETEL and SYSTELCFG before running the previous command.*"
   ]
  },
  {
   "cell_type": "markdown",
   "metadata": {},
   "source": [
    "If the compilation is successful, you will then run Telemac on your test case providing a steering file:"
   ]
  },
  {
   "cell_type": "code",
   "execution_count": 2,
   "metadata": {},
   "outputs": [
    {
     "name": "stdout",
     "output_type": "stream",
     "text": [
      "\n",
      "\n",
      "Loading Options and Configurations\n",
      "~~~~~~~~~~~~~~~~~~~~~~~~~~~~~~~~~~~~~~~~~~~~~~~~~~~~~~~~~~~~~~~~~~~~~~~~\n",
      "\n",
      "usage: telemac2d.py [-h] [-c config name] [-f config file] [-r TELEMAC root]\n",
      "                    [-s] [-t] [-w W_DIR] [--nozip] [--jobname JOBNAME]\n",
      "                    [--queue HPC_QUEUE] [--walltime WALLTIME] [--email EMAIL]\n",
      "                    [--hosts HOSTS] [--ncsize NCSIZE] [--nctile NCTILE]\n",
      "                    [--ncnode NCNODE] [--sequential] [--mpi]\n",
      "                    [--split | --run | -x | --merge] [--use-link]\n",
      "                    cas files) [cas file(s ...]\n",
      "\n",
      "telemac2d.py is one of the execution launcher for the TELEMAC system.\n",
      "            \n",
      "\n",
      "positional arguments:\n",
      "  cas file(s)\n",
      "\n",
      "optional arguments:\n",
      "  -h, --help            show this help message and exit\n",
      "  -c config name, --configname config name\n",
      "                        specify configuration name, default is randomly found\n",
      "                        in the configuration file\n",
      "  -f config file, --configfile config file\n",
      "                        specify configuration file, default is systel.cfg\n",
      "  -r TELEMAC root, --rootdir TELEMAC root\n",
      "                        specify the root, default is taken from config file\n",
      "  -s, --sortiefile      specify whether there is a sortie file, default is no\n",
      "  -t, --tmpdirectory    specify whether the temporary directory is removed,\n",
      "                        default is yes\n",
      "  -w W_DIR, --workdirectory W_DIR\n",
      "                        specify whether to re-run within a defined\n",
      "                        subdirectory\n",
      "  --nozip               specify whether to zip the extra sortie file if\n",
      "                        simulation in parallel\n",
      "  --jobname JOBNAME     specify a jobname for HPC queue tracking\n",
      "  --queue HPC_QUEUE     specify a queue for HPC queue tracking\n",
      "  --walltime WALLTIME   specify a walltime for HPC queue tracking\n",
      "  --email EMAIL         specify an e-mail adress to warn when HPC job is\n",
      "                        finished\n",
      "  --hosts HOSTS         specify the list of hosts available for parallel mode,\n",
      "                        ';' delimited\n",
      "  --ncsize NCSIZE       the number of processors forced in parallel mode\n",
      "  --nctile NCTILE       the number of core per node. ncsize/nctile is the\n",
      "                        number of compute nodes\n",
      "  --ncnode NCNODE       the number of of nodes. ncsize = ncnode*nctile is the\n",
      "                        total number of compute nodes\n",
      "  --sequential          if present, imposes that multiple CAS files are\n",
      "                        launched one after the other\n",
      "  --mpi                 make sure the mpi command is executed, ignoring any\n",
      "                        hpc command\n",
      "  --split               will only do the trace (and the split in parallel) if\n",
      "                        option there\n",
      "  --run                 will only run the simulation if option there\n",
      "  -x, --compileonly     specify whether to only create an executable but not\n",
      "                        run, default is no\n",
      "  --merge               will only do the output copying (and recollection in\n",
      "                        parallel) if option there\n",
      "  --use-link            Will use link instead of copy in the temporary folder\n",
      "                        (Unix system only)\n",
      "\n",
      "examples:\n",
      "---------\n",
      "1:     => telemac2d.py -s t2d.cas\n",
      "---------\n"
     ]
    }
   ],
   "source": [
    "%%bash\n",
    "telemac2d.py -h"
   ]
  },
  {
   "cell_type": "markdown",
   "metadata": {},
   "source": [
    "*Note: as the name of the steering file here is fictive, no computation is done*"
   ]
  },
  {
   "cell_type": "markdown",
   "metadata": {},
   "source": [
    "The previous command requires all the static librairies to be linked with the Fortran user file in an executable. When using the API with Python, it is the dynamic libraries of the Telemac system that are used."
   ]
  },
  {
   "cell_type": "markdown",
   "metadata": {},
   "source": [
    "The interface between the Telemac libraries and the Python language is automatically created using [f2py](http://docs.scipy.org/doc/numpy-dev/f2py/). This corresponds to the compilation of the Telemac API for Python. It has to be done by adding :\n",
    "options: api\n",
    "in the configuration file (systel.cfg)"
   ]
  },
  {
   "cell_type": "markdown",
   "metadata": {},
   "source": [
    "## Using the interface"
   ]
  },
  {
   "cell_type": "markdown",
   "metadata": {},
   "source": [
    "Telemac/Python is now ready to be used as a hydrodynamic 2D solver with the import system:"
   ]
  },
  {
   "cell_type": "code",
   "execution_count": 3,
   "metadata": {},
   "outputs": [],
   "source": [
    "import telapy.api.t2d"
   ]
  },
  {
   "cell_type": "markdown",
   "metadata": {},
   "source": [
    "The module 'TelApy.api.t2d' is located in the '$HOMETEL/scripts/python27/TelApy/api' directory. If an error occurs while attempting to import, check the value of the environment variable PYTHONPATH. Alternatively you can also work with the file 'apiT2d.py' listed in your working directory.\n"
   ]
  },
  {
   "cell_type": "code",
   "execution_count": 4,
   "metadata": {},
   "outputs": [
    {
     "name": "stdout",
     "output_type": "stream",
     "text": [
      "/home/B61570/opentelemac/git/trunk/builds/S9.gfortran/wrap_api/lib:/home/B61570/opentelemac/git/trunk/scripts/python3:/home/B61570/opentelemac/git/trunk/builds/S9.gfortran/wrap_api/lib:/home/B61570/opentelemac/git/trunk/scripts/python3:\n"
     ]
    }
   ],
   "source": [
    "%%bash\n",
    "echo $PYTHONPATH"
   ]
  },
  {
   "cell_type": "markdown",
   "metadata": {},
   "source": [
    "The module 'TelApy.api.t2d' defines a class named 'Telemac2d'. The user will have to instantiate an object from this class in order to run Telemac with all the facilities offered by the API."
   ]
  },
  {
   "cell_type": "code",
   "execution_count": 5,
   "metadata": {},
   "outputs": [
    {
     "data": {
      "text/plain": [
       "<telapy.api.t2d.Telemac2d at 0x7f8214ba4278>"
      ]
     },
     "execution_count": 5,
     "metadata": {},
     "output_type": "execute_result"
    }
   ],
   "source": [
    "# Changing of directory : 'examples' directory of the Telemac sources\n",
    "import os\n",
    "HOMETEL = os.environ.get('HOMETEL')\n",
    "os.chdir(HOMETEL + '/examples/telemac2d/breach')\n",
    "\n",
    "# Instantiation of a Telemac2d object from the test case named 'breach'\n",
    "# - steering file : 't2d_breach.cas'\n",
    "# - language : french (1) or english (2: default)\n",
    "from telapy.api.t2d import Telemac2d\n",
    "from mpi4py import MPI\n",
    "my_case = Telemac2d('t2d_breach.cas', lang=1, comm=MPI.COMM_WORLD)\n",
    "my_case"
   ]
  },
  {
   "cell_type": "markdown",
   "metadata": {},
   "source": [
    "An object 'my_case' is now created. This object offers some useful methods to communicate with the Telemac computational kernel. These (non exaustive) methods are seen with:"
   ]
  },
  {
   "cell_type": "code",
   "execution_count": 6,
   "metadata": {},
   "outputs": [
    {
     "data": {
      "text/plain": [
       "['__class__',\n",
       " '__del__',\n",
       " '__delattr__',\n",
       " '__dict__',\n",
       " '__dir__',\n",
       " '__doc__',\n",
       " '__eq__',\n",
       " '__format__',\n",
       " '__ge__',\n",
       " '__getattribute__',\n",
       " '__gt__',\n",
       " '__hash__',\n",
       " '__init__',\n",
       " '__le__',\n",
       " '__lt__',\n",
       " '__module__',\n",
       " '__ne__',\n",
       " '__new__',\n",
       " '__reduce__',\n",
       " '__reduce_ex__',\n",
       " '__repr__',\n",
       " '__setattr__',\n",
       " '__sizeof__',\n",
       " '__str__',\n",
       " '__subclasshook__',\n",
       " '__weakref__',\n",
       " '_api',\n",
       " '_error',\n",
       " '_initstate',\n",
       " '_instanciated',\n",
       " '_knolg',\n",
       " '_nachb',\n",
       " '_set_parallel_array',\n",
       " '_variables',\n",
       " 'api_get_boolean',\n",
       " 'api_get_double',\n",
       " 'api_get_double_array',\n",
       " 'api_get_integer',\n",
       " 'api_get_integer_array',\n",
       " 'api_get_string',\n",
       " 'api_handle_error',\n",
       " 'api_inter',\n",
       " 'api_set_boolean',\n",
       " 'api_set_double',\n",
       " 'api_set_double_array',\n",
       " 'api_set_integer',\n",
       " 'api_set_integer_array',\n",
       " 'api_set_string',\n",
       " 'bottom',\n",
       " 'cas',\n",
       " 'casfile',\n",
       " 'code',\n",
       " 'comm',\n",
       " 'concatenation_step',\n",
       " 'coordx',\n",
       " 'coordy',\n",
       " 'depth',\n",
       " 'dicofile',\n",
       " 'dump_var_info',\n",
       " 'error',\n",
       " 'fcomm',\n",
       " 'finalize',\n",
       " 'g2l',\n",
       " 'generate_var_info',\n",
       " 'get',\n",
       " 'get_array',\n",
       " 'get_elem',\n",
       " 'get_error_message',\n",
       " 'get_mesh',\n",
       " 'get_node',\n",
       " 'get_on_polygon',\n",
       " 'get_on_range',\n",
       " 'get_state',\n",
       " 'get_var_info',\n",
       " 'get_var_size',\n",
       " 'get_var_type',\n",
       " 'hsave',\n",
       " 'init_state_default',\n",
       " 'l2g',\n",
       " 'lang',\n",
       " 'list_variables',\n",
       " 'logger',\n",
       " 'mod_handle_var',\n",
       " 'mpi_get',\n",
       " 'mpi_get_array',\n",
       " 'mpi_get_npoin',\n",
       " 'mpi_set',\n",
       " 'mpi_set_array',\n",
       " 'my_id',\n",
       " 'name',\n",
       " 'nbnodes',\n",
       " 'ncsize',\n",
       " 'nelem',\n",
       " 'parallel_run',\n",
       " 'partitionning_step',\n",
       " 'rank',\n",
       " 'restore_state',\n",
       " 'run_all_time_steps',\n",
       " 'run_allocation',\n",
       " 'run_finalize',\n",
       " 'run_init',\n",
       " 'run_one_time_step',\n",
       " 'run_read_case',\n",
       " 'run_set_config',\n",
       " 'run_timestep',\n",
       " 'save_state',\n",
       " 'set',\n",
       " 'set_array',\n",
       " 'set_bathy',\n",
       " 'set_case',\n",
       " 'set_on_polygon',\n",
       " 'set_on_range',\n",
       " 'set_state',\n",
       " 'show_mesh',\n",
       " 'show_state',\n",
       " 'stdout',\n",
       " 'tri',\n",
       " 'u_vel',\n",
       " 'usave',\n",
       " 'v_vel',\n",
       " 'variables',\n",
       " 'vsave']"
      ]
     },
     "execution_count": 6,
     "metadata": {},
     "output_type": "execute_result"
    }
   ],
   "source": [
    "dir(my_case)"
   ]
  },
  {
   "cell_type": "markdown",
   "metadata": {
    "collapsed": true
   },
   "source": [
    "# API description"
   ]
  },
  {
   "cell_type": "markdown",
   "metadata": {},
   "source": [
    "The methods listed above give access to the Fortran Telemac API and to some extra functionalities based on Python packages like 'numpy' or 'matplotlib'. The list is still uncomplete and will be improved in future."
   ]
  },
  {
   "cell_type": "markdown",
   "metadata": {},
   "source": [
    "### Get the value of a Telemac variable"
   ]
  },
  {
   "cell_type": "code",
   "execution_count": 7,
   "metadata": {},
   "outputs": [
    {
     "name": "stdout",
     "output_type": "stream",
     "text": [
      "Help on method get in module telapy.api.api_module:\n",
      "\n",
      "get(varname, i=-1, j=-1, k=-1, global_num=True) method of telapy.api.t2d.Telemac2d instance\n",
      "    Get the value of a variable of Telemac 2D\n",
      "    \n",
      "    @param varname Name of the variable\n",
      "    @param i index on first dimension\n",
      "    @param j index on second dimension\n",
      "    @param k index on third dimension\n",
      "    @param global_num Are the index on local/global numbering\n",
      "    \n",
      "    @retuns variable value\n",
      "\n"
     ]
    }
   ],
   "source": [
    "help(my_case.get)"
   ]
  },
  {
   "cell_type": "markdown",
   "metadata": {},
   "source": [
    "### Get a node number"
   ]
  },
  {
   "cell_type": "code",
   "execution_count": 8,
   "metadata": {},
   "outputs": [
    {
     "name": "stdout",
     "output_type": "stream",
     "text": [
      "Help on method get_node in module telapy.api.api_module:\n",
      "\n",
      "get_node(xval, yval) method of telapy.api.t2d.Telemac2d instance\n",
      "    Get the nearest node number for the coordinates (xval, yval).\n",
      "    \n",
      "    @param xval X coordinate.\n",
      "    @param yval Y coordinate.\n",
      "    \n",
      "    @returns An integer value from 0 to (nbnode-1).\n",
      "\n"
     ]
    }
   ],
   "source": [
    "help(my_case.get_node)"
   ]
  },
  {
   "cell_type": "markdown",
   "metadata": {},
   "source": [
    "### Get an element number"
   ]
  },
  {
   "cell_type": "code",
   "execution_count": 9,
   "metadata": {},
   "outputs": [
    {
     "name": "stdout",
     "output_type": "stream",
     "text": [
      "Help on method get_elem in module telapy.api.api_module:\n",
      "\n",
      "get_elem(xval, yval) method of telapy.api.t2d.Telemac2d instance\n",
      "    Get the triangle where the point (xval, yval) is\n",
      "    \n",
      "    @param xval X coordinate\n",
      "    @param yval Y coordinate\n",
      "    \n",
      "    @return integer value from 0 to (nbtriangle-1)\n",
      "             (-1 if no triangle found)\n",
      "\n"
     ]
    }
   ],
   "source": [
    "help(my_case.get_elem)"
   ]
  },
  {
   "cell_type": "markdown",
   "metadata": {},
   "source": [
    "### Error message from Telemac"
   ]
  },
  {
   "cell_type": "code",
   "execution_count": 10,
   "metadata": {},
   "outputs": [
    {
     "name": "stdout",
     "output_type": "stream",
     "text": [
      "Help on method get_error_message in module telapy.api.api_module:\n",
      "\n",
      "get_error_message() method of telapy.api.t2d.Telemac2d instance\n",
      "    Get the error message from the Fortran sources of Telemac 2D\n",
      "    \n",
      "    @retuns character string of the error message\n",
      "\n"
     ]
    }
   ],
   "source": [
    "help(my_case.get_error_message)"
   ]
  },
  {
   "cell_type": "markdown",
   "metadata": {},
   "source": [
    "### Mesh coordinates and connectivity"
   ]
  },
  {
   "cell_type": "code",
   "execution_count": 11,
   "metadata": {},
   "outputs": [
    {
     "name": "stdout",
     "output_type": "stream",
     "text": [
      "Help on method get_mesh in module telapy.api.api_module:\n",
      "\n",
      "get_mesh() method of telapy.api.t2d.Telemac2d instance\n",
      "    Get the 2D mesh of triangular cells\n",
      "    \n",
      "    @returns X, Y coordinates and connectivity\n",
      "\n"
     ]
    }
   ],
   "source": [
    "help(my_case.get_mesh)"
   ]
  },
  {
   "cell_type": "markdown",
   "metadata": {},
   "source": [
    "### Hydraulic state"
   ]
  },
  {
   "cell_type": "code",
   "execution_count": 12,
   "metadata": {},
   "outputs": [
    {
     "name": "stdout",
     "output_type": "stream",
     "text": [
      "Help on method get_state in module telapy.api.t2d:\n",
      "\n",
      "get_state() method of telapy.api.t2d.Telemac2d instance\n",
      "    Get the hydraulic state\n",
      "    \n",
      "    @retuns the hydraulic state: depth (m) .. u_vel (m/s) .. v_vel (m/s)\n",
      "\n"
     ]
    }
   ],
   "source": [
    "help(my_case.get_state)"
   ]
  },
  {
   "cell_type": "code",
   "execution_count": 13,
   "metadata": {},
   "outputs": [
    {
     "name": "stdout",
     "output_type": "stream",
     "text": [
      "Help on method set_state in module telapy.api.t2d:\n",
      "\n",
      "set_state(hval, uval, vval) method of telapy.api.t2d.Telemac2d instance\n",
      "    Set the hydraulic state: hval (m) .. uval (m/s) .. vval (m/s)\n",
      "    \n",
      "    @param hval Water depth value\n",
      "    @param uval Velocity U value\n",
      "    @param vval Velocity V value\n",
      "\n"
     ]
    }
   ],
   "source": [
    "help(my_case.set_state)"
   ]
  },
  {
   "cell_type": "markdown",
   "metadata": {},
   "source": [
    "### Read the steering file"
   ]
  },
  {
   "cell_type": "code",
   "execution_count": 14,
   "metadata": {},
   "outputs": [
    {
     "name": "stdout",
     "output_type": "stream",
     "text": [
      "Help on method set_case in module telapy.api.api_module:\n",
      "\n",
      "set_case(init=True) method of telapy.api.t2d.Telemac2d instance\n",
      "    Read the steering file\n",
      "    \n",
      "    @param init (boolean) If true calling p_init\n",
      "\n"
     ]
    }
   ],
   "source": [
    "help(my_case.set_case)"
   ]
  },
  {
   "cell_type": "markdown",
   "metadata": {},
   "source": [
    "### State initialisation"
   ]
  },
  {
   "cell_type": "code",
   "execution_count": 15,
   "metadata": {},
   "outputs": [
    {
     "name": "stdout",
     "output_type": "stream",
     "text": [
      "Help on method init_state_default in module telapy.api.api_module:\n",
      "\n",
      "init_state_default() method of telapy.api.t2d.Telemac2d instance\n",
      "    Initialize the state of the model Telemac 2D with the values of\n",
      "    disharges and water levels as indicated by the steering file\n",
      "\n"
     ]
    }
   ],
   "source": [
    "help(my_case.init_state_default)"
   ]
  },
  {
   "cell_type": "markdown",
   "metadata": {},
   "source": [
    "### Save a state"
   ]
  },
  {
   "cell_type": "code",
   "execution_count": 16,
   "metadata": {},
   "outputs": [
    {
     "name": "stdout",
     "output_type": "stream",
     "text": [
      "Help on method save_state in module telapy.api.t2d:\n",
      "\n",
      "save_state() method of telapy.api.t2d.Telemac2d instance\n",
      "    Save the hydraulic state\n",
      "\n"
     ]
    }
   ],
   "source": [
    "help(my_case.save_state)"
   ]
  },
  {
   "cell_type": "markdown",
   "metadata": {},
   "source": [
    "### Back to a saved state"
   ]
  },
  {
   "cell_type": "code",
   "execution_count": 17,
   "metadata": {},
   "outputs": [
    {
     "name": "stdout",
     "output_type": "stream",
     "text": [
      "Help on method restore_state in module telapy.api.t2d:\n",
      "\n",
      "restore_state() method of telapy.api.t2d.Telemac2d instance\n",
      "    Restore the hydraulic state\n",
      "\n"
     ]
    }
   ],
   "source": [
    "help(my_case.restore_state)"
   ]
  },
  {
   "cell_type": "markdown",
   "metadata": {},
   "source": [
    "### Run Telemac for one time step"
   ]
  },
  {
   "cell_type": "code",
   "execution_count": 18,
   "metadata": {},
   "outputs": [
    {
     "name": "stdout",
     "output_type": "stream",
     "text": [
      "Help on method run_one_time_step in module telapy.api.api_module:\n",
      "\n",
      "run_one_time_step() method of telapy.api.t2d.Telemac2d instance\n",
      "    Run one time step\n",
      "\n"
     ]
    }
   ],
   "source": [
    "help(my_case.run_one_time_step)"
   ]
  },
  {
   "cell_type": "markdown",
   "metadata": {},
   "source": [
    "### Run Telemac for all the time steps"
   ]
  },
  {
   "cell_type": "code",
   "execution_count": 19,
   "metadata": {},
   "outputs": [
    {
     "name": "stdout",
     "output_type": "stream",
     "text": [
      "Help on method run_all_time_steps in module telapy.api.api_module:\n",
      "\n",
      "run_all_time_steps() method of telapy.api.t2d.Telemac2d instance\n",
      "    Run all the time steps\n",
      "    \n",
      "    @retuns the number of computed time steps\n",
      "\n"
     ]
    }
   ],
   "source": [
    "help(my_case.run_all_time_steps)"
   ]
  },
  {
   "cell_type": "markdown",
   "metadata": {},
   "source": [
    "### Change the value of a Telemac variable"
   ]
  },
  {
   "cell_type": "code",
   "execution_count": 20,
   "metadata": {},
   "outputs": [
    {
     "name": "stdout",
     "output_type": "stream",
     "text": [
      "Help on method set in module telapy.api.api_module:\n",
      "\n",
      "set(varname, value, i=-1, j=-1, k=-1, global_num=True) method of telapy.api.t2d.Telemac2d instance\n",
      "    Set the value of a variable of the telemac-mascare module\n",
      "    \n",
      "    @param varname (str) Name of the variable\n",
      "    @param value (int/bool/str/double) the value to set\n",
      "    @param i (int) index on first dimension\n",
      "    @param j (int) index on second dimension\n",
      "    @param k (int) index on third dimension\n",
      "    @param global_num (bool) Are the index on local/global numbering\n",
      "    \n",
      "    @retuns variable value\n",
      "\n"
     ]
    }
   ],
   "source": [
    "help(my_case.set)"
   ]
  },
  {
   "cell_type": "markdown",
   "metadata": {},
   "source": [
    "### Plotting the mesh"
   ]
  },
  {
   "cell_type": "code",
   "execution_count": 21,
   "metadata": {},
   "outputs": [
    {
     "name": "stdout",
     "output_type": "stream",
     "text": [
      "Help on method show_mesh in module telapy.api.api_module:\n",
      "\n",
      "show_mesh(show=True, visu2d=True) method of telapy.api.t2d.Telemac2d instance\n",
      "    Show the 2D mesh with topography\n",
      "    \n",
      "    @param show Display the graph (Default True)\n",
      "    @param visu2d 2d display (Default True)\n",
      "    \n",
      "    @retuns the figure object\n",
      "\n"
     ]
    }
   ],
   "source": [
    "help(my_case.show_mesh)"
   ]
  },
  {
   "cell_type": "markdown",
   "metadata": {},
   "source": [
    "### Plotting the state"
   ]
  },
  {
   "cell_type": "code",
   "execution_count": 22,
   "metadata": {},
   "outputs": [
    {
     "name": "stdout",
     "output_type": "stream",
     "text": [
      "Help on method show_state in module telapy.api.t2d:\n",
      "\n",
      "show_state(show=True) method of telapy.api.t2d.Telemac2d instance\n",
      "    Show the hydraulic state with matplotlib\n",
      "    \n",
      "    @param show Display the graph (Default True)\n",
      "    \n",
      "    @retuns the figure object\n",
      "\n"
     ]
    }
   ],
   "source": [
    "help(my_case.show_state)"
   ]
  },
  {
   "cell_type": "markdown",
   "metadata": {},
   "source": [
    "# Telemac Variables"
   ]
  },
  {
   "cell_type": "markdown",
   "metadata": {},
   "source": [
    "All the variables and parameters available with the API to set or get a value can be seen with:"
   ]
  },
  {
   "cell_type": "code",
   "execution_count": 23,
   "metadata": {},
   "outputs": [],
   "source": [
    "varnames, varinfo = my_case.list_variables()"
   ]
  },
  {
   "cell_type": "code",
   "execution_count": 24,
   "metadata": {},
   "outputs": [
    {
     "name": "stdout",
     "output_type": "stream",
     "text": [
      "MODEL.AT: CURRENT TIME\n",
      "MODEL.BCFILE: BOUNDARY CONDITION FILE NAME\n",
      "MODEL.BND_TIDE: OPTION FOR TIDAL BOUNDARY CONDITIONS\n",
      "MODEL.BOTTOMELEVATION: LEVEL OF THE BOTTOM\n",
      "MODEL.CHESTR: STRIKLER ON POINT\n",
      "MODEL.FAIR: FAIR ON POINT\n",
      "MODEL.COTE: xxx\n",
      "MODEL.CPL_PERIOD: COUPLING PERIOD WITH SISYPHE\n",
      "MODEL.DEBIT: DISCHARGE ON FRONTIER\n",
      "MODEL.DEBUG: ACTIVATING DEBUG MODE\n",
      "MODEL.FLUX_BOUNDARIES: FLUX AT BOUNDARIES\n",
      "MODEL.GEOMETRYFILE: NAME OF THE GEOMERY FILE\n",
      "MODEL.METEOFILE: NAME OF THE BINARY ATMOSPHERIC FILE\n",
      "MODEL.FO2FILE: NAME OF THE FORMATTED DATA FILE 2\n",
      "MODEL.LIQBCFILE: NAME OF THE LIQUID BOUNDARIES FILE\n",
      "MODEL.GRAPH_PERIOD: GRAPHICAL OUTPUT PERIOD\n",
      "MODEL.HBOR: BOUNDARY VALUE ON H FOR EACH BOUNDARY POINT\n",
      "MODEL.IKLE: CONNECTIVITY TABLE BETWEEN ELEMENT AND NODES\n",
      "MODEL.NACHB: NUMBERS OF PROC CONTAINING A GIVEN POINT\n",
      "MODEL.KNOLG: GIVES THE INITIAL GLOBAL NUMBER OF A LOCAL POINT\n",
      "MODEL.INCWATERDEPTH: INCREASE IN THE THE DEPTH OF THE WATER\n",
      "MODEL.KP1BOR: POINTS FOLLOWING AND PRECEDING A BOUNDARY POINT\n",
      "MODEL.LIHBOR: BOUNDARY TYPE ON H FOR EACH BOUNDARY POINT\n",
      "MODEL.LISTIN_PERIOD: LISTING OUTPUT PERIOD\n",
      "MODEL.LIUBOR: BOUNDARY TYPE ON U FOR EACH BOUNDARY POINT\n",
      "MODEL.LIVBOR: BOUNDARY TYPE ON V FOR EACH BOUNDARY POINT\n",
      "MODEL.LT: CURRENT TIME STEP\n",
      "MODEL.NBMAXNSHARE: MAXIMUM GEOMETRICAL MULTIPLICITY OF A NODE\n",
      "MODEL.COMPLEO: GRAPHIC OUTPUT COUNTER\n",
      "MODEL.NPTIR: NUMBER OF INTERFACE POINTS OF THE SUB-DOMAIN\n",
      "MODEL.NBOR: GLOBAL NUMBER OF BOUNDARY POINTS\n",
      "MODEL.NELEM: NUMBER OF ELEMENT IN THE MESH\n",
      "MODEL.NELMAX: MAXIMUM NUMBER OF ELEMENTS ENVISAGED\n",
      "MODEL.NPOIN: NUMBER OF POINT IN THE MESH\n",
      "MODEL.NPTFR: NUMBER OF BOUNDARY POINTS\n",
      "MODEL.NTIMESTEPS: NUMBER OF TIME STEPS\n",
      "MODEL.NUMLIQ: LIQUID BOUNDARY NUMBERS\n",
      "MODEL.POROSITY: POROSITY\n",
      "MODEL.RESULTFILE: NAME OF THE RESULT FILE\n",
      "MODEL.SEALEVEL: COEFFICIENT TO CALIBRATE SEA LEVEL\n",
      "MODEL.TIDALRANGE: COEFFICIENT TO CALIBRATE TIDAL RANGE\n",
      "MODEL.UBOR: BOUNDARY VALUE ON U FOR EACH BOUNDARY POINT\n",
      "MODEL.VBOR: BOUNDARY VALUE ON V FOR EACH BOUNDARY POINT\n",
      "MODEL.VELOCITYU: VELOCITY ON U\n",
      "MODEL.VELOCITYV: VELOCITY ON V\n",
      "MODEL.WATERDEPTH: DEPTH OF THE WATER\n",
      "MODEL.X: X COORDINATES FOR EACH POINT OF THE MESH\n",
      "MODEL.XNEBOR: NORMAL X TO 1D BOUNDARY POINTS\n",
      "MODEL.Y: Y COORDINATES FOR EACH POINT OF THE MESH\n",
      "MODEL.YNEBOR: NORMAL Y TO 1D BOUNDARY POINTS\n",
      "MODEL.EQUATION: NAME OF THE EQUATION USED\n",
      "MODEL.INIT_DEPTH: INITIAL DEPTH\n",
      "MODEL.TRACER: TRACERS VALUE\n",
      "MODEL.NTRAC: NUMBER OF TRACERS\n"
     ]
    }
   ],
   "source": [
    "for a, b in zip(varnames, varinfo):\n",
    "    print(a + ': ' + b)"
   ]
  },
  {
   "cell_type": "markdown",
   "metadata": {},
   "source": [
    "# Example of use"
   ]
  },
  {
   "cell_type": "markdown",
   "metadata": {},
   "source": [
    "Knowing now the API and the variables, a Telemac computation on the test example named 'breach' could be:"
   ]
  },
  {
   "cell_type": "markdown",
   "metadata": {},
   "source": [
    "## Read the steering file and do allocations"
   ]
  },
  {
   "cell_type": "code",
   "execution_count": 25,
   "metadata": {},
   "outputs": [
    {
     "data": {
      "text/plain": [
       "0"
      ]
     },
     "execution_count": 25,
     "metadata": {},
     "output_type": "execute_result"
    }
   ],
   "source": [
    "my_case.set_case()"
   ]
  },
  {
   "cell_type": "markdown",
   "metadata": {},
   "source": [
    "## Initialisation"
   ]
  },
  {
   "cell_type": "code",
   "execution_count": 26,
   "metadata": {},
   "outputs": [],
   "source": [
    "my_case.init_state_default()"
   ]
  },
  {
   "cell_type": "markdown",
   "metadata": {},
   "source": [
    "## Mesh view"
   ]
  },
  {
   "cell_type": "code",
   "execution_count": 27,
   "metadata": {},
   "outputs": [
    {
     "data": {
      "image/png": "[encoded data removed]",
      "text/plain": [
       "<Figure size 432x288 with 1 Axes>"
      ]
     },
     "metadata": {
      "needs_background": "light"
     },
     "output_type": "display_data"
    }
   ],
   "source": [
    "%matplotlib inline\n",
    "my_figure = my_case.show_mesh(visu2d=False)"
   ]
  },
  {
   "cell_type": "markdown",
   "metadata": {},
   "source": [
    "## Simulation"
   ]
  },
  {
   "cell_type": "code",
   "execution_count": 28,
   "metadata": {},
   "outputs": [],
   "source": [
    "for i in range(10):\n",
    "    my_case.run_one_time_step()"
   ]
  },
  {
   "cell_type": "markdown",
   "metadata": {},
   "source": [
    "## Current state"
   ]
  },
  {
   "cell_type": "markdown",
   "metadata": {},
   "source": [
    "### Values"
   ]
  },
  {
   "cell_type": "code",
   "execution_count": 29,
   "metadata": {},
   "outputs": [
    {
     "name": "stdout",
     "output_type": "stream",
     "text": [
      "Mean water height (m) =  0.872949260251414\n",
      "Max velocity (m/s) =  2.559664067853591\n"
     ]
    }
   ],
   "source": [
    "import numpy as np\n",
    "\n",
    "h, u, v = my_case.get_state()\n",
    "\n",
    "print('Mean water height (m) = ', h.mean())\n",
    "print('Max velocity (m/s) = ', np.amax(np.sqrt(u * u + v * v)))"
   ]
  },
  {
   "cell_type": "markdown",
   "metadata": {},
   "source": [
    "### Graph"
   ]
  },
  {
   "cell_type": "code",
   "execution_count": 30,
   "metadata": {},
   "outputs": [
    {
     "data": {
      "image/png": "[encoded data removed]",
      "text/plain": [
       "<Figure size 432x288 with 4 Axes>"
      ]
     },
     "metadata": {
      "needs_background": "light"
     },
     "output_type": "display_data"
    }
   ],
   "source": [
    "my_new_figure = my_case.show_state(show=True)"
   ]
  },
  {
   "cell_type": "markdown",
   "metadata": {},
   "source": [
    "### Save"
   ]
  },
  {
   "cell_type": "code",
   "execution_count": 31,
   "metadata": {},
   "outputs": [
    {
     "data": {
      "text/plain": [
       "array([ 2.77388754e-08,  0.00000000e+00,  2.15638507e-08, ...,\n",
       "       -1.54989192e-03,  1.43419916e-03,  1.97240494e-03])"
      ]
     },
     "execution_count": 31,
     "metadata": {},
     "output_type": "execute_result"
    }
   ],
   "source": [
    "my_case.save_state()\n",
    "my_case.hsave\n",
    "my_case.usave\n",
    "my_case.vsave"
   ]
  },
  {
   "cell_type": "markdown",
   "metadata": {},
   "source": [
    "### Change"
   ]
  },
  {
   "cell_type": "code",
   "execution_count": 32,
   "metadata": {},
   "outputs": [
    {
     "name": "stdout",
     "output_type": "stream",
     "text": [
      "Mean velocity (m/s) =  0.0\n"
     ]
    }
   ],
   "source": [
    "# to null velocity\n",
    "number_of_nodes = my_case.get('MODEL.NPOIN')\n",
    "value = np.zeros(number_of_nodes)\n",
    "my_case.set_array('MODEL.VELOCITYU', value)\n",
    "my_case.set_array('MODEL.VELOCITYV', value)\n",
    "   \n",
    "h, u, v = my_case.get_state()\n",
    "print('Mean velocity (m/s) = ', np.mean(np.sqrt(u * u + v * v)))"
   ]
  },
  {
   "cell_type": "markdown",
   "metadata": {},
   "source": [
    "### Restore"
   ]
  },
  {
   "cell_type": "code",
   "execution_count": 33,
   "metadata": {},
   "outputs": [
    {
     "name": "stdout",
     "output_type": "stream",
     "text": [
      "Max velocity (m/s) =  2.559664067853591\n"
     ]
    }
   ],
   "source": [
    "err = my_case.restore_state()\n",
    "\n",
    "h, u, v = my_case.get_state()\n",
    "print('Max velocity (m/s) = ', np.amax(np.sqrt(u * u + v * v)))"
   ]
  },
  {
   "cell_type": "markdown",
   "metadata": {},
   "source": [
    "## Parameters"
   ]
  },
  {
   "cell_type": "code",
   "execution_count": 34,
   "metadata": {},
   "outputs": [
    {
     "data": {
      "text/plain": [
       "7.179999828338623"
      ]
     },
     "execution_count": 34,
     "metadata": {},
     "output_type": "execute_result"
    }
   ],
   "source": [
    "# bottom elevation at node no. 102\n",
    "my_case.get('MODEL.BOTTOMELEVATION', 102)"
   ]
  },
  {
   "cell_type": "code",
   "execution_count": 35,
   "metadata": {},
   "outputs": [
    {
     "data": {
      "text/plain": [
       "15.0"
      ]
     },
     "execution_count": 35,
     "metadata": {},
     "output_type": "execute_result"
    }
   ],
   "source": [
    "# friction coefficient (Strickler value) at node no. 500\n",
    "my_case.get('MODEL.CHESTR', 500)"
   ]
  },
  {
   "cell_type": "markdown",
   "metadata": {},
   "source": [
    "## Deletion"
   ]
  },
  {
   "cell_type": "code",
   "execution_count": 36,
   "metadata": {},
   "outputs": [],
   "source": [
    "my_case.finalize()\n",
    "del my_case"
   ]
  }
 ],
 "metadata": {
  "anaconda-cloud": {},
  "kernelspec": {
   "display_name": "Python 3",
   "language": "python",
   "name": "python3"
  },
  "language_info": {
   "codemirror_mode": {
    "name": "ipython",
    "version": 3
   },
   "file_extension": ".py",
   "mimetype": "text/x-python",
   "name": "python",
   "nbconvert_exporter": "python",
   "pygments_lexer": "ipython3",
   "version": "3.5.3"
  }
 },
 "nbformat": 4,
 "nbformat_minor": 1
}
