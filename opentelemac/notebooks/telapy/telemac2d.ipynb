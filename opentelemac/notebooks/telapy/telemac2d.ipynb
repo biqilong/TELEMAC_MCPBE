{
 "metadata": {
  "anaconda-cloud": {},
  "kernelspec": {
   "display_name": "Python 3",
   "language": "python",
   "name": "python3"
  },
  "language_info": {
   "codemirror_mode": {
    "name": "ipython",
    "version": 3
   },
   "file_extension": ".py",
   "mimetype": "text/x-python",
   "name": "python",
   "nbconvert_exporter": "python",
   "pygments_lexer": "ipython3",
   "version": "3.5.3"
  },
  "name": ""
 },
 "nbformat": 3,
 "nbformat_minor": 0,
 "worksheets": [
  {
   "cells": [
    {
     "cell_type": "markdown",
     "metadata": {},
     "source": [
      "<span style=\"float:left;\">Licence CC BY-SA</span><span style=\"float:right;\">Fabrice Zaoui&nbsp;</span><br/>\n",
      "___"
     ]
    },
    {
     "cell_type": "markdown",
     "metadata": {},
     "source": [
      "This tutorial is intended for people who want to run Telemac 2D in an interactive mode with the help of the Python programming language. The interactive mode means that communication with Telemac becomes possible throughout the simulation without having to stop it. One can easily set or get the value of any variables at each time step with the help of special communication functions: the [Application Programming Interfaces](https://en.wikipedia.org/wiki/Application_programming_interface) (API).\n",
      "\n",
      "By using the APIs, research and engineering with Telemac is encouraged in every fields where communication is crucial: optimization, code coupling, control system, sensitivity analysis and so on."
     ]
    },
    {
     "cell_type": "heading",
     "level": 1,
     "metadata": {},
     "source": [
      "Telemac 2D as a Python module"
     ]
    },
    {
     "cell_type": "heading",
     "level": 2,
     "metadata": {},
     "source": [
      "Building the interface"
     ]
    },
    {
     "cell_type": "markdown",
     "metadata": {},
     "source": [
      "When using Telemac in a classic way (i.e. without API), you first have to compile all the Fortran sources of Telemac with (for example) the following command:"
     ]
    },
    {
     "cell_type": "code",
     "collapsed": false,
     "input": [
      "%%bash\n",
      "compile_telemac.py"
     ],
     "language": "python",
     "metadata": {},
     "outputs": [
      {
       "output_type": "stream",
       "stream": "stdout",
       "text": [
        "\n",
        "\n",
        "Loading Options and Configurations\n",
        "~~~~~~~~~~~~~~~~~~~~~~~~~~~~~~~~~~~~~~~~~~~~~~~~~~~~~~~~~~~~~~~~~~~~~~~~\n",
        "\n",
        "                _                                                        _       _               \n",
        "               | |                                                      (_)     (_)              \n",
        "  _   _  _ __  | | __ _ __    ___  __      __ _ __    _ __   ___ __   __ _  ___  _   ___   _ __  \n",
        " | | | || '_ \\ | |/ /| '_ \\  / _ \\ \\ \\ /\\ / /| '_ \\  | '__| / _ \\\\ \\ / /| |/ __|| | / _ \\ | '_ \\ \n",
        " | |_| || | | ||   < | | | || (_) | \\ V  V / | | | | | |   |  __/ \\ V / | |\\__ \\| || (_) || | | |\n",
        "  \\__,_||_| |_||_|\\_\\|_| |_| \\___/   \\_/\\_/  |_| |_| |_|    \\___|  \\_/  |_||___/|_| \\___/ |_| |_|\n",
        "                                                                                                 \n",
        "                                                                                                 \n",
        "\n",
        "\n",
        "   _____   ___              __               _                       \n",
        "  / ____| / _ \\            / _|             | |                      \n",
        " | (___  | (_) |     __ _ | |_   ___   _ __ | |_  _ __   __ _  _ __  \n",
        "  \\___ \\  \\__, |    / _` ||  _| / _ \\ | '__|| __|| '__| / _` || '_ \\ \n",
        "  ____) |   / /  _ | (_| || |  | (_) || |   | |_ | |   | (_| || | | |\n",
        " |_____/   /_/  (_) \\__, ||_|   \\___/ |_|    \\__||_|    \\__,_||_| |_|\n",
        "                     __/ |                                           \n",
        "                    |___/                                            \n",
        "Scanning the source code for:\n",
        "~~~~~~~~~~~~~~~~~~~~~~~~~~~~~~~~~~~~~~~~~~~~~~~~~~~~~~~~~~~~~~~~~~~~~~~~\n",
        "\n",
        "\n",
        "\n",
        "~~~~~~~~~~~~~~~~~~~~~~~~~~~~~~~~~~~~~~~~~~~~~~~~~~~~~~~~~~~~~~~~~~~~~~~~\n",
        "\n",
        "S9.gfortran: \n",
        "    \n",
        "\n",
        "    +> Gfortran compiler 6.3.2 with open_mpi for a debian 9\n",
        "\n",
        "    +> root:    /home/B61570/opentelemac/git/branches/oarfish\n",
        "    +> module: ad / api / artemis / bief\n",
        "               damocles  / diffsel  / gaia  / gretel\n",
        "               hermes  / identify_liq_bnd  / khione  / mascaret\n",
        "               nestor  / parallel  / partel  / postel3d\n",
        "               sisyphe  / special  / splitsel  / stbtel\n",
        "               telemac2d  / telemac3d  / tomawac  / waqtel\n",
        "               \n",
        "\n",
        "\n",
        "Compiling from the tree top api plus dependents\n",
        "~~~~~~~~~~~~~~~~~~~~~~~~~~~~~~~~~~~~~~~~~~~~~~~~~~~~~~~~~~~~~~~~~~~~~~~~\n",
        "\n",
        "        +> There is no need to compile any object\n",
        "        +> There is no need to package any library\n",
        "        +> There is no need to create the associate executable\n",
        "\n",
        "\n",
        "Compiling from the tree top artemis plus dependents\n",
        "~~~~~~~~~~~~~~~~~~~~~~~~~~~~~~~~~~~~~~~~~~~~~~~~~~~~~~~~~~~~~~~~~~~~~~~~\n",
        "\n",
        "        +> There is no need to compile any object\n",
        "        +> There is no need to package any library\n",
        "        +> There is no need to create the associate executable\n",
        "\n",
        "\n",
        "Compiling from the tree top damocles plus dependents\n",
        "~~~~~~~~~~~~~~~~~~~~~~~~~~~~~~~~~~~~~~~~~~~~~~~~~~~~~~~~~~~~~~~~~~~~~~~~\n",
        "\n",
        "        +> There is no need to compile any object\n",
        "        +> There is no need to package any library\n",
        "        +> There is no need to create the associate executable\n",
        "\n",
        "\n",
        "Compiling from the tree top diffsel plus dependents\n",
        "~~~~~~~~~~~~~~~~~~~~~~~~~~~~~~~~~~~~~~~~~~~~~~~~~~~~~~~~~~~~~~~~~~~~~~~~\n",
        "\n",
        "        +> There is no need to compile any object\n",
        "        +> There is no need to package any library\n",
        "        +> There is no need to create the associate executable\n",
        "\n",
        "\n",
        "Compiling from the tree top gredelhyd_autop plus dependents\n",
        "~~~~~~~~~~~~~~~~~~~~~~~~~~~~~~~~~~~~~~~~~~~~~~~~~~~~~~~~~~~~~~~~~~~~~~~~\n",
        "\n",
        "        +> There is no need to compile any object\n",
        "        +> There is no need to package any library\n",
        "        +> There is no need to create the associate executable\n",
        "\n",
        "\n",
        "Compiling from the tree top gredelmet_autop plus dependents\n",
        "~~~~~~~~~~~~~~~~~~~~~~~~~~~~~~~~~~~~~~~~~~~~~~~~~~~~~~~~~~~~~~~~~~~~~~~~\n",
        "\n",
        "        +> There is no need to compile any object\n",
        "        +> There is no need to package any library\n",
        "        +> There is no need to create the associate executable\n",
        "\n",
        "\n",
        "Compiling from the tree top gredelpts_autop plus dependents\n",
        "~~~~~~~~~~~~~~~~~~~~~~~~~~~~~~~~~~~~~~~~~~~~~~~~~~~~~~~~~~~~~~~~~~~~~~~~\n",
        "\n",
        "        +> There is no need to compile any object\n",
        "        +> There is no need to package any library\n",
        "        +> There is no need to create the associate executable\n",
        "\n",
        "\n",
        "Compiling from the tree top gredelseg_autop plus dependents\n",
        "~~~~~~~~~~~~~~~~~~~~~~~~~~~~~~~~~~~~~~~~~~~~~~~~~~~~~~~~~~~~~~~~~~~~~~~~\n",
        "\n",
        "        +> There is no need to compile any object\n",
        "        +> There is no need to package any library\n",
        "        +> There is no need to create the associate executable\n",
        "\n",
        "\n",
        "Compiling from the tree top gretel plus dependents\n",
        "~~~~~~~~~~~~~~~~~~~~~~~~~~~~~~~~~~~~~~~~~~~~~~~~~~~~~~~~~~~~~~~~~~~~~~~~\n",
        "\n",
        "        +> There is no need to compile any object\n",
        "        +> There is no need to package any library\n",
        "        +> There is no need to create the associate executable\n",
        "\n",
        "\n",
        "Compiling from the tree top identify_liq_bnd plus dependents\n",
        "~~~~~~~~~~~~~~~~~~~~~~~~~~~~~~~~~~~~~~~~~~~~~~~~~~~~~~~~~~~~~~~~~~~~~~~~\n",
        "\n",
        "        +> There is no need to compile any object\n",
        "        +> There is no need to package any library\n",
        "        +> There is no need to create the associate executable\n",
        "\n",
        "\n",
        "Compiling from the tree top HOMERE_MASCARET plus dependents\n",
        "~~~~~~~~~~~~~~~~~~~~~~~~~~~~~~~~~~~~~~~~~~~~~~~~~~~~~~~~~~~~~~~~~~~~~~~~\n",
        "\n",
        "        +> There is no need to compile any object\n",
        "        +> There is no need to compile C object\n",
        "        +> There is no need to compile C object\n",
        "    - completed: .../oarfish/builds/S9.gfortran/lib/mascaret.so\n",
        "        +> There is no need to create the associate executable\n",
        "\n",
        "\n",
        "Compiling from the tree top partel plus dependents\n",
        "~~~~~~~~~~~~~~~~~~~~~~~~~~~~~~~~~~~~~~~~~~~~~~~~~~~~~~~~~~~~~~~~~~~~~~~~\n",
        "\n",
        "        +> There is no need to compile any object\n",
        "        +> There is no need to package any library\n",
        "        +> There is no need to create the associate executable\n",
        "\n",
        "\n",
        "Compiling from the tree top partel_para plus dependents\n",
        "~~~~~~~~~~~~~~~~~~~~~~~~~~~~~~~~~~~~~~~~~~~~~~~~~~~~~~~~~~~~~~~~~~~~~~~~\n",
        "\n",
        "        +> There is no need to compile any object\n",
        "        +> There is no need to package any library\n",
        "        +> There is no need to create the associate executable\n",
        "\n",
        "\n",
        "Compiling from the tree top partel_prelim plus dependents\n",
        "~~~~~~~~~~~~~~~~~~~~~~~~~~~~~~~~~~~~~~~~~~~~~~~~~~~~~~~~~~~~~~~~~~~~~~~~\n",
        "\n",
        "        +> There is no need to compile any object\n",
        "        +> There is no need to package any library\n",
        "        +> There is no need to create the associate executable\n",
        "\n",
        "\n",
        "Compiling from the tree top postel3d plus dependents\n",
        "~~~~~~~~~~~~~~~~~~~~~~~~~~~~~~~~~~~~~~~~~~~~~~~~~~~~~~~~~~~~~~~~~~~~~~~~\n",
        "\n",
        "        +> There is no need to compile any object\n",
        "        +> There is no need to package any library\n",
        "        +> There is no need to create the associate executable\n",
        "\n",
        "\n",
        "Compiling from the tree top sisyphe plus dependents\n",
        "~~~~~~~~~~~~~~~~~~~~~~~~~~~~~~~~~~~~~~~~~~~~~~~~~~~~~~~~~~~~~~~~~~~~~~~~\n",
        "\n",
        "        +> There is no need to compile any object\n",
        "        +> There is no need to package any library\n",
        "        +> There is no need to create the associate executable\n",
        "\n",
        "\n",
        "Compiling from the tree top splitsel plus dependents\n",
        "~~~~~~~~~~~~~~~~~~~~~~~~~~~~~~~~~~~~~~~~~~~~~~~~~~~~~~~~~~~~~~~~~~~~~~~~\n",
        "\n",
        "        +> There is no need to compile any object\n",
        "        +> There is no need to package any library\n",
        "        +> There is no need to create the associate executable\n",
        "\n",
        "\n",
        "Compiling from the tree top stbtel plus dependents\n",
        "~~~~~~~~~~~~~~~~~~~~~~~~~~~~~~~~~~~~~~~~~~~~~~~~~~~~~~~~~~~~~~~~~~~~~~~~\n",
        "\n",
        "        +> There is no need to compile any object\n",
        "        +> There is no need to package any library\n",
        "        +> There is no need to create the associate executable\n",
        "\n",
        "\n",
        "Compiling from the tree top telemac2d plus dependents\n",
        "~~~~~~~~~~~~~~~~~~~~~~~~~~~~~~~~~~~~~~~~~~~~~~~~~~~~~~~~~~~~~~~~~~~~~~~~\n",
        "\n",
        "        +> There is no need to compile any object\n",
        "        +> There is no need to package any library\n",
        "        +> There is no need to create the associate executable\n",
        "\n",
        "\n",
        "Compiling from the tree top telemac3d plus dependents\n",
        "~~~~~~~~~~~~~~~~~~~~~~~~~~~~~~~~~~~~~~~~~~~~~~~~~~~~~~~~~~~~~~~~~~~~~~~~\n",
        "\n",
        "        +> There is no need to compile any object\n",
        "        +> There is no need to package any library\n",
        "        +> There is no need to create the associate executable\n",
        "\n",
        "\n",
        "Compiling from the tree top tomawac plus dependents\n",
        "~~~~~~~~~~~~~~~~~~~~~~~~~~~~~~~~~~~~~~~~~~~~~~~~~~~~~~~~~~~~~~~~~~~~~~~~\n",
        "\n",
        "        +> There is no need to compile any object\n",
        "        +> There is no need to package any library\n",
        "        +> There is no need to create the associate executable\n",
        "\n",
        "Compiling the API \n",
        "~~~~~~~~~~~~~~~~~~~~~~~~~~~~~~~~~~~~~~~~~~~~~~~~~~~~~~~~~~~~~~~~~~~~~~~~\n",
        "\n",
        "    ~> Wrap_api built\n",
        "    ~> Compiling Modules api\n",
        "    ~> First part of f2py for api passed\n",
        "    ~> Second part of f2py of api passed\n",
        "    ~> Compiling hermes api\n",
        "    ~> First part of f2py for hermes passed\n",
        "    ~> Second part of f2py of hermes passed\n",
        "\n",
        "\n",
        "My work is done\n",
        "\n",
        "\n"
       ]
      }
     ],
     "prompt_number": 1
    },
    {
     "cell_type": "markdown",
     "metadata": {
      "collapsed": true
     },
     "source": [
      "*Note: if an error occurs, check for the environment variables HOMETEL and SYSTELCFG before running the previous command.*"
     ]
    },
    {
     "cell_type": "markdown",
     "metadata": {},
     "source": [
      "If the compilation is successful, you will then run Telemac on your test case providing a steering file:"
     ]
    },
    {
     "cell_type": "code",
     "collapsed": false,
     "input": [
      "%%bash\n",
      "telemac2d.py -h"
     ],
     "language": "python",
     "metadata": {},
     "outputs": [
      {
       "output_type": "stream",
       "stream": "stdout",
       "text": [
        "\n",
        "\n",
        "Loading Options and Configurations\n",
        "~~~~~~~~~~~~~~~~~~~~~~~~~~~~~~~~~~~~~~~~~~~~~~~~~~~~~~~~~~~~~~~~~~~~~~~~\n",
        "\n",
        "usage: telemac2d.py [-h] [-c config name] [-f config file] [-r TELEMAC root]\n",
        "                    [-s] [-t] [-w W_DIR] [--nozip] [--jobname JOBNAME]\n",
        "                    [--queue HPC_QUEUE] [--walltime WALLTIME] [--email EMAIL]\n",
        "                    [--hosts HOSTS] [--ncsize NCSIZE] [--nctile NCTILE]\n",
        "                    [--ncnode NCNODE] [--sequential] [--mpi]\n",
        "                    [--split | --run | -x | --merge] [--use-link]\n",
        "                    cas files) [cas file(s ...]\n",
        "\n",
        "telemac2d.py is one of the execution launcher for the TELEMAC system.\n",
        "            \n",
        "\n",
        "positional arguments:\n",
        "  cas file(s)\n",
        "\n",
        "optional arguments:\n",
        "  -h, --help            show this help message and exit\n",
        "  -c config name, --configname config name\n",
        "                        specify configuration name, default is randomly found\n",
        "                        in the configuration file\n",
        "  -f config file, --configfile config file\n",
        "                        specify configuration file, default is systel.cfg\n",
        "  -r TELEMAC root, --rootdir TELEMAC root\n",
        "                        specify the root, default is taken from config file\n",
        "  -s, --sortiefile      specify whether there is a sortie file, default is no\n",
        "  -t, --tmpdirectory    specify whether the temporary directory is removed,\n",
        "                        default is yes\n",
        "  -w W_DIR, --workdirectory W_DIR\n",
        "                        specify whether to re-run within a defined\n",
        "                        subdirectory\n",
        "  --nozip               specify whether to zip the extra sortie file if\n",
        "                        simulation in parallel\n",
        "  --jobname JOBNAME     specify a jobname for HPC queue tracking\n",
        "  --queue HPC_QUEUE     specify a queue for HPC queue tracking\n",
        "  --walltime WALLTIME   specify a walltime for HPC queue tracking\n",
        "  --email EMAIL         specify an e-mail adress to warn when HPC job is\n",
        "                        finished\n",
        "  --hosts HOSTS         specify the list of hosts available for parallel mode,\n",
        "                        ';' delimited\n",
        "  --ncsize NCSIZE       the number of processors forced in parallel mode\n",
        "  --nctile NCTILE       the number of core per node. ncsize/nctile is the\n",
        "                        number of compute nodes\n",
        "  --ncnode NCNODE       the number of of nodes. ncsize = ncnode*nctile is the\n",
        "                        total number of compute nodes\n",
        "  --sequential          if present, imposes that multiple CAS files are\n",
        "                        launched one after the other\n",
        "  --mpi                 make sure the mpi command is executed, ignoring any\n",
        "                        hpc command\n",
        "  --split               will only do the trace (and the split in parallel) if\n",
        "                        option there\n",
        "  --run                 will only run the simulation if option there\n",
        "  -x, --compileonly     specify whether to only create an executable but not\n",
        "                        run, default is no\n",
        "  --merge               will only do the output copying (and recollection in\n",
        "                        parallel) if option there\n",
        "  --use-link            Will use link instead of copy in the temporary folder\n",
        "                        (Unix system only)\n",
        "\n",
        "examples:\n",
        "---------\n",
        "1:     => telemac2d.py -s t2d.cas\n",
        "---------\n"
       ]
      }
     ],
     "prompt_number": 2
    },
    {
     "cell_type": "markdown",
     "metadata": {},
     "source": [
      "*Note: as the name of the steering file here is fictive, no computation is done*"
     ]
    },
    {
     "cell_type": "markdown",
     "metadata": {},
     "source": [
      "The previous command requires all the static librairies to be linked with the Fortran user file in an executable. When using the API with Python, it is the dynamic libraries of the Telemac system that are used."
     ]
    },
    {
     "cell_type": "markdown",
     "metadata": {},
     "source": [
      "The interface between the Telemac libraries and the Python language is automatically created using [f2py](http://docs.scipy.org/doc/numpy-dev/f2py/). This corresponds to the compilation of the Telemac API for Python. It has to be done by adding :\n",
      "options: api\n",
      "in the configuration file (systel.cfg)"
     ]
    },
    {
     "cell_type": "heading",
     "level": 2,
     "metadata": {},
     "source": [
      "Using the interface"
     ]
    },
    {
     "cell_type": "markdown",
     "metadata": {},
     "source": [
      "Telemac/Python is now ready to be used as a hydrodynamic 2D solver with the import system:"
     ]
    },
    {
     "cell_type": "code",
     "collapsed": false,
     "input": [
      "import telapy.api.t2d"
     ],
     "language": "python",
     "metadata": {},
     "outputs": [],
     "prompt_number": 3
    },
    {
     "cell_type": "markdown",
     "metadata": {},
     "source": [
      "The module 'TelApy.api.t2d' is located in the '$HOMETEL/scripts/python27/TelApy/api' directory. If an error occurs while attempting to import, check the value of the environment variable PYTHONPATH. Alternatively you can also work with the file 'apiT2d.py' listed in your working directory.\n"
     ]
    },
    {
     "cell_type": "code",
     "collapsed": false,
     "input": [
      "%%bash\n",
      "echo $PYTHONPATH"
     ],
     "language": "python",
     "metadata": {},
     "outputs": [
      {
       "output_type": "stream",
       "stream": "stdout",
       "text": [
        "/home/B61570/opentelemac/git/branches/oarfish/builds/S9.gfortran/wrap_api/lib:/home/B61570/opentelemac/git/branches/oarfish/scripts/python3:/home/B61570/opentelemac/git/branches/oarfish/builds/S9.gfortran/wrap_api/lib:/home/B61570/opentelemac/git/branches/oarfish/scripts/python3:\n"
       ]
      }
     ],
     "prompt_number": 4
    },
    {
     "cell_type": "markdown",
     "metadata": {},
     "source": [
      "The module 'TelApy.api.t2d' defines a class named 'Telemac2d'. The user will have to instantiate an object from this class in order to run Telemac with all the facilities offered by the API."
     ]
    },
    {
     "cell_type": "code",
     "collapsed": false,
     "input": [
      "# Changing of directory : 'examples' directory of the Telemac sources\n",
      "import os\n",
      "HOMETEL = os.environ.get('HOMETEL')\n",
      "os.chdir(HOMETEL + '/examples/telemac2d/breach')\n",
      "\n",
      "# Instantiation of a Telemac2d object from the test case named 'breach'\n",
      "# - steering file : 't2d_breach.cas'\n",
      "# - language : french (1) or english (2: default)\n",
      "from telapy.api.t2d import Telemac2d\n",
      "from mpi4py import MPI\n",
      "my_case = Telemac2d('t2d_breach.cas', lang=1, comm=MPI.COMM_WORLD)\n",
      "my_case"
     ],
     "language": "python",
     "metadata": {},
     "outputs": [
      {
       "metadata": {},
       "output_type": "pyout",
       "prompt_number": 5,
       "text": [
        "<telapy.api.t2d.Telemac2d at 0x7fc4f8016a90>"
       ]
      }
     ],
     "prompt_number": 5
    },
    {
     "cell_type": "markdown",
     "metadata": {},
     "source": [
      "An object 'my_case' is now created. This object offers some useful methods to communicate with the Telemac computational kernel. These (non exaustive) methods are seen with:"
     ]
    },
    {
     "cell_type": "code",
     "collapsed": false,
     "input": [
      "dir(my_case)"
     ],
     "language": "python",
     "metadata": {},
     "outputs": [
      {
       "metadata": {},
       "output_type": "pyout",
       "prompt_number": 6,
       "text": [
        "['__class__',\n",
        " '__del__',\n",
        " '__delattr__',\n",
        " '__dict__',\n",
        " '__dir__',\n",
        " '__doc__',\n",
        " '__eq__',\n",
        " '__format__',\n",
        " '__ge__',\n",
        " '__getattribute__',\n",
        " '__gt__',\n",
        " '__hash__',\n",
        " '__init__',\n",
        " '__le__',\n",
        " '__lt__',\n",
        " '__module__',\n",
        " '__ne__',\n",
        " '__new__',\n",
        " '__reduce__',\n",
        " '__reduce_ex__',\n",
        " '__repr__',\n",
        " '__setattr__',\n",
        " '__sizeof__',\n",
        " '__str__',\n",
        " '__subclasshook__',\n",
        " '__weakref__',\n",
        " '_api',\n",
        " '_error',\n",
        " '_initstate',\n",
        " '_instanciated',\n",
        " 'api_get_boolean',\n",
        " 'api_get_double',\n",
        " 'api_get_double_array',\n",
        " 'api_get_integer',\n",
        " 'api_get_integer_array',\n",
        " 'api_get_string',\n",
        " 'api_handle_error',\n",
        " 'api_inter',\n",
        " 'api_set_boolean',\n",
        " 'api_set_double',\n",
        " 'api_set_double_array',\n",
        " 'api_set_integer',\n",
        " 'api_set_integer_array',\n",
        " 'api_set_string',\n",
        " 'bottom',\n",
        " 'cas',\n",
        " 'casfile',\n",
        " 'code',\n",
        " 'comm',\n",
        " 'concatenation_step',\n",
        " 'coordx',\n",
        " 'coordy',\n",
        " 'depth',\n",
        " 'dicofile',\n",
        " 'dump_var_info',\n",
        " 'error',\n",
        " 'fcomm',\n",
        " 'finalize',\n",
        " 'generate_var_info',\n",
        " 'get',\n",
        " 'get_array',\n",
        " 'get_elem',\n",
        " 'get_error_message',\n",
        " 'get_mesh',\n",
        " 'get_node',\n",
        " 'get_on_polygon',\n",
        " 'get_on_range',\n",
        " 'get_state',\n",
        " 'get_var_size',\n",
        " 'get_var_type',\n",
        " 'hsave',\n",
        " 'init_state_default',\n",
        " 'lang',\n",
        " 'list_variables',\n",
        " 'logger',\n",
        " 'mod_handle_var',\n",
        " 'my_id',\n",
        " 'name',\n",
        " 'nbnodes',\n",
        " 'ncsize',\n",
        " 'nelem',\n",
        " 'parallel_run',\n",
        " 'partitionning_step',\n",
        " 'rank',\n",
        " 'restore_state',\n",
        " 'run_all_time_steps',\n",
        " 'run_allocation',\n",
        " 'run_finalize',\n",
        " 'run_init',\n",
        " 'run_one_time_step',\n",
        " 'run_read_case',\n",
        " 'run_set_config',\n",
        " 'run_timestep',\n",
        " 'save_state',\n",
        " 'set',\n",
        " 'set_array',\n",
        " 'set_bathy',\n",
        " 'set_case',\n",
        " 'set_on_polygon',\n",
        " 'set_on_range',\n",
        " 'set_state',\n",
        " 'show_mesh',\n",
        " 'show_state',\n",
        " 'stdout',\n",
        " 'tri',\n",
        " 'u_vel',\n",
        " 'usave',\n",
        " 'v_vel',\n",
        " 'vsave']"
       ]
      }
     ],
     "prompt_number": 6
    },
    {
     "cell_type": "heading",
     "level": 1,
     "metadata": {
      "collapsed": true
     },
     "source": [
      "API description"
     ]
    },
    {
     "cell_type": "markdown",
     "metadata": {},
     "source": [
      "The methods listed above give access to the Fortran Telemac API and to some extra functionalities based on Python packages like 'numpy' or 'matplotlib'. The list is still uncomplete and will be improved in future."
     ]
    },
    {
     "cell_type": "heading",
     "level": 3,
     "metadata": {},
     "source": [
      "Get the value of a Telemac variable"
     ]
    },
    {
     "cell_type": "code",
     "collapsed": false,
     "input": [
      "help(my_case.get)"
     ],
     "language": "python",
     "metadata": {},
     "outputs": [
      {
       "output_type": "stream",
       "stream": "stdout",
       "text": [
        "Help on method get in module telapy.api.api_module:\n",
        "\n",
        "get(varname, i=-1, j=-1, k=-1, global_num=True) method of telapy.api.t2d.Telemac2d instance\n",
        "    Get the value of a variable of Telemac 2D\n",
        "    \n",
        "    @param varname Name of the variable\n",
        "    @param i index on first dimension\n",
        "    @param j index on second dimension\n",
        "    @param k index on third dimension\n",
        "    @param global_num Are the index on local/global numbering\n",
        "    \n",
        "    @retuns variable value\n",
        "\n"
       ]
      }
     ],
     "prompt_number": 7
    },
    {
     "cell_type": "heading",
     "level": 3,
     "metadata": {},
     "source": [
      "Get a node number"
     ]
    },
    {
     "cell_type": "code",
     "collapsed": false,
     "input": [
      "help(my_case.get_node)"
     ],
     "language": "python",
     "metadata": {},
     "outputs": [
      {
       "output_type": "stream",
       "stream": "stdout",
       "text": [
        "Help on method get_node in module telapy.api.api_module:\n",
        "\n",
        "get_node(xval, yval) method of telapy.api.t2d.Telemac2d instance\n",
        "    Get the nearest node number for the coordinates (xval, yval).\n",
        "    \n",
        "    @param xval X coordinate.\n",
        "    @param yval Y coordinate.\n",
        "    \n",
        "    @returns An integer value from 0 to (nbnode-1).\n",
        "\n"
       ]
      }
     ],
     "prompt_number": 8
    },
    {
     "cell_type": "heading",
     "level": 3,
     "metadata": {},
     "source": [
      "Get an element number"
     ]
    },
    {
     "cell_type": "code",
     "collapsed": false,
     "input": [
      "help(my_case.get_elem)"
     ],
     "language": "python",
     "metadata": {},
     "outputs": [
      {
       "output_type": "stream",
       "stream": "stdout",
       "text": [
        "Help on method get_elem in module telapy.api.api_module:\n",
        "\n",
        "get_elem(xval, yval) method of telapy.api.t2d.Telemac2d instance\n",
        "    Get the triangle where the point (xval, yval) is\n",
        "    \n",
        "    @param xval X coordinate\n",
        "    @param yval Y coordinate\n",
        "    \n",
        "    @return integer value from 0 to (nbtriangle-1)\n",
        "             (-1 if no triangle found)\n",
        "\n"
       ]
      }
     ],
     "prompt_number": 9
    },
    {
     "cell_type": "heading",
     "level": 3,
     "metadata": {},
     "source": [
      "Error message from Telemac"
     ]
    },
    {
     "cell_type": "code",
     "collapsed": false,
     "input": [
      "help(my_case.get_error_message)"
     ],
     "language": "python",
     "metadata": {},
     "outputs": [
      {
       "output_type": "stream",
       "stream": "stdout",
       "text": [
        "Help on method get_error_message in module telapy.api.api_module:\n",
        "\n",
        "get_error_message() method of telapy.api.t2d.Telemac2d instance\n",
        "    Get the error message from the Fortran sources of Telemac 2D\n",
        "    \n",
        "    @retuns character string of the error message\n",
        "\n"
       ]
      }
     ],
     "prompt_number": 10
    },
    {
     "cell_type": "heading",
     "level": 3,
     "metadata": {},
     "source": [
      "Mesh coordinates and connectivity"
     ]
    },
    {
     "cell_type": "code",
     "collapsed": false,
     "input": [
      "help(my_case.get_mesh)"
     ],
     "language": "python",
     "metadata": {},
     "outputs": [
      {
       "output_type": "stream",
       "stream": "stdout",
       "text": [
        "Help on method get_mesh in module telapy.api.api_module:\n",
        "\n",
        "get_mesh() method of telapy.api.t2d.Telemac2d instance\n",
        "    Get the 2D mesh of triangular cells\n",
        "    \n",
        "    @returns X, Y coordinates and connectivity\n",
        "\n"
       ]
      }
     ],
     "prompt_number": 11
    },
    {
     "cell_type": "heading",
     "level": 3,
     "metadata": {},
     "source": [
      "Hydraulic state"
     ]
    },
    {
     "cell_type": "code",
     "collapsed": false,
     "input": [
      "help(my_case.get_state)"
     ],
     "language": "python",
     "metadata": {},
     "outputs": [
      {
       "output_type": "stream",
       "stream": "stdout",
       "text": [
        "Help on method get_state in module telapy.api.t2d:\n",
        "\n",
        "get_state() method of telapy.api.t2d.Telemac2d instance\n",
        "    Get the hydraulic state\n",
        "    \n",
        "    @retuns the hydraulic state: depth (m) .. u_vel (m/s) .. v_vel (m/s)\n",
        "\n"
       ]
      }
     ],
     "prompt_number": 12
    },
    {
     "cell_type": "code",
     "collapsed": false,
     "input": [
      "help(my_case.set_state)"
     ],
     "language": "python",
     "metadata": {},
     "outputs": [
      {
       "output_type": "stream",
       "stream": "stdout",
       "text": [
        "Help on method set_state in module telapy.api.t2d:\n",
        "\n",
        "set_state(hval, uval, vval) method of telapy.api.t2d.Telemac2d instance\n",
        "    Set the hydraulic state: hval (m) .. uval (m/s) .. vval (m/s)\n",
        "    \n",
        "    @param hval Water depth value\n",
        "    @param uval Velocity U value\n",
        "    @param vval Velocity V value\n",
        "\n"
       ]
      }
     ],
     "prompt_number": 13
    },
    {
     "cell_type": "heading",
     "level": 3,
     "metadata": {},
     "source": [
      "Read the steering file"
     ]
    },
    {
     "cell_type": "code",
     "collapsed": false,
     "input": [
      "help(my_case.set_case)"
     ],
     "language": "python",
     "metadata": {},
     "outputs": [
      {
       "output_type": "stream",
       "stream": "stdout",
       "text": [
        "Help on method set_case in module telapy.api.api_module:\n",
        "\n",
        "set_case(init=True) method of telapy.api.t2d.Telemac2d instance\n",
        "    Read the steering file and run allocation\n",
        "    \n",
        "    @param init (boolean) If true calling p_init\n",
        "\n"
       ]
      }
     ],
     "prompt_number": 14
    },
    {
     "cell_type": "heading",
     "level": 3,
     "metadata": {},
     "source": [
      "State initialisation"
     ]
    },
    {
     "cell_type": "code",
     "collapsed": false,
     "input": [
      "help(my_case.init_state_default)"
     ],
     "language": "python",
     "metadata": {},
     "outputs": [
      {
       "output_type": "stream",
       "stream": "stdout",
       "text": [
        "Help on method init_state_default in module telapy.api.api_module:\n",
        "\n",
        "init_state_default() method of telapy.api.t2d.Telemac2d instance\n",
        "    Initialize the state of the model Telemac 2D with the values of\n",
        "    disharges and water levels as indicated by the steering file\n",
        "\n"
       ]
      }
     ],
     "prompt_number": 15
    },
    {
     "cell_type": "heading",
     "level": 3,
     "metadata": {},
     "source": [
      "Save a state"
     ]
    },
    {
     "cell_type": "code",
     "collapsed": false,
     "input": [
      "help(my_case.save_state)"
     ],
     "language": "python",
     "metadata": {},
     "outputs": [
      {
       "output_type": "stream",
       "stream": "stdout",
       "text": [
        "Help on method save_state in module telapy.api.t2d:\n",
        "\n",
        "save_state() method of telapy.api.t2d.Telemac2d instance\n",
        "    Save the hydraulic state\n",
        "\n"
       ]
      }
     ],
     "prompt_number": 16
    },
    {
     "cell_type": "heading",
     "level": 3,
     "metadata": {},
     "source": [
      "Back to a saved state"
     ]
    },
    {
     "cell_type": "code",
     "collapsed": false,
     "input": [
      "help(my_case.restore_state)"
     ],
     "language": "python",
     "metadata": {},
     "outputs": [
      {
       "output_type": "stream",
       "stream": "stdout",
       "text": [
        "Help on method restore_state in module telapy.api.t2d:\n",
        "\n",
        "restore_state() method of telapy.api.t2d.Telemac2d instance\n",
        "    Restore the hydraulic state\n",
        "\n"
       ]
      }
     ],
     "prompt_number": 17
    },
    {
     "cell_type": "heading",
     "level": 3,
     "metadata": {},
     "source": [
      "Run Telemac for one time step"
     ]
    },
    {
     "cell_type": "code",
     "collapsed": false,
     "input": [
      "help(my_case.run_one_time_step)"
     ],
     "language": "python",
     "metadata": {},
     "outputs": [
      {
       "output_type": "stream",
       "stream": "stdout",
       "text": [
        "Help on method run_one_time_step in module telapy.api.api_module:\n",
        "\n",
        "run_one_time_step() method of telapy.api.t2d.Telemac2d instance\n",
        "    Run one time step\n",
        "\n"
       ]
      }
     ],
     "prompt_number": 18
    },
    {
     "cell_type": "heading",
     "level": 3,
     "metadata": {},
     "source": [
      "Run Telemac for all the time steps"
     ]
    },
    {
     "cell_type": "code",
     "collapsed": false,
     "input": [
      "help(my_case.run_all_time_steps)"
     ],
     "language": "python",
     "metadata": {},
     "outputs": [
      {
       "output_type": "stream",
       "stream": "stdout",
       "text": [
        "Help on method run_all_time_steps in module telapy.api.api_module:\n",
        "\n",
        "run_all_time_steps() method of telapy.api.t2d.Telemac2d instance\n",
        "    Run all the time steps\n",
        "    \n",
        "    @retuns the number of computed time steps\n",
        "\n"
       ]
      }
     ],
     "prompt_number": 19
    },
    {
     "cell_type": "heading",
     "level": 3,
     "metadata": {},
     "source": [
      "Change the value of a Telemac variable"
     ]
    },
    {
     "cell_type": "code",
     "collapsed": false,
     "input": [
      "help(my_case.set)"
     ],
     "language": "python",
     "metadata": {},
     "outputs": [
      {
       "output_type": "stream",
       "stream": "stdout",
       "text": [
        "Help on method set in module telapy.api.api_module:\n",
        "\n",
        "set(varname, value, i=-1, j=-1, k=-1, global_num=True) method of telapy.api.t2d.Telemac2d instance\n",
        "    Get the value of a variable of Telemac 2D\n",
        "    \n",
        "    @param varname Name of the variable\n",
        "    @param i index on first dimension\n",
        "    @param j index on second dimension\n",
        "    @param k index on third dimension\n",
        "    @param global_num Are the index on local/global numbering\n",
        "    \n",
        "    @retuns variable value\n",
        "\n"
       ]
      }
     ],
     "prompt_number": 20
    },
    {
     "cell_type": "heading",
     "level": 3,
     "metadata": {},
     "source": [
      "Plotting the mesh"
     ]
    },
    {
     "cell_type": "code",
     "collapsed": false,
     "input": [
      "help(my_case.show_mesh)"
     ],
     "language": "python",
     "metadata": {},
     "outputs": [
      {
       "output_type": "stream",
       "stream": "stdout",
       "text": [
        "Help on method show_mesh in module telapy.api.api_module:\n",
        "\n",
        "show_mesh(show=True, visu2d=True) method of telapy.api.t2d.Telemac2d instance\n",
        "    Show the 2D mesh with topography\n",
        "    \n",
        "    @param show Display the graph (Default True)\n",
        "    @param visu2d 2d display (Default True)\n",
        "    \n",
        "    @retuns the figure object\n",
        "\n"
       ]
      }
     ],
     "prompt_number": 21
    },
    {
     "cell_type": "heading",
     "level": 3,
     "metadata": {},
     "source": [
      "Plotting the state"
     ]
    },
    {
     "cell_type": "code",
     "collapsed": false,
     "input": [
      "help(my_case.show_state)"
     ],
     "language": "python",
     "metadata": {},
     "outputs": [
      {
       "output_type": "stream",
       "stream": "stdout",
       "text": [
        "Help on method show_state in module telapy.api.t2d:\n",
        "\n",
        "show_state(show=True) method of telapy.api.t2d.Telemac2d instance\n",
        "    Show the hydraulic state with matplotlib\n",
        "    \n",
        "    @param show Display the graph (Default True)\n",
        "    \n",
        "    @retuns the figure object\n",
        "\n"
       ]
      }
     ],
     "prompt_number": 22
    },
    {
     "cell_type": "heading",
     "level": 1,
     "metadata": {},
     "source": [
      "Telemac Variables"
     ]
    },
    {
     "cell_type": "markdown",
     "metadata": {},
     "source": [
      "All the variables and parameters available with the API to set or get a value can be seen with:"
     ]
    },
    {
     "cell_type": "code",
     "collapsed": false,
     "input": [
      "varnames, varinfo = my_case.list_variables()"
     ],
     "language": "python",
     "metadata": {},
     "outputs": [],
     "prompt_number": 23
    },
    {
     "cell_type": "code",
     "collapsed": false,
     "input": [
      "for a, b in zip(varnames, varinfo):\n",
      "    print(a + '\\t\\t\\t' + b)"
     ],
     "language": "python",
     "metadata": {},
     "outputs": [
      {
       "output_type": "stream",
       "stream": "stdout",
       "text": [
        "MODEL.AT\t\t\tCURRENT TIME\n",
        "MODEL.BCFILE\t\t\tBOUNDARY CONDITION FILE NAME\n",
        "MODEL.BND_TIDE\t\t\tOPTION FOR TIDAL BOUNDARY CONDITIONS\n",
        "MODEL.BOTTOMELEVATION\t\t\tLEVEL OF THE BOTTOM\n",
        "MODEL.CHESTR\t\t\tSTRIKLER ON POINT\n",
        "MODEL.FAIR\t\t\tFAIR ON POINT\n",
        "MODEL.COTE\t\t\txxx\n",
        "MODEL.CPL_PERIOD\t\t\tCOUPLING PERIOD WITH SISYPHE\n",
        "MODEL.DEBIT\t\t\tDISCHARGE ON FRONTIER\n",
        "MODEL.DEBUG\t\t\tACTIVATING DEBUG MODE\n",
        "MODEL.FLUX_BOUNDARIES\t\t\tFLUX AT BOUNDARIES\n",
        "MODEL.GEOMETRYFILE\t\t\tNAME OF THE GEOMERY FILE\n",
        "MODEL.METEOFILE\t\t\tNAME OF THE BINARY ATMOSPHERIC FILE\n",
        "MODEL.FO2FILE\t\t\tNAME OF THE FORMATTED DATA FILE 2\n",
        "MODEL.LIQBCFILE\t\t\tNAME OF THE LIQUID BOUNDARIES FILE\n",
        "MODEL.GRAPH_PERIOD\t\t\tGRAPHICAL OUTPUT PERIOD\n",
        "MODEL.HBOR\t\t\tBOUNDARY VALUE ON H FOR EACH BOUNDARY POINT\n",
        "MODEL.IKLE\t\t\tCONNECTIVITY TABLE BETWEEN ELEMENT AND NODES\n",
        "MODEL.NACHB\t\t\tNUMBERS OF PROC CONTAINING A GIVEN POINT\n",
        "MODEL.KNOLG\t\t\tGIVES THE INITIAL GLOBAL NUMBER OF A LOCAL POINT\n",
        "MODEL.INCWATERDEPTH\t\t\tINCREASE IN THE THE DEPTH OF THE WATER\n",
        "MODEL.KP1BOR\t\t\tPOINTS FOLLOWING AND PRECEDING A BOUNDARY POINT\n",
        "MODEL.LIHBOR\t\t\tBOUNDARY TYPE ON H FOR EACH BOUNDARY POINT\n",
        "MODEL.LISTIN_PERIOD\t\t\tLISTING OUTPUT PERIOD\n",
        "MODEL.LIUBOR\t\t\tBOUNDARY TYPE ON U FOR EACH BOUNDARY POINT\n",
        "MODEL.LIVBOR\t\t\tBOUNDARY TYPE ON V FOR EACH BOUNDARY POINT\n",
        "MODEL.LT\t\t\tCURRENT TIME STEP\n",
        "MODEL.NBMAXNSHARE\t\t\tMAXIMUM GEOMETRICAL MULTIPLICITY OF A NODE\n",
        "MODEL.COMPLEO\t\t\tGRAPHIC OUTPUT COUNTER\n",
        "MODEL.NPTIR\t\t\tNUMBER OF INTERFACE POINTS OF THE SUB-DOMAIN\n",
        "MODEL.NBOR\t\t\tGLOBAL NUMBER OF BOUNDARY POINTS\n",
        "MODEL.NELEM\t\t\tNUMBER OF ELEMENT IN THE MESH\n",
        "MODEL.NELMAX\t\t\tMAXIMUM NUMBER OF ELEMENTS ENVISAGED\n",
        "MODEL.NPOIN\t\t\tNUMBER OF POINT IN THE MESH\n",
        "MODEL.NPTFR\t\t\tNUMBER OF BOUNDARY POINTS\n",
        "MODEL.NTIMESTEPS\t\t\tNUMBER OF TIME STEPS\n",
        "MODEL.NUMLIQ\t\t\tLIQUID BOUNDARY NUMBERS\n",
        "MODEL.POROSITY\t\t\tPOROSITY\n",
        "MODEL.RESULTFILE\t\t\tNAME OF THE RESULT FILE\n",
        "MODEL.SEALEVEL\t\t\tCOEFFICIENT TO CALIBRATE SEA LEVEL\n",
        "MODEL.TIDALRANGE\t\t\tCOEFFICIENT TO CALIBRATE TIDAL RANGE\n",
        "MODEL.UBOR\t\t\tBOUNDARY VALUE ON U FOR EACH BOUNDARY POINT\n",
        "MODEL.VBOR\t\t\tBOUNDARY VALUE ON V FOR EACH BOUNDARY POINT\n",
        "MODEL.VELOCITYU\t\t\tVELOCITY ON U\n",
        "MODEL.VELOCITYV\t\t\tVELOCITY ON V\n",
        "MODEL.WATERDEPTH\t\t\tDEPTH OF THE WATER\n",
        "MODEL.X\t\t\tX COORDINATES FOR EACH POINT OF THE MESH\n",
        "MODEL.XNEBOR\t\t\tNORMAL X TO 1D BOUNDARY POINTS\n",
        "MODEL.Y\t\t\tY COORDINATES FOR EACH POINT OF THE MESH\n",
        "MODEL.YNEBOR\t\t\tNORMAL Y TO 1D BOUNDARY POINTS\n",
        "MODEL.EQUATION\t\t\tNAME OF THE EQUATION USED\n",
        "MODEL.INIT_DEPTH\t\t\tINITIAL DEPTH\n",
        "MODEL.TRACER\t\t\tTRACERS VALUE\n",
        "MODEL.NTRAC\t\t\tNUMBER OF TRACERS\n"
       ]
      }
     ],
     "prompt_number": 24
    },
    {
     "cell_type": "heading",
     "level": 1,
     "metadata": {},
     "source": [
      "Example of use"
     ]
    },
    {
     "cell_type": "markdown",
     "metadata": {},
     "source": [
      "Knowing now the API and the variables, a Telemac computation on the test example named 'breach' could be:"
     ]
    },
    {
     "cell_type": "heading",
     "level": 2,
     "metadata": {},
     "source": [
      "Read the steering file and do allocations"
     ]
    },
    {
     "cell_type": "code",
     "collapsed": false,
     "input": [
      "my_case.set_case()"
     ],
     "language": "python",
     "metadata": {},
     "outputs": [
      {
       "metadata": {},
       "output_type": "pyout",
       "prompt_number": 25,
       "text": [
        "0"
       ]
      }
     ],
     "prompt_number": 25
    },
    {
     "cell_type": "heading",
     "level": 2,
     "metadata": {},
     "source": [
      "Initialisation"
     ]
    },
    {
     "cell_type": "code",
     "collapsed": false,
     "input": [
      "my_case.init_state_default()"
     ],
     "language": "python",
     "metadata": {},
     "outputs": [],
     "prompt_number": 26
    },
    {
     "cell_type": "heading",
     "level": 2,
     "metadata": {},
     "source": [
      "Mesh view"
     ]
    },
    {
     "cell_type": "code",
     "collapsed": false,
     "input": [
      "%matplotlib inline\n",
      "my_figure = my_case.show_mesh(visu2d=False)"
     ],
     "language": "python",
     "metadata": {},
     "outputs": [
      {
       "metadata": {},
       "output_type": "display_data",
       "png": "[encoded data removed]",
       "text": [
        "<matplotlib.figure.Figure at 0x7fc4d402c588>"
       ]
      }
     ],
     "prompt_number": 27
    },
    {
     "cell_type": "heading",
     "level": 2,
     "metadata": {},
     "source": [
      "Simulation"
     ]
    },
    {
     "cell_type": "code",
     "collapsed": false,
     "input": [
      "for i in range(10):\n",
      "    my_case.run_one_time_step()"
     ],
     "language": "python",
     "metadata": {},
     "outputs": [],
     "prompt_number": 28
    },
    {
     "cell_type": "heading",
     "level": 2,
     "metadata": {},
     "source": [
      "Current state"
     ]
    },
    {
     "cell_type": "heading",
     "level": 3,
     "metadata": {},
     "source": [
      "Values"
     ]
    },
    {
     "cell_type": "code",
     "collapsed": false,
     "input": [
      "import numpy as np\n",
      "\n",
      "h, u, v = my_case.get_state()\n",
      "\n",
      "print('Mean water height (m) = ', h.mean())\n",
      "print('Max velocity (m/s) = ', np.amax(np.sqrt(u * u + v * v)))"
     ],
     "language": "python",
     "metadata": {},
     "outputs": [
      {
       "output_type": "stream",
       "stream": "stdout",
       "text": [
        "Mean water height (m) =  0.872949260251\n",
        "Max velocity (m/s) =  2.55966406785\n"
       ]
      }
     ],
     "prompt_number": 29
    },
    {
     "cell_type": "heading",
     "level": 3,
     "metadata": {},
     "source": [
      "Graph"
     ]
    },
    {
     "cell_type": "code",
     "collapsed": false,
     "input": [
      "my_new_figure = my_case.show_state(show=True)"
     ],
     "language": "python",
     "metadata": {},
     "outputs": [
      {
       "metadata": {},
       "output_type": "display_data",
       "png": "[encoded data removed]",
       "text": [
        "<matplotlib.figure.Figure at 0x7fc50039b240>"
       ]
      }
     ],
     "prompt_number": 30
    },
    {
     "cell_type": "heading",
     "level": 3,
     "metadata": {},
     "source": [
      "Save"
     ]
    },
    {
     "cell_type": "code",
     "collapsed": false,
     "input": [
      "my_case.save_state()\n",
      "my_case.hsave\n",
      "my_case.usave\n",
      "my_case.vsave"
     ],
     "language": "python",
     "metadata": {},
     "outputs": [
      {
       "metadata": {},
       "output_type": "pyout",
       "prompt_number": 31,
       "text": [
        "array([  2.77388754e-08,   0.00000000e+00,   2.15638507e-08, ...,\n",
        "        -1.54989192e-03,   1.43419916e-03,   1.97240494e-03])"
       ]
      }
     ],
     "prompt_number": 31
    },
    {
     "cell_type": "heading",
     "level": 3,
     "metadata": {},
     "source": [
      "Change"
     ]
    },
    {
     "cell_type": "code",
     "collapsed": false,
     "input": [
      "# to null velocity\n",
      "number_of_nodes = my_case.get('MODEL.NPOIN')\n",
      "value = np.zeros(number_of_nodes)\n",
      "my_case.set_array('MODEL.VELOCITYU', value)\n",
      "my_case.set_array('MODEL.VELOCITYV', value)\n",
      "   \n",
      "h, u, v = my_case.get_state()\n",
      "print('Mean velocity (m/s) = ', np.mean(np.sqrt(u * u + v * v)))"
     ],
     "language": "python",
     "metadata": {},
     "outputs": [
      {
       "output_type": "stream",
       "stream": "stdout",
       "text": [
        "Mean velocity (m/s) =  0.0\n"
       ]
      }
     ],
     "prompt_number": 32
    },
    {
     "cell_type": "heading",
     "level": 3,
     "metadata": {},
     "source": [
      "Restore"
     ]
    },
    {
     "cell_type": "code",
     "collapsed": false,
     "input": [
      "err = my_case.restore_state()\n",
      "\n",
      "h, u, v = my_case.get_state()\n",
      "print('Max velocity (m/s) = ', np.amax(np.sqrt(u * u + v * v)))"
     ],
     "language": "python",
     "metadata": {},
     "outputs": [
      {
       "output_type": "stream",
       "stream": "stdout",
       "text": [
        "Max velocity (m/s) =  2.55966406785\n"
       ]
      }
     ],
     "prompt_number": 33
    },
    {
     "cell_type": "heading",
     "level": 2,
     "metadata": {},
     "source": [
      "Parameters"
     ]
    },
    {
     "cell_type": "code",
     "collapsed": false,
     "input": [
      "# bottom elevation at node no. 102\n",
      "my_case.get('MODEL.BOTTOMELEVATION', 102)"
     ],
     "language": "python",
     "metadata": {},
     "outputs": [
      {
       "metadata": {},
       "output_type": "pyout",
       "prompt_number": 34,
       "text": [
        "7.179999828338623"
       ]
      }
     ],
     "prompt_number": 34
    },
    {
     "cell_type": "code",
     "collapsed": false,
     "input": [
      "# friction coefficient (Strickler value) at node no. 500\n",
      "my_case.get('MODEL.CHESTR', 500)"
     ],
     "language": "python",
     "metadata": {},
     "outputs": [
      {
       "metadata": {},
       "output_type": "pyout",
       "prompt_number": 35,
       "text": [
        "15.0"
       ]
      }
     ],
     "prompt_number": 35
    },
    {
     "cell_type": "heading",
     "level": 2,
     "metadata": {},
     "source": [
      "Deletion"
     ]
    },
    {
     "cell_type": "code",
     "collapsed": true,
     "input": [
      "my_case.finalize()\n",
      "del my_case"
     ],
     "language": "python",
     "metadata": {},
     "outputs": [],
     "prompt_number": 36
    }
   ],
   "metadata": {}
  }
 ]
}
