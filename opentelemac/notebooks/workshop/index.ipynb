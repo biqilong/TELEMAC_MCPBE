{
 "cells": [
  {
   "cell_type": "markdown",
   "metadata": {},
   "source": [
    "# Workshop Postel\n",
    "\n",
    "\n",
    "# Manipulation of notebooks\n",
    "A quick introductions to notebooks maybe via a tuto showing the usage of TelemacFile and TelemacCas ?\n",
    "\n",
    "Each test should be in a different notebook.\n",
    "\n",
    "\n",
    "# Test tide 2D (t2d_tide-ES_real.cas)\n",
    "  from enonce_TP_maree_plages_Normandie_2019.docx\n",
    "\n",
    "  * Display mesh, mesh with bnd, mesh with liquid bnd\n",
    "  \n",
    "  from result file:\n",
    "\n",
    "  * Display FREE SURFACE for a range of time steps\n",
    "  \n",
    "  * Display velocity vectors for a range of time steps\n",
    "  \n",
    "  * Display timeseries on a couple of nodes and specific points (see in file for exact points) \n",
    "  * Display mesh + points on interest on the same graph\n",
    "  \n",
    "  * Display along a polyline ? (Read polyline from shapefile and display mesh + polyline on same plot)\n",
    "  \n",
    "  Maybe we add other 2d plot in there (background plot...)\n",
    "  \n",
    "# Test Thermic\n",
    "   from enonce_TP_maree_plages_Normandie_T3D_thermique_2019.docx\n",
    "  \n",
    "   * Display of horizontal mesh and vertical mesh\n",
    "   * display of horizontal slice of a variable (the tracer ?)\n",
    "   * Display of a vertical slice of a variable \n",
    "   \n",
    "   * Display of the same slice for 3 type of results (different turbulence models, mesh transformation 2d mesh...)\n",
    "   \n",
    "# Test 1d \n",
    "   Give a range of what can be done in the notebook.\n",
    "   \n",
    "# Test tomawac\n",
    "   Do a couple of post treatment on spectrum need a nice spectrum file.\n",
    "\n",
    "# Test of plot.py\n",
    "   Take a couple of the previous plots and give an example with plot.py.\n",
    "   \n",
    "# Test case to test data_manip/computation\n",
    "   A test case to use all the computation action or maybe change some of the previous test casse and do them there\n",
    "   \n",
    "  * How to compute the wet area over a polygonal chain\n",
    "  * How to compute the flow rate through a polygonal chain\n",
    "  * How to compute the solid discharge through a polygonal chain\n",
    "  * How to compute the flux of a scalar through polygonal chain\n",
    "  * How to compute volume information from a telemac file\n",
    "   \n",
    "   \n",
    "# Questions ?\n",
    "   * Do we add examples on how to use run_selafin.py\n",
    "   * Do we add one on diff on regular grid\n",
    "   * Do we add one on the extraction from telemac listing (can be the same as on one that computes fluxes ?)"
   ]
  },
  {
   "cell_type": "code",
   "execution_count": null,
   "metadata": {
    "collapsed": true
   },
   "outputs": [],
   "source": []
  }
 ],
 "metadata": {
  "kernelspec": {
   "display_name": "Python 3",
   "language": "python",
   "name": "python3"
  },
  "language_info": {
   "codemirror_mode": {
    "name": "ipython",
    "version": 3
   },
   "file_extension": ".py",
   "mimetype": "text/x-python",
   "name": "python",
   "nbconvert_exporter": "python",
   "pygments_lexer": "ipython3",
   "version": "3.5.3"
  }
 },
 "nbformat": 4,
 "nbformat_minor": 2
}
