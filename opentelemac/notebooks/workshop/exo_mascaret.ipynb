{
 "cells": [
  {
   "cell_type": "markdown",
   "metadata": {},
   "source": [
    "# Workshop Mascaret"
   ]
  },
  {
   "cell_type": "markdown",
   "metadata": {},
   "source": [
    "Test 24 case represents break hydraulic dam of Malpasset. "
   ]
  },
  {
   "cell_type": "markdown",
   "metadata": {},
   "source": [
    "## Exo 1: Run Test24 : Malpasset"
   ]
  },
  {
   "cell_type": "markdown",
   "metadata": {},
   "source": [
    "### Extract Geofile informations \n",
    "\n",
    "Use the MascaretGeoFile class to dump the information of the file (function summary)"
   ]
  },
  {
   "cell_type": "code",
   "execution_count": null,
   "metadata": {},
   "outputs": [],
   "source": [
    "from os import path, environ\n",
    "from data_manip.formats.mascaretgeo_file import MascaretGeoFile\n",
    "\n",
    "geo_file = path.join(environ['HOMETEL'],\n",
    "                     'examples', \n",
    "                     'mascaret', \n",
    "                     'Test24', \n",
    "                     'geometrie')"
   ]
  },
  {
   "cell_type": "code",
   "execution_count": null,
   "metadata": {
    "scrolled": true
   },
   "outputs": [],
   "source": []
  },
  {
   "cell_type": "markdown",
   "metadata": {},
   "source": [
    "### Run the test case \n",
    "\n",
    "Run the mascaret case (in $HOMETEL/examples/mascaret/Test24) mascaret_imp.xcas.\n",
    "\n",
    "The cell below is a bash shell."
   ]
  },
  {
   "cell_type": "code",
   "execution_count": null,
   "metadata": {
    "scrolled": true
   },
   "outputs": [],
   "source": [
    "%%bash\n",
    "\n"
   ]
  },
  {
   "cell_type": "markdown",
   "metadata": {},
   "source": [
    "## Exo 2: Extraction and Plot results"
   ]
  },
  {
   "cell_type": "markdown",
   "metadata": {},
   "source": [
    "### Extract the summary data\n",
    "\n",
    "Use the class MascaretFile to load the .opt file defined below.\n",
    "\n",
    "This extraction allows you to know the sections, the time steps and output variables."
   ]
  },
  {
   "cell_type": "code",
   "execution_count": null,
   "metadata": {},
   "outputs": [],
   "source": [
    "from data_manip.formats.mascaret_file import MascaretFile\n",
    "\n",
    "opt_file = path.join(environ['HOMETEL'], \n",
    "                     'examples', \n",
    "                     'mascaret',\n",
    "                     'Test24', \n",
    "                     'mascaret_imp_ecr.opt')"
   ]
  },
  {
   "cell_type": "code",
   "execution_count": null,
   "metadata": {},
   "outputs": [],
   "source": []
  },
  {
   "cell_type": "markdown",
   "metadata": {},
   "source": [
    "### Display profiles results for different times\n",
    "\n",
    "Display the bottom and the water level for the following times step: 0, 5, 10, 15, 20, 25, 30"
   ]
  },
  {
   "cell_type": "code",
   "execution_count": null,
   "metadata": {
    "scrolled": true
   },
   "outputs": [],
   "source": []
  },
  {
   "cell_type": "markdown",
   "metadata": {},
   "source": [
    "### Display temporal results for sections\n",
    "\n",
    "Select the sections with the following pk:\n",
    "\n",
    "5058.5, 7133.42, 9672.25,11571.54"
   ]
  },
  {
   "cell_type": "code",
   "execution_count": null,
   "metadata": {},
   "outputs": [],
   "source": []
  },
  {
   "cell_type": "markdown",
   "metadata": {},
   "source": [
    "Display temporal water level for those sections"
   ]
  },
  {
   "cell_type": "code",
   "execution_count": null,
   "metadata": {},
   "outputs": [],
   "source": []
  },
  {
   "cell_type": "markdown",
   "metadata": {},
   "source": [
    "## Exo 3: Files creation "
   ]
  },
  {
   "cell_type": "code",
   "execution_count": null,
   "metadata": {},
   "outputs": [],
   "source": [
    "from data_manip.formats.mascaret_file import MascaretFile\n",
    "\n",
    "path_rep = path.join(environ['HOMETEL'], \n",
    "                     'examples',\n",
    "                     'mascaret',\n",
    "                     'Test24')\n",
    "opt_file = path.join(path_rep, 'mascaret_imp_ecr.opt')"
   ]
  },
  {
   "cell_type": "markdown",
   "metadata": {},
   "source": [
    "### \".lig\" file Creation  (LIDOP format)\n",
    "\n",
    "Write the last time step from the \"opt_file\" in the LIDOP format file for compute reprise.\n",
    "\n",
    "The file whould be named \"mascaret_*times*.lig\" where *times* is time of the last time step."
   ]
  },
  {
   "cell_type": "code",
   "execution_count": null,
   "metadata": {},
   "outputs": [],
   "source": []
  },
  {
   "cell_type": "markdown",
   "metadata": {},
   "source": [
    "Display the .lig file:"
   ]
  },
  {
   "cell_type": "code",
   "execution_count": null,
   "metadata": {},
   "outputs": [],
   "source": [
    "%%bash\n",
    "\n"
   ]
  },
  {
   "cell_type": "markdown",
   "metadata": {},
   "source": [
    "### Delete variable of Opthyca result file"
   ]
  },
  {
   "cell_type": "code",
   "execution_count": null,
   "metadata": {},
   "outputs": [],
   "source": [
    "opt_zq_file = path.join(path_rep, 'mascaret_imp_ecr_ZQ.opt')"
   ]
  },
  {
   "cell_type": "markdown",
   "metadata": {},
   "source": [
    "Keep in new results file (use opt_zq_file for the name of the file):\n",
    "    - Initial and last  time step \n",
    "    - Three variables :  ZREF, Z, Q   "
   ]
  },
  {
   "cell_type": "code",
   "execution_count": null,
   "metadata": {},
   "outputs": [],
   "source": []
  },
  {
   "cell_type": "markdown",
   "metadata": {},
   "source": [
    "Check the new file which is created by reopening it with MascaretFile or do a cat in a bash cell."
   ]
  },
  {
   "cell_type": "code",
   "execution_count": null,
   "metadata": {
    "scrolled": true
   },
   "outputs": [],
   "source": []
  },
  {
   "cell_type": "markdown",
   "metadata": {},
   "source": [
    "or"
   ]
  },
  {
   "cell_type": "code",
   "execution_count": null,
   "metadata": {
    "scrolled": true
   },
   "outputs": [],
   "source": [
    "%%bash\n",
    "echo"
   ]
  }
 ],
 "metadata": {
  "kernelspec": {
   "display_name": "Python 3",
   "language": "python",
   "name": "python3"
  },
  "language_info": {
   "codemirror_mode": {
    "name": "ipython",
    "version": 3
   },
   "file_extension": ".py",
   "mimetype": "text/x-python",
   "name": "python",
   "nbconvert_exporter": "python",
   "pygments_lexer": "ipython3",
   "version": "3.5.3"
  }
 },
 "nbformat": 4,
 "nbformat_minor": 1
}
