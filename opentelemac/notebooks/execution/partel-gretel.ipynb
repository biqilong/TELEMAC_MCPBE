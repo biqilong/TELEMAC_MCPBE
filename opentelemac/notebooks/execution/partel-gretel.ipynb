{
 "metadata": {
  "kernelspec": {
   "display_name": "Python 3",
   "language": "python",
   "name": "python3"
  },
  "language_info": {
   "codemirror_mode": {
    "name": "ipython",
    "version": 3
   },
   "file_extension": ".py",
   "mimetype": "text/x-python",
   "name": "python",
   "nbconvert_exporter": "python",
   "pygments_lexer": "ipython3",
   "version": "3.5.3"
  },
  "name": ""
 },
 "nbformat": 3,
 "nbformat_minor": 0,
 "worksheets": [
  {
   "cells": [
    {
     "cell_type": "markdown",
     "metadata": {},
     "source": [
      "# Manual run of partel\n",
      "\n",
      "The script **partel.py** can be used to run manually partel (The splitting part of an execution)."
     ]
    },
    {
     "cell_type": "code",
     "collapsed": false,
     "input": [
      "%%bash\n",
      "\n",
      "partel.py -h"
     ],
     "language": "python",
     "metadata": {},
     "outputs": [
      {
       "output_type": "stream",
       "stream": "stdout",
       "text": [
        "\n",
        "\n",
        "Loading Options and Configurations\n",
        "~~~~~~~~~~~~~~~~~~~~~~~~~~~~~~~~~~~~~~~~~~~~~~~~~~~~~~~~~~~~~~~~~~~~~~~~\n",
        "\n",
        "usage: partel.py [-h] [-c config name] [-f config file] [-r TELEMAC root] [--input-file INPUT_FILE] [--file GEO_FILE] [--file-format GEO_FILE_FMT] [--bnd-file BND_FILE] [--ncsize NCSIZE] [--section-name SECTION_FILE]\n",
        "                 [--zone-name ZONE_FILE] [--weir-name WEIR_FILE] [--partitioning-method PART_METHOD] [--concat]\n",
        "\n",
        "Run the partitionning step (partel)\n",
        "\n",
        "optional arguments:\n",
        "  -h, --help            show this help message and exit\n",
        "  -c config name, --configname config name\n",
        "                        specify configuration name, default is randomly found in the configuration file\n",
        "  -f config file, --configfile config file\n",
        "                        specify configuration file, default is systel.cfg\n",
        "  -r TELEMAC root, --rootdir TELEMAC root\n",
        "                        specify the root, default is taken from config file\n",
        "  --input-file INPUT_FILE\n",
        "                        Name of partel parameter file (PARTEL.PAR). This option will surcharge all the others\n",
        "  --file GEO_FILE       Name of the file to be partitionned\n",
        "  --file-format GEO_FILE_FMT\n",
        "                        Format of the geometry file(SERAFIN,SERAFIND or MED), default is SERAFIN\n",
        "  --bnd-file BND_FILE   Name of the boundary file associated to the mesh file, default is T2DCLI\n",
        "  --ncsize NCSIZE       Number of partitions (should be equal to number of parallel processors), default is 8\n",
        "  --section-name SECTION_FILE\n",
        "                        Name of the section file, default no section file\n",
        "  --zone-name ZONE_FILE\n",
        "                        Name of the zone file, default no zone file\n",
        "  --weir-name WEIR_FILE\n",
        "                        Name of the weir file, default no weir file\n",
        "  --partitioning-method PART_METHOD\n",
        "                        Method used for the partitionning (1:metis, 2:scotch)\n",
        "  --concat              If true concatenate partel output\n"
       ]
      }
     ],
     "prompt_number": 1
    },
    {
     "cell_type": "markdown",
     "metadata": {},
     "source": [
      "We have two way to run the script:\n",
      "  * giving all the options in the command\n",
      "  * using an input file (This is how it is run within Telemac-Mascaret)\n",
      "  \n",
      "## Run with all options"
     ]
    },
    {
     "cell_type": "code",
     "collapsed": false,
     "input": [
      "%%bash\n",
      "\n",
      "cd $HOMETEL/examples/python3/partel-gretel\n",
      "\n",
      "partel.py --file geo_gouttedo.slf --ncsize=4 --file-format=SERAFIN --bnd-file geo_gouttedo.cli"
     ],
     "language": "python",
     "metadata": {},
     "outputs": [
      {
       "output_type": "stream",
       "stream": "stdout",
       "text": [
        "\n",
        "\n",
        "Loading Options and Configurations\n",
        "~~~~~~~~~~~~~~~~~~~~~~~~~~~~~~~~~~~~~~~~~~~~~~~~~~~~~~~~~~~~~~~~~~~~~~~~\n",
        "\n",
        "     +> /home/B61570/opentelemac/git/trunk/builds/C9.gfortran.dyn/bin/partel < partel_geo_gouttedo.slf.par >> partel_geo_gouttedo.slf.log\n",
        "\n",
        "\n",
        "My work is done\n",
        "\n",
        "\n"
       ]
      },
      {
       "output_type": "stream",
       "stream": "stderr",
       "text": [
        "STOP 0\n"
       ]
      }
     ],
     "prompt_number": 2
    },
    {
     "cell_type": "heading",
     "level": 2,
     "metadata": {},
     "source": [
      "Run with input file"
     ]
    },
    {
     "cell_type": "code",
     "collapsed": false,
     "input": [
      "%%bash \n",
      "\n",
      "cd $HOMETEL/examples/python3/partel-gretel\n",
      "\n",
      "cat partel.par\n",
      "\n",
      "partel.py --input partel.par"
     ],
     "language": "python",
     "metadata": {},
     "outputs": [
      {
       "output_type": "stream",
       "stream": "stdout",
       "text": [
        "geo_gouttedo.slf\n",
        "SERAFIN\n",
        "geo_gouttedo.cli\n",
        "4\n",
        "1\n",
        "\n",
        "\n",
        "\n",
        "geo_gouttedo.slf\n",
        "SERAFIN\n",
        "NO\n",
        "\n",
        "\n",
        "Loading Options and Configurations\n",
        "~~~~~~~~~~~~~~~~~~~~~~~~~~~~~~~~~~~~~~~~~~~~~~~~~~~~~~~~~~~~~~~~~~~~~~~~\n",
        "\n",
        "     +> /home/B61570/opentelemac/git/trunk/builds/C9.gfortran.dyn/bin/partel < partel_geo_gouttedo.slf.par >> partel_geo_gouttedo.slf.log\n",
        "\n",
        "\n",
        "My work is done\n",
        "\n",
        "\n"
       ]
      },
      {
       "output_type": "stream",
       "stream": "stderr",
       "text": [
        "STOP 0\n"
       ]
      }
     ],
     "prompt_number": 3
    },
    {
     "cell_type": "markdown",
     "metadata": {},
     "source": [
      "# Manual run of gretel\n",
      "\n",
      "Same as partel it can be run either by:\n",
      "  * giving all the options in the command\n",
      "  * using an input file (This is how it is run within Telemac-Mascaret)\n",
      "  \n",
      "Also if the files are in serafin format and the run crashed gretel can be run to salvage the results.\n",
      "\n",
      "He will try to concatenate the files and will crash at some point but if you are lucky you should get a valid file out of it.\n",
      "\n",
      "## Run with options"
     ]
    },
    {
     "cell_type": "code",
     "collapsed": false,
     "input": [
      "%%bash\n",
      "\n",
      "cd $HOMETEL/examples/python3/partel-gretel\n",
      "\n",
      "gretel.py --geo-file geo_gouttedo.slf --geo-file-format SERAFIN --res-file mesh --res-file-format SERAFIN --ncsize 4 --bnd-file geo_gouttedo.cli"
     ],
     "language": "python",
     "metadata": {},
     "outputs": [
      {
       "output_type": "stream",
       "stream": "stdout",
       "text": [
        "\n",
        "\n",
        "Loading Options and Configurations\n",
        "~~~~~~~~~~~~~~~~~~~~~~~~~~~~~~~~~~~~~~~~~~~~~~~~~~~~~~~~~~~~~~~~~~~~~~~~\n",
        "\n",
        "\n",
        "\n",
        "My work is done\n",
        "\n",
        "\n"
       ]
      },
      {
       "output_type": "stream",
       "stream": "stderr",
       "text": [
        "STOP 0\n"
       ]
      }
     ],
     "prompt_number": 4
    },
    {
     "cell_type": "heading",
     "level": 2,
     "metadata": {},
     "source": [
      "Run with input file"
     ]
    },
    {
     "cell_type": "code",
     "collapsed": false,
     "input": [
      "%%bash\n",
      "\n",
      "cd $HOMETEL/examples/python3/partel-gretel\n",
      "\n",
      "gretel.py --input-file gretel.par"
     ],
     "language": "python",
     "metadata": {},
     "outputs": [
      {
       "output_type": "stream",
       "stream": "stdout",
       "text": [
        "\n",
        "\n",
        "Loading Options and Configurations\n",
        "~~~~~~~~~~~~~~~~~~~~~~~~~~~~~~~~~~~~~~~~~~~~~~~~~~~~~~~~~~~~~~~~~~~~~~~~\n",
        "\n",
        "\n",
        "\n",
        "My work is done\n",
        "\n",
        "\n"
       ]
      },
      {
       "output_type": "stream",
       "stream": "stderr",
       "text": [
        "STOP 0\n"
       ]
      }
     ],
     "prompt_number": 5
    }
   ],
   "metadata": {}
  }
 ]
}
