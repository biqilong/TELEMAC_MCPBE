{
 "cells": [
  {
   "cell_type": "markdown",
   "metadata": {},
   "source": [
    "# Example of volume calculation\n",
    "\n",
    "Volume calculation with bottom by reference to plan z = 4\n",
    "Using breach telemac2d example"
   ]
  },
  {
   "cell_type": "code",
   "execution_count": 1,
   "metadata": {
    "collapsed": false
   },
   "outputs": [
    {
     "name": "stdout",
     "output_type": "stream",
     "text": [
      "580999.978581 m3\n"
     ]
    }
   ],
   "source": [
    "from data_manip.computation.volume import volume_calculation\n",
    "from data_manip.extraction.telemac_file import TelemacFile\n",
    "\n",
    "# Changing of directory : 'examples' directory of the Telemac sources\n",
    "import os, sys\n",
    "HOMETEL = os.environ.get('HOMETEL')\n",
    "\n",
    "# defining the timestep number of extraction in the mesh file\n",
    "itime = 0\n",
    "\n",
    "# defining the name of the mesh file\n",
    "my_mesh_file = os.path.join(HOMETEL, \"examples\", \"telemac2d\", \"breach\", \"geo_breach.slf\")\n",
    "\n",
    "# loading the mesh file in an object TelemacFile\n",
    "geo = TelemacFile(my_mesh_file)\n",
    "\n",
    "# extracting connectivity array\n",
    "ikle = geo.get_mesh_connectivity()\n",
    "\n",
    "# extracting bottom from the mesh file \n",
    "try:\n",
    "    bottom = geo.get_data_value('BOTTOM', itime)\n",
    "except:\n",
    "    bottom = geo.get_data_value('FOND', itime)\n",
    "\n",
    "# extracting x and y coordinates from the mesh file\n",
    "coord_x = geo.get_mesh_coord(1)\n",
    "coord_y = geo.get_mesh_coord(2)\n",
    "\n",
    "# defining the reference plan (e.g. Z = 4 m) which will be the reference to calculate the volume\n",
    "zref = 4\n",
    "\n",
    "# Calculating the volume of bathymetry relatively to plan Z = 4 m\n",
    "volume_1, surface_point, volume_point = volume_calculation(ikle,\n",
    "                                                           bottom,\n",
    "                                                           coord_x,\n",
    "                                                           coord_y,\n",
    "                                                           x_ref=zref)\n",
    "\n",
    "print(str(volume_1) + \" m3\")\n",
    "\n",
    "del(geo)"
   ]
  },
  {
   "cell_type": "markdown",
   "metadata": {},
   "source": [
    "# Example of volume calculation 2\n",
    "\n",
    "Volume of water calculation\n",
    "Using breach telemac2d example"
   ]
  },
  {
   "cell_type": "code",
   "execution_count": 2,
   "metadata": {
    "collapsed": false
   },
   "outputs": [
    {
     "name": "stdout",
     "output_type": "stream",
     "text": [
      "Volume of water : 271560.868352 m3\n"
     ]
    }
   ],
   "source": [
    "from data_manip.computation.volume import volume_calculation\n",
    "from data_manip.extraction.telemac_file import TelemacFile\n",
    "\n",
    "# Changing of directory : 'examples' directory of the Telemac sources\n",
    "import os, sys\n",
    "HOMETEL = os.environ.get('HOMETEL')\n",
    "\n",
    "# defining the timestep number of extraction in the mesh file\n",
    "itime = 0\n",
    "\n",
    "# defining the name of the mesh file\n",
    "my_mesh_file = os.path.join(HOMETEL, \"examples\", \"telemac2d\", \"breach\", \"ini_breach.slf\")\n",
    "\n",
    "# loading the mesh file in an object TelemacFile\n",
    "geo = TelemacFile(my_mesh_file)\n",
    "\n",
    "# extracting connectivity array\n",
    "ikle = geo.get_mesh_connectivity()\n",
    "\n",
    "# extracting bottom from the mesh file\n",
    "try:\n",
    "    bottom = geo.get_data_value('BOTTOM', itime)\n",
    "except:\n",
    "    bottom = geo.get_data_value('FOND', itime)\n",
    "\n",
    "    \n",
    "# extracting free surface from the mesh file\n",
    "# To get water depth, operation free surface - bottom is done\n",
    "try:\n",
    "    water_depth = geo.get_data_value('FREE SURFACE', itime) - bottom\n",
    "except:\n",
    "    water_depth = geo.get_data_value('SURFACE LIBRE', itime) - bottom\n",
    "\n",
    "# keep only positive water depth (if negative ==> 0)\n",
    "water_depth[water_depth < 0] = 0    \n",
    "\n",
    "# extracting x and y coordinates from the mesh file\n",
    "coord_x = geo.get_mesh_coord(1)\n",
    "coord_y = geo.get_mesh_coord(2)\n",
    "\n",
    "# Calculating the volume of water in the mesh\n",
    "volume_w, surface_point, volume_point = volume_calculation(ikle,\n",
    "                                                           water_depth,\n",
    "                                                           coord_x,\n",
    "                                                           coord_y)\n",
    "\n",
    "\n",
    "print(\"Volume of water : \" + str(volume_w) + \" m3\")\n",
    "\n",
    "del(geo)"
   ]
  },
  {
   "cell_type": "markdown",
   "metadata": {},
   "source": [
    "# Example of volume calculation 2\n",
    "\n",
    "Volume calculation between 2 time steps with calculation in api mode"
   ]
  },
  {
   "cell_type": "code",
   "execution_count": 3,
   "metadata": {
    "collapsed": false
   },
   "outputs": [
    {
     "name": "stdout",
     "output_type": "stream",
     "text": [
      "Volume of water at T = 0 : 271560.868352 m3\n",
      "Volume of water at T = 100 : 270878.634354 m3\n"
     ]
    }
   ],
   "source": [
    "import numpy as np\n",
    "from mpi4py import MPI\n",
    "\n",
    "# Changing of directory : 'examples' directory of the Telemac sources\n",
    "import os\n",
    "HOMETEL = os.environ.get('HOMETEL')\n",
    "os.chdir(os.path.join(HOMETEL, \"examples\", \"telemac2d\", \"breach\"))\n",
    "\n",
    "from data_manip.extraction.telemac_file import TelemacFile\n",
    "from data_manip.computation.volume import volume_calculation\n",
    "\n",
    "# Instantiation of a Telemac2d object from the test case named 'breach'\n",
    "# - steering file : 't2d_breach.cas'\n",
    "# - language : french (1) or english (2: default)\n",
    "from telapy.api.t2d import Telemac2d\n",
    "my_case = Telemac2d('t2d_breach.cas', lang=1, comm=MPI.COMM_SELF)\n",
    "\n",
    "# Reading case file\n",
    "my_case.set_case()\n",
    "\n",
    "# Initialisation of the calculation\n",
    "my_case.init_state_default()\n",
    "\n",
    "# Extracting water depth of the model initialisation\n",
    "water_depth_0 = my_case.get_array('MODEL.WATERDEPTH')\n",
    "\n",
    "# Extracting x and y coordinates from the model\n",
    "coord_x = my_case.get_array('MODEL.X')\n",
    "coord_y = my_case.get_array('MODEL.Y')\n",
    "\n",
    "# Extracting connectivity array from the model\n",
    "ikle = my_case.get_array('MODEL.IKLE') - 1\n",
    "# Transpose of the connectivity array because ikle from Telemac is the transpose of ikle from mesh file\n",
    "ikle = ikle.T\n",
    "\n",
    "# Calculating the volume of water at T = 0s\n",
    "volume_w0, surface_point, volume_point = volume_calculation(ikle,\n",
    "                                                           water_depth_0,\n",
    "                                                           coord_x,\n",
    "                                                           coord_y)\n",
    "\n",
    "# Execution of the calculation on 101 timesteps\n",
    "for i in range(101):\n",
    "    my_case.run_one_time_step()\n",
    "\n",
    "water_depth_100 = my_case.get_array('MODEL.WATERDEPTH')\n",
    "\n",
    "volume_w100, surface_point, volume_point = volume_calculation(ikle,\n",
    "                                                           water_depth_100,\n",
    "                                                           coord_x,\n",
    "                                                           coord_y)\n",
    "\n",
    "print(\"Volume of water at T = 0 : \" + str(volume_w0) + \" m3\")\n",
    "print(\"Volume of water at T = 100 : \" + str(volume_w100) + \" m3\")\n",
    "\n",
    "my_case.finalize()\n",
    "del my_case"
   ]
  },
  {
   "cell_type": "markdown",
   "metadata": {},
   "source": [
    "# Evolution of volume during a simulation (breach example)"
   ]
  },
  {
   "cell_type": "code",
   "execution_count": 4,
   "metadata": {
    "collapsed": false
   },
   "outputs": [
    {
     "data": {
      "image/png": "[encoded data removed]",
      "text/plain": [
       "<matplotlib.figure.Figure at 0x7f46c0112828>"
      ]
     },
     "metadata": {},
     "output_type": "display_data"
    },
    {
     "name": "stdout",
     "output_type": "stream",
     "text": [
      "Volume of water at T = 0 : 271560.868352 m3\n",
      "Volume of water at T = 100 : 270878.634354 m3\n"
     ]
    }
   ],
   "source": [
    "import numpy as np\n",
    "from mpi4py import MPI\n",
    "\n",
    "from IPython.display import clear_output, display\n",
    "%matplotlib inline\n",
    "\n",
    "from matplotlib import pyplot as plt\n",
    "from postel.plot1d import plot1d\n",
    "\n",
    "\n",
    "# Changing of directory : 'examples' directory of the Telemac sources\n",
    "import os\n",
    "HOMETEL = os.environ.get('HOMETEL')\n",
    "os.chdir(os.path.join(HOMETEL, \"examples\", \"telemac2d\", \"breach\"))\n",
    "\n",
    "from data_manip.extraction.telemac_file import TelemacFile\n",
    "from data_manip.computation.volume import volume_calculation\n",
    "\n",
    "# Instantiation of a Telemac2d object from the test case named 'breach'\n",
    "# - steering file : 't2d_breach.cas'\n",
    "# - language : french (1) or english (2: default)\n",
    "from telapy.api.t2d import Telemac2d\n",
    "\n",
    "my_mesh_file = \"ini_breach.slf\"\n",
    "geo = TelemacFile(my_mesh_file)\n",
    "ikle = geo.get_mesh_connectivity()\n",
    "del(geo)\n",
    "\n",
    "my_case = Telemac2d('t2d_breach.cas', lang=1, comm=MPI.COMM_SELF)\n",
    "\n",
    "my_case.set_case()\n",
    "\n",
    "my_case.init_state_default()\n",
    "\n",
    "npoints = my_case.get('MODEL.NPOIN')\n",
    "\n",
    "water_depth_0 = my_case.get_array('MODEL.WATERDEPTH')\n",
    "coord_x = my_case.get_array('MODEL.X')\n",
    "coord_y = my_case.get_array('MODEL.Y')\n",
    "\n",
    "\n",
    "#ikle = my_case.get_array('MODEL.IKLE') - 1\n",
    "\n",
    "volume_w0, surface_point, volume_point = volume_calculation(ikle,\n",
    "                                                           water_depth_0,\n",
    "                                                           coord_x,\n",
    "                                                           coord_y)\n",
    "\n",
    "times = []\n",
    "volume_w = []\n",
    "\n",
    "#Initialising figure\n",
    "fig, ax = plt.subplots(figsize=(10,5))\n",
    "plt.show()\n",
    "\n",
    "for i in range(101):\n",
    "    \n",
    "    my_case.run_one_time_step()\n",
    "    water_depth = my_case.get_array('MODEL.WATERDEPTH')\n",
    "    volume, surface_point, volume_point = volume_calculation(ikle,\n",
    "                                                            water_depth,\n",
    "                                                            coord_x,\n",
    "                                                            coord_y)\n",
    "    times.append(i)\n",
    "    volume_w.append(volume)\n",
    "    clear_output(wait=True)\n",
    "    \n",
    "    ax.cla()\n",
    "    plot1d(ax, times, volume_w, 'water volume (m3)', 'T = {}s'.format(times[i]))\n",
    "    \n",
    "    # Displaying legend\n",
    "    ax.legend(loc='upper right')\n",
    "\n",
    "    ax.set_xlabel('Time')\n",
    "    ax.set_ylabel('Water volume (m3)')\n",
    "    \n",
    "    display(fig)\n",
    "\n",
    "\n",
    "print(\"Volume of water at T = 0 : \" + str(volume_w0) + \" m3\")\n",
    "print(\"Volume of water at T = 100 : \" + str(volume_w[100]) + \" m3\")\n",
    "\n",
    "my_case.finalize()\n",
    "del my_case"
   ]
  },
  {
   "cell_type": "markdown",
   "metadata": {},
   "source": [
    "# Evolution of volume comparison and plot2d"
   ]
  },
  {
   "cell_type": "code",
   "execution_count": 5,
   "metadata": {
    "collapsed": false
   },
   "outputs": [
    {
     "name": "stdout",
     "output_type": "stream",
     "text": [
      "Volume difference between T = 0 and T = 100 : -682.233997478 m3\n",
      "Positive volume difference between T = 0 and T = 100 : 676.658916342 m3\n",
      "Negative volume difference between T = 0 and T = 100 : -1358.89291382 m3\n"
     ]
    },
    {
     "data": {
      "image/png": "[encoded data removed]",
      "text/plain": [
       "<matplotlib.figure.Figure at 0x7f46c4cafa58>"
      ]
     },
     "metadata": {},
     "output_type": "display_data"
    }
   ],
   "source": [
    "import numpy as np\n",
    "from mpi4py import MPI\n",
    "\n",
    "from IPython.display import clear_output\n",
    "%matplotlib inline\n",
    "\n",
    "from matplotlib import pyplot as plt\n",
    "from postel.plot2d import *\n",
    "\n",
    "# Changing of directory : 'examples' directory of the Telemac sources\n",
    "import os\n",
    "HOMETEL = os.environ.get('HOMETEL')\n",
    "os.chdir(os.path.join(HOMETEL, \"examples\", \"telemac2d\", \"breach\"))\n",
    "\n",
    "from data_manip.extraction.telemac_file import TelemacFile\n",
    "from data_manip.computation.volume import volume_calculation\n",
    "\n",
    "# Instantiation of a Telemac2d object from the test case named 'breach'\n",
    "# - steering file : 't2d_breach.cas'\n",
    "# - language : french (1) or english (2: default)\n",
    "from telapy.api.t2d import Telemac2d\n",
    "\n",
    "my_mesh_file = \"ini_breach.slf\"\n",
    "geo = TelemacFile(my_mesh_file)\n",
    "ikle = geo.get_mesh_connectivity()\n",
    "del(geo)\n",
    "\n",
    "my_case = Telemac2d('t2d_breach.cas', lang=1, comm=MPI.COMM_SELF)\n",
    "\n",
    "my_case.set_case()\n",
    "\n",
    "my_case.init_state_default()\n",
    "\n",
    "npoints = my_case.get('MODEL.NPOIN')\n",
    "\n",
    "water_depth_0 = my_case.get_array('MODEL.WATERDEPTH')\n",
    "coord_x = my_case.get_array('MODEL.X')\n",
    "coord_y = my_case.get_array('MODEL.Y')\n",
    "\n",
    "\n",
    "#ikle = my_case.get_array('MODEL.IKLE') - 1\n",
    "\n",
    "volume_w0, surface_point_w0, volume_point_w0 = volume_calculation(ikle,\n",
    "                                                           water_depth_0,\n",
    "                                                           coord_x,\n",
    "                                                           coord_y)\n",
    "\n",
    "for i in range(101):\n",
    "    my_case.run_one_time_step()\n",
    "\n",
    "    \n",
    "water_depth = my_case.get_array('MODEL.WATERDEPTH')    \n",
    "volume_w100, surface_point_w100, volume_point_w100 = volume_calculation(ikle,\n",
    "                                                                        water_depth,\n",
    "                                                                        coord_x,\n",
    "                                                                        coord_y)\n",
    "\n",
    "volume_diff = volume_w100 - volume_w0\n",
    "volume_point_diff = volume_point_w100 - volume_point_w0\n",
    "positive_volume_diff = volume_point_diff[volume_point_diff>0].sum()\n",
    "negative_volume_diff = volume_point_diff[volume_point_diff<0].sum()\n",
    "\n",
    "print(\"Volume difference between T = 0 and T = 100 : \" + str(volume_diff) + \" m3\")\n",
    "print(\"Positive volume difference between T = 0 and T = 100 : \" + str(positive_volume_diff) + \" m3\")\n",
    "print(\"Negative volume difference between T = 0 and T = 100 : \" + str(negative_volume_diff) + \" m3\")\n",
    "\n",
    "my_case.finalize()\n",
    "del my_case\n",
    "\n",
    "my_mesh_file = \"ini_breach.slf\"\n",
    "geo = TelemacFile(my_mesh_file)\n",
    "ikle = geo.get_mesh_connectivity()\n",
    "\n",
    "\n",
    "# Initialising matplotlib figure\n",
    "fig, ax = plt.subplots(1, 1, figsize=(20, 10))\n",
    "\n",
    "# Plotting scalar map\n",
    "plot2d_scalar_map(fig, ax, geo.tri, volume_point_diff, data_name='Volume diff T=0s and T=100s (m3)', vmin=-5, vmax=5, nv=10)\n",
    "\n",
    "# Showing the plot\n",
    "plt.show()\n",
    "\n",
    "del(geo)"
   ]
  },
  {
   "cell_type": "code",
   "execution_count": null,
   "metadata": {
    "collapsed": false
   },
   "outputs": [],
   "source": []
  }
 ],
 "metadata": {
  "kernelspec": {
   "display_name": "Python 3",
   "language": "python",
   "name": "python3"
  },
  "language_info": {
   "codemirror_mode": {
    "name": "ipython",
    "version": 3
   },
   "file_extension": ".py",
   "mimetype": "text/x-python",
   "name": "python",
   "nbconvert_exporter": "python",
   "pygments_lexer": "ipython3",
   "version": "3.5.3"
  }
 },
 "nbformat": 4,
 "nbformat_minor": 0
}
