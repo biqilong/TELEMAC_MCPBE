{
 "metadata": {
  "kernelspec": {
   "display_name": "Python 3",
   "language": "python",
   "name": "python3"
  },
  "language_info": {
   "codemirror_mode": {
    "name": "ipython",
    "version": 3
   },
   "file_extension": ".py",
   "mimetype": "text/x-python",
   "name": "python",
   "nbconvert_exporter": "python",
   "pygments_lexer": "ipython3",
   "version": "3.5.3"
  },
  "name": ""
 },
 "nbformat": 3,
 "nbformat_minor": 0,
 "worksheets": [
  {
   "cells": [
    {
     "cell_type": "heading",
     "level": 1,
     "metadata": {},
     "source": [
      "Get data of output file"
     ]
    },
    {
     "cell_type": "markdown",
     "metadata": {},
     "source": [
      "Note that the bump example must be ran."
     ]
    },
    {
     "cell_type": "code",
     "collapsed": false,
     "input": [
      "%%bash\n",
      "cd $HOMETEL/examples/telemac2d/bump\n",
      "runcode.py telemac2d t2d_bumpcri.cas -s"
     ],
     "language": "python",
     "metadata": {},
     "outputs": [
      {
       "output_type": "stream",
       "stream": "stdout",
       "text": [
        "\n",
        "\n",
        "Loading Options and Configurations\n",
        "~~~~~~~~~~~~~~~~~~~~~~~~~~~~~~~~~~~~~~~~~~~~~~~~~~~~~~~~~~~~~~~~~~~~~~~~\n",
        "\n",
        "                _                                                        _       _               \n",
        "               | |                                                      (_)     (_)              \n",
        "  _   _  _ __  | | __ _ __    ___  __      __ _ __    _ __   ___ __   __ _  ___  _   ___   _ __  \n",
        " | | | || '_ \\ | |/ /| '_ \\  / _ \\ \\ \\ /\\ / /| '_ \\  | '__| / _ \\\\ \\ / /| |/ __|| | / _ \\ | '_ \\ \n",
        " | |_| || | | ||   < | | | || (_) | \\ V  V / | | | | | |   |  __/ \\ V / | |\\__ \\| || (_) || | | |\n",
        "  \\__,_||_| |_||_|\\_\\|_| |_| \\___/   \\_/\\_/  |_| |_| |_|    \\___|  \\_/  |_||___/|_| \\___/ |_| |_|\n",
        "                                                                                                 \n",
        "                                                                                                 \n",
        "\n",
        "\n",
        "Running your CAS file(s) for:\n",
        "~~~~~~~~~~~~~~~~~~~~~~~~~~~~~~~~~~~~~~~~~~~~~~~~~~~~~~~~~~~~~~~~~~~~~~~~\n",
        "\n",
        "\n",
        "\n",
        "~~~~~~~~~~~~~~~~~~~~~~~~~~~~~~~~~~~~~~~~~~~~~~~~~~~~~~~~~~~~~~~~~~~~~~~~\n",
        "\n",
        "S9.gfortran: \n",
        "    \n",
        "\n",
        "    +> Gfortran compiler 6.3.2 with open_mpi for a debian 9\n",
        "\n",
        "    +> root:    /home/B61570/opentelemac/git/branches/oarfish\n",
        "    +> module: ad / api / artemis / bief\n",
        "               damocles  / diffsel  / gaia  / gretel\n",
        "               hermes  / identify_liq_bnd  / khione  / mascaret\n",
        "               nestor  / parallel  / partel  / postel3d\n",
        "               sisyphe  / special  / splitsel  / stbtel\n",
        "               telemac2d  / telemac3d  / tomawac  / waqtel\n",
        "               \n",
        "\n",
        "\n",
        "~~~~~~~~~~~~~~~~~~~~~~~~~~~~~~~~~~~~~~~~~~~~~~~~~~~~~~~~~~~~~~~~~~~~~~~~\n",
        "\n",
        "\n",
        "... processing the steering file\n",
        "\n",
        "... checking parallelisation\n",
        "\n",
        "... handling temporary directories\n",
        "         copying: t2d_bumpcri.cas -> <root>/examples/telemac2d/bump/t2d_bumpcri.cas_2019-05-03-08h30min41s/T2DCAS\n",
        "         copying: telemac2d.dico -> <root>/examples/telemac2d/bump/t2d_bumpcri.cas_2019-05-03-08h30min41s/T2DDICO\n",
        "         copying: geo_bump.slf -> <root>/examples/telemac2d/bump/t2d_bumpcri.cas_2019-05-03-08h30min41s/T2DGEO\n",
        "         copying: geo_bumpcri.cli -> <root>/examples/telemac2d/bump/t2d_bumpcri.cas_2019-05-03-08h30min41s/T2DCLI\n",
        "\n",
        "... checking the executable\n",
        "  > compiling objs\n",
        "         compiling: exacte.f ... completed\n",
        "         compiling: fc1.f ... completed\n",
        "         compiling: user_condin_h.f ... completed\n",
        "         compiling: user_corfon.f ... completed\n",
        "         compiling: user_nomvar_telemac2d.f ... completed\n",
        "         compiling: user_preres_telemac2d.f ... completed\n",
        "         compiling: zbrent.f ... completed\n",
        "         created: out_user_fortran\n",
        "\n",
        "\n",
        "Running your simulation(s) :\n",
        "~~~~~~~~~~~~~~~~~~~~~~~~~~~~~~~~~~~~~~~~~~~~~~~~~~~~~~~~~~~~~~~~~~~~~~~~\n",
        "\n",
        "\n",
        "\n",
        "mpirun -np 1 /home/B61570/opentelemac/git/branches/oarfish/examples/telemac2d/bump/t2d_bumpcri.cas_2019-05-03-08h30min41s/out_user_fortran\n",
        "\n",
        "\n",
        " MASTER PROCESSOR NUMBER            0  OF THE GROUP OF            1\n",
        " EXECUTABLE FILE: /home/B61570/opentelemac/git/branches/oarfish/examples/telemac2d/bump/t2d_bumpcri.cas_2019-05-03-08h30min41s/A.EXE\n",
        " LISTING OF TELEMAC2D------------------------------------------------------------------------------\n",
        "\n",
        "                TTTTT  EEEEE  L      EEEEE  M   M  AAAAA  CCCCC\n",
        "                  T    E      L      E      MM MM  A   A  C\n",
        "                  T    EEE    L      EEE    M M M  AAAAA  C\n",
        "                  T    E      L      E      M   M  A   A  C\n",
        "                  T    EEEEE  LLLLL  EEEEE  M   M  A   A  CCCCC\n",
        "\n",
        "                        2D    VERSION TRUNK  FORTRAN 2003\n",
        "\n",
        "                        ~^~^~^~^~^~^~^~^~^~^~^^~^~^~^~^~^~\n",
        "                          ~                            ~\n",
        "                               \\   '    o      '\n",
        "                               /\\ o       \\  o\n",
        "                             >=)'>    '   /\\ '\n",
        "                               \\/   \\   >=)'>        ~\n",
        "                               /    /\\    \\/\n",
        "                        ~         >=)'>   /     .\n",
        "                                    \\/                   )\n",
        "                                    /                   (\n",
        "                                          ~          )   )\n",
        "                          }     ~              (    (   (\n",
        "                         {                      )    )   )\n",
        "                          }  }         .       (    (   (\n",
        "                         {  {               /^^^^^^^^^^^^\n",
        "                        ^^^^^^^^^\\         /\n",
        "                                  ^^^^^^^^^\n",
        "\n",
        " DIFFERENT NUMBER OF PARALLEL PROCESSORS:\n",
        " DECLARED BEFORE (CASE OF COUPLING ?):           1\n",
        " TELEMAC-2D :           0\n",
        " VALUE            1  IS KEPT\n",
        "\n",
        "                   ********************************************\n",
        "                   *               LECDON:                    *\n",
        "                   *        AFTER CALLING DAMOCLES            *\n",
        "                   *        CHECKING OF DATA  READ            *\n",
        "                   *         IN THE STEERING FILE             *\n",
        "                   ********************************************\n",
        "\n",
        " EXITING LECDON. NAME OF THE STUDY:\n",
        " TELEMAC 2D: CRITICAL BUMP CASE\n",
        "\n",
        " OPENING FILES FOR TELEMAC2D\n",
        "\n",
        "                          *****************************\n",
        "                          *    MEMORY ORGANIZATION    *\n",
        "                          *****************************\n",
        "\n",
        " READ_MESH_INFO: TITLE= TELEMAC 2D : ECOULEMENT CRITIQUE SUR UN BUMP AVEC RESSAUT$\n",
        "            NUMBER OF ELEMENTS:     2620\n",
        "            NUMBER OF POINTS:     1452\n",
        "\n",
        "            FORMAT NOT INDICATED IN TITLE\n",
        "\n",
        " MXPTEL (BIEF) : MAXIMUM NUMBER OF ELEMENTS AROUND A POINT:   7\n",
        "                 MAXIMUM NUMBER OF POINTS AROUND A POINT:   7\n",
        " USER_CORRXY (BIEF):NO MODIFICATION OF COORDINATES\n",
        "\n",
        " MESH: MESH   ALLOCATED\n",
        "\n",
        "                     *************************************\n",
        "                     *    END OF MEMORY ORGANIZATION:    *\n",
        "                     *************************************\n",
        "\n",
        " INITIALIZING TELEMAC2D FOR\n",
        " INBIEF (BIEF): NOT A VECTOR MACHINE (ACCORDING TO YOUR DATA)\n",
        " STRCHE (BIEF): NO MODIFICATION OF FRICTION\n",
        "\n",
        " THERE IS     2 LIQUID BOUNDARIES:\n",
        "\n",
        " BOUNDARY    1 :\n",
        "  BEGINS AT BOUNDARY POINT:      132 , WITH GLOBAL NUMBER:       132\n",
        "  AND COORDINATES:     21.20000           0.000000\n",
        "  ENDS AT BOUNDARY POINT:      142 , WITH GLOBAL NUMBER:      1452\n",
        "  AND COORDINATES:     21.20000           2.000000\n",
        "\n",
        " BOUNDARY    2 :\n",
        "  BEGINS AT BOUNDARY POINT:      273 , WITH GLOBAL NUMBER:      1321\n",
        "  AND COORDINATES:    0.2400000           2.000000\n",
        "  ENDS AT BOUNDARY POINT:        1 , WITH GLOBAL NUMBER:         1\n",
        "  AND COORDINATES:    0.2400000           0.000000\n",
        "\n",
        " THERE IS     2 SOLID BOUNDARIES:\n",
        "\n",
        " BOUNDARY    1 :\n",
        "  BEGINS AT BOUNDARY POINT:        1 , WITH GLOBAL NUMBER:         1\n",
        "  AND COORDINATES:    0.2400000           0.000000\n",
        "  ENDS AT BOUNDARY POINT:      132 , WITH GLOBAL NUMBER:       132\n",
        "  AND COORDINATES:     21.20000           0.000000\n",
        "\n",
        " BOUNDARY    2 :\n",
        "  BEGINS AT BOUNDARY POINT:      142 , WITH GLOBAL NUMBER:      1452\n",
        "  AND COORDINATES:     21.20000           2.000000\n",
        "  ENDS AT BOUNDARY POINT:      273 , WITH GLOBAL NUMBER:      1321\n",
        "  AND COORDINATES:    0.2400000           2.000000\n",
        "\n",
        " CORFON (TELEMAC2D): NO MODIFICATION OF BOTTOM\n",
        "\n",
        "================================================================================\n",
        " ITERATION        0    TIME:   0.0000 S\n",
        " TELEMAC2D INITIALIZED\n",
        " USING STREAMLINE VERSION 7.3 FOR CHARACTERISTICS\n",
        "\n",
        "================================================================================\n",
        " ITERATION      200    TIME:   6.0000 S\n",
        "--------------------------------------------------------------------------------\n",
        "                          ADVECTION STEP\n",
        "--------------------------------------------------------------------------------\n",
        "                    DIFFUSION-PROPAGATION STEP\n",
        " GRACJG (BIEF) :        1 ITERATIONS, ABSOLUTE PRECISION:   0.7317761E-06\n",
        "--------------------------------------------------------------------------------\n",
        "                       BALANCE OF WATER VOLUME\n",
        "     VOLUME IN THE DOMAIN :    11.35536     M3\n",
        "     FLUX BOUNDARY    1:   -0.6082453     M3/S  ( >0 : ENTERING  <0 : EXITING )\n",
        "     FLUX BOUNDARY    2:    0.6000000     M3/S  ( >0 : ENTERING  <0 : EXITING )\n",
        "     RELATIVE ERROR IN VOLUME AT T =        6.000     S :   -0.9774613E-08\n",
        "\n",
        "================================================================================\n",
        " ITERATION      400    TIME:  12.0000 S\n",
        "--------------------------------------------------------------------------------\n",
        "                          ADVECTION STEP\n",
        "--------------------------------------------------------------------------------\n",
        "                    DIFFUSION-PROPAGATION STEP\n",
        " GRACJG (BIEF) :        1 ITERATIONS, ABSOLUTE PRECISION:   0.5865135E-06\n",
        "--------------------------------------------------------------------------------\n",
        "                       BALANCE OF WATER VOLUME\n",
        "     VOLUME IN THE DOMAIN :    11.31355     M3\n",
        "     FLUX BOUNDARY    1:   -0.6040778     M3/S  ( >0 : ENTERING  <0 : EXITING )\n",
        "     FLUX BOUNDARY    2:    0.6000000     M3/S  ( >0 : ENTERING  <0 : EXITING )\n",
        "     RELATIVE ERROR IN VOLUME AT T =        12.00     S :   -0.1948150E-07\n",
        "\n",
        "================================================================================\n",
        " ITERATION      600    TIME:  18.0000 S\n",
        "--------------------------------------------------------------------------------\n",
        "                          ADVECTION STEP\n",
        "--------------------------------------------------------------------------------\n",
        "                    DIFFUSION-PROPAGATION STEP\n",
        " GRACJG (BIEF) :        1 ITERATIONS, ABSOLUTE PRECISION:   0.6266586E-06\n",
        "--------------------------------------------------------------------------------\n",
        "                       BALANCE OF WATER VOLUME\n",
        "     VOLUME IN THE DOMAIN :    11.29910     M3\n",
        "     FLUX BOUNDARY    1:   -0.6015435     M3/S  ( >0 : ENTERING  <0 : EXITING )\n",
        "     FLUX BOUNDARY    2:    0.6000000     M3/S  ( >0 : ENTERING  <0 : EXITING )\n",
        "     RELATIVE ERROR IN VOLUME AT T =        18.00     S :   -0.1561096E-09\n",
        "\n",
        "================================================================================\n",
        " ITERATION      800    TIME:  24.0000 S\n",
        "--------------------------------------------------------------------------------\n",
        "                          ADVECTION STEP\n",
        "--------------------------------------------------------------------------------\n",
        "                    DIFFUSION-PROPAGATION STEP\n",
        " GRACJG (BIEF) :        1 ITERATIONS, ABSOLUTE PRECISION:   0.6782792E-06\n",
        "--------------------------------------------------------------------------------\n",
        "                       BALANCE OF WATER VOLUME\n",
        "     VOLUME IN THE DOMAIN :    11.29339     M3\n",
        "     FLUX BOUNDARY    1:   -0.6005161     M3/S  ( >0 : ENTERING  <0 : EXITING )\n",
        "     FLUX BOUNDARY    2:    0.6000000     M3/S  ( >0 : ENTERING  <0 : EXITING )\n",
        "     RELATIVE ERROR IN VOLUME AT T =        24.00     S :   -0.1634041E-08\n",
        "\n",
        "================================================================================\n",
        " ITERATION     1000    TIME:  30.0000 S\n",
        "--------------------------------------------------------------------------------\n",
        "                          ADVECTION STEP\n",
        "--------------------------------------------------------------------------------\n",
        "                    DIFFUSION-PROPAGATION STEP\n",
        " GRACJG (BIEF) :        1 ITERATIONS, ABSOLUTE PRECISION:   0.5727356E-06\n",
        "--------------------------------------------------------------------------------\n",
        "                       BALANCE OF WATER VOLUME\n",
        "     VOLUME IN THE DOMAIN :    11.29139     M3\n",
        "     FLUX BOUNDARY    1:   -0.6001967     M3/S  ( >0 : ENTERING  <0 : EXITING )\n",
        "     FLUX BOUNDARY    2:    0.6000000     M3/S  ( >0 : ENTERING  <0 : EXITING )\n",
        "     RELATIVE ERROR IN VOLUME AT T =        30.00     S :   -0.4054285E-09\n",
        "--------------------------------------------------------------------------------\n",
        "                   FINAL BALANCE OF WATER VOLUME\n",
        "\n",
        "     RELATIVE ERROR CUMULATED ON VOLUME:    0.5763231E-05\n",
        "\n",
        "     INITIAL VOLUME              :     11.34732     M3\n",
        "     FINAL VOLUME                :     11.29139     M3\n",
        "     VOLUME THAT ENTERED THE DOMAIN:   -0.5586530E-01 M3  ( IF <0 EXIT )\n",
        "     TOTAL VOLUME LOST             :    0.6539721E-04 M3\n",
        "\n",
        " END OF TIME LOOP\n",
        "\n",
        " EXITING MPI\n",
        "\n",
        "STOP 0\n",
        "                     *************************************\n",
        "                     *    END OF MEMORY ORGANIZATION:    *\n",
        "                     *************************************\n",
        "\n",
        " CORRECT END OF RUN\n",
        "\n",
        " ELAPSE TIME :\n",
        "                              0  SECONDS\n",
        "... merging separated result files\n",
        "\n",
        "... handling result files\n",
        "\n",
        "        moving: r2d_bumpcri.slf\n",
        "      copying: t2d_bumpcri.cas_2019-05-03-08h30min41s.sortie\n",
        "... deleting working dir\n",
        "\n",
        "\n",
        "\n",
        "My work is done\n",
        "\n",
        "\n"
       ]
      }
     ],
     "prompt_number": 1
    },
    {
     "cell_type": "markdown",
     "metadata": {},
     "source": [
      "Get the lastest output file:"
     ]
    },
    {
     "cell_type": "code",
     "collapsed": false,
     "input": [
      "from postel.parser_output import get_latest_output_files\n",
      "import os\n",
      "import re\n",
      "from postel.parser_output import OutputFileData\n",
      "\n",
      "file_name = get_latest_output_files(os.path.join(os.environ['HOMETEL'],\n",
      "                                                 \"examples/telemac2d/bump/t2d_bumpcri.cas\"))\n",
      "if file_name:\n",
      "    file_name = file_name[0]\n",
      "    print(file_name)                    "
     ],
     "language": "python",
     "metadata": {},
     "outputs": [
      {
       "output_type": "stream",
       "stream": "stdout",
       "text": [
        "/home/B61570/opentelemac/git/branches/oarfish/examples/telemac2d/bump/t2d_bumpcri.cas_2019-05-03-08h30min41s.sortie\n"
       ]
      }
     ],
     "prompt_number": 2
    },
    {
     "cell_type": "heading",
     "level": 2,
     "metadata": {},
     "source": [
      "Data extraction defines by user for the output file "
     ]
    },
    {
     "cell_type": "code",
     "collapsed": false,
     "input": [
      "# Example of regular expressions \n",
      "form = re.compile(r'\\s*(RELATIVE ERROR IN VOLUME AT T =)', re.I) # Search a term\n",
      "t_form = re.compile(r'\\s*ITERATION', re.I) # Search the time\n",
      "\n",
      "# extration data\n",
      "OuFile = OutputFileData(file_name)\n",
      "my_grep, line_num = OuFile.get_user_defined_output(form, line_num=True)\n",
      "my_grep_t, num_line_t = OuFile.get_user_defined_output(t_form, line_num=True)\n",
      "# print resutls\n",
      "tot = sorted(line_num + num_line_t)\n",
      "for idx in tot:\n",
      "    if idx in line_num:\n",
      "        print(my_grep[line_num.index(idx)])\n",
      "    elif idx in num_line_t:\n",
      "        print(my_grep_t[num_line_t.index(idx)])\n"
     ],
     "language": "python",
     "metadata": {},
     "outputs": [
      {
       "output_type": "stream",
       "stream": "stdout",
       "text": [
        "ITERATION        0    TIME:   0.0000 S\n",
        "ITERATION      200    TIME:   6.0000 S\n",
        "RELATIVE ERROR IN VOLUME AT T =        6.000     S :   -0.9774613E-08\n",
        "ITERATION      400    TIME:  12.0000 S\n",
        "RELATIVE ERROR IN VOLUME AT T =        12.00     S :   -0.1948150E-07\n",
        "ITERATION      600    TIME:  18.0000 S\n",
        "RELATIVE ERROR IN VOLUME AT T =        18.00     S :   -0.1561096E-09\n",
        "ITERATION      800    TIME:  24.0000 S\n",
        "RELATIVE ERROR IN VOLUME AT T =        24.00     S :   -0.1634041E-08\n",
        "ITERATION     1000    TIME:  30.0000 S\n",
        "RELATIVE ERROR IN VOLUME AT T =        30.00     S :   -0.4054285E-09\n"
       ]
      }
     ],
     "prompt_number": 3
    },
    {
     "cell_type": "markdown",
     "metadata": {},
     "source": [
      "Note that the regular expression format could be found : https://docs.python.org/fr/3/library/re.html"
     ]
    },
    {
     "cell_type": "heading",
     "level": 2,
     "metadata": {},
     "source": [
      "Data predefined extraction for the output file"
     ]
    },
    {
     "cell_type": "code",
     "collapsed": false,
     "input": [
      "OutFile = OutputFileData(file_name)\n",
      "#Works on TELEMAC-*D outfile\n",
      "print(OutFile.get_time_profile())"
     ],
     "language": "python",
     "metadata": {},
     "outputs": [
      {
       "output_type": "stream",
       "stream": "stdout",
       "text": [
        "(('Iteration #', [0, 200, 400, 600, 800, 1000]), ('Time (s)', [0.0, 6.0, 12.0, 18.0, 24.0, 30.0]))\n"
       ]
      }
     ],
     "prompt_number": 4
    },
    {
     "cell_type": "code",
     "collapsed": false,
     "input": [
      "#Works on TELEMAC-*D outfile\n",
      "print(OutFile.get_name_of_study())"
     ],
     "language": "python",
     "metadata": {},
     "outputs": [
      {
       "output_type": "stream",
       "stream": "stdout",
       "text": [
        "TELEMAC 2D: CRITICAL BUMP CASE\n"
       ]
      }
     ],
     "prompt_number": 5
    },
    {
     "cell_type": "code",
     "collapsed": false,
     "input": [
      "#Works on TELEMAC-2D outfile\n",
      "print(OutFile.get_value_history_output('voltotal;volfluxes;volerror'))"
     ],
     "language": "python",
     "metadata": {},
     "outputs": [
      {
       "output_type": "stream",
       "stream": "stdout",
       "text": [
        "(('Time (s)', [0.0, 6.0, 12.0, 18.0, 24.0, 30.0]), [('Volumes (m3/s)', [11.34732, 11.35536, 11.31355, 11.2991, 11.29339, 11.29139]), ('Fluxes (-)', ['Boundary 1', 'Boundary 2'], [[0.0, -0.6082453, -0.6040778, -0.6015435, -0.6005161, -0.6001967], [0.0, 0.6, 0.6, 0.6, 0.6, 0.6]]), ('Error (-)', [0.0, -9.774613e-09, -1.94815e-08, -1.561096e-10, -1.634041e-09, -4.054285e-10])])\n"
       ]
      }
     ],
     "prompt_number": 6
    }
   ],
   "metadata": {}
  }
 ]
}
