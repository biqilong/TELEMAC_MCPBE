{
 "cells": [
  {
   "cell_type": "markdown",
   "metadata": {},
   "source": [
    "# Get data of output file"
   ]
  },
  {
   "cell_type": "markdown",
   "metadata": {},
   "source": [
    "Note that the bump example must be ran."
   ]
  },
  {
   "cell_type": "code",
   "execution_count": 1,
   "metadata": {},
   "outputs": [
    {
     "name": "stdout",
     "output_type": "stream",
     "text": [
      "\n",
      "\n",
      "Loading Options and Configurations\n",
      "~~~~~~~~~~~~~~~~~~~~~~~~~~~~~~~~~~~~~~~~~~~~~~~~~~~~~~~~~~~~~~~~~~~~~~~~\n",
      "\n",
      "  _                        _    \n",
      " | |                      | |   \n",
      " | |_  _ __  _   _  _ __  | | __\n",
      " | __|| '__|| | | || '_ \\ | |/ /\n",
      " | |_ | |   | |_| || | | ||   < \n",
      "  \\__||_|    \\__,_||_| |_||_|\\_\\\n",
      "                                \n",
      "                                \n",
      "\n",
      "\n",
      "Running your CAS file(s) for:\n",
      "~~~~~~~~~~~~~~~~~~~~~~~~~~~~~~~~~~~~~~~~~~~~~~~~~~~~~~~~~~~~~~~~~~~~~~~~\n",
      "\n",
      "\n",
      "\n",
      "~~~~~~~~~~~~~~~~~~~~~~~~~~~~~~~~~~~~~~~~~~~~~~~~~~~~~~~~~~~~~~~~~~~~~~~~\n",
      "\n",
      "S9.gfortran: \n",
      "    \n",
      "\n",
      "    +> Gfortran compiler 6.3.2 with open_mpi for a debian 9\n",
      "\n",
      "    +> root:    /home/B61570/opentelemac/git/trunk\n",
      "    +> module: ad / api / artemis / bief\n",
      "               damocles  / gaia  / gretel  / hermes\n",
      "               identify_liq_bnd  / khione  / mascaret  / nestor\n",
      "               parallel  / partel  / postel3d  / sisyphe\n",
      "               special  / stbtel  / telemac2d  / telemac3d\n",
      "               tomawac / waqtel\n",
      "\n",
      "\n",
      "~~~~~~~~~~~~~~~~~~~~~~~~~~~~~~~~~~~~~~~~~~~~~~~~~~~~~~~~~~~~~~~~~~~~~~~~\n",
      "\n",
      "\n",
      "... processing the steering file\n",
      "\n",
      "... checking parallelisation\n",
      "\n",
      "... handling temporary directories\n",
      "         copying: t2d_bump_FE.cas -> <root>/examples/telemac2d/bump/t2d_bump_FE.cas_2020-04-14-16h24min13s/T2DCAS\n",
      "         copying: telemac2d.dico -> <root>/examples/telemac2d/bump/t2d_bump_FE.cas_2020-04-14-16h24min13s/T2DDICO\n",
      "         copying: geo_bump_flu.cli -> <root>/examples/telemac2d/bump/t2d_bump_FE.cas_2020-04-14-16h24min13s/T2DCLI\n",
      "         copying: geo_bump.slf -> <root>/examples/telemac2d/bump/t2d_bump_FE.cas_2020-04-14-16h24min13s/T2DGEO\n",
      "\n",
      "... checking the executable\n",
      "  > compiling objs\n",
      "         compiling: user_condin_h.f ... completed\n",
      "         compiling: user_corfon.f ... completed\n",
      "         compiling: user_utimp_telemac2d.f ... completed\n",
      "         created: out_user_fortran\n",
      "\n",
      "\n",
      "Running your simulation(s) :\n",
      "~~~~~~~~~~~~~~~~~~~~~~~~~~~~~~~~~~~~~~~~~~~~~~~~~~~~~~~~~~~~~~~~~~~~~~~~\n",
      "\n",
      "\n",
      "\n",
      "In /home/B61570/opentelemac/git/trunk/examples/telemac2d/bump/t2d_bump_FE.cas_2020-04-14-16h24min13s:\n",
      "mpirun -np 1 /home/B61570/opentelemac/git/trunk/examples/telemac2d/bump/t2d_bump_FE.cas_2020-04-14-16h24min13s/out_user_fortran\n",
      "\n",
      "\n",
      " MASTER PROCESSOR NUMBER            0  OF THE GROUP OF            1\n",
      " EXECUTABLE FILE: /home/B61570/opentelemac/git/trunk/examples/telemac2d/bump/t2d_bump_FE.cas_2020-04-14-16h24min13s/A.EXE\n",
      " LISTING OF TELEMAC2D------------------------------------------------------------------------------\n",
      "\n",
      "                TTTTT  EEEEE  L      EEEEE  M   M  AAAAA  CCCCC\n",
      "                  T    E      L      E      MM MM  A   A  C\n",
      "                  T    EEE    L      EEE    M M M  AAAAA  C\n",
      "                  T    E      L      E      M   M  A   A  C\n",
      "                  T    EEEEE  LLLLL  EEEEE  M   M  A   A  CCCCC\n",
      "\n",
      "                        2D    VERSION TRUNK  FORTRAN 2003\n",
      "\n",
      "                        ~^~^~^~^~^~^~^~^~^~^~^^~^~^~^~^~^~\n",
      "                          ~                            ~\n",
      "                               \\   '    o      '\n",
      "                               /\\ o       \\  o\n",
      "                             >=)'>    '   /\\ '\n",
      "                               \\/   \\   >=)'>        ~\n",
      "                               /    /\\    \\/\n",
      "                        ~         >=)'>   /     .\n",
      "                                    \\/                   )\n",
      "                                    /                   (\n",
      "                                          ~          )   )\n",
      "                          }     ~              (    (   (\n",
      "                         {                      )    )   )\n",
      "                          }  }         .       (    (   (\n",
      "                         {  {               /^^^^^^^^^^^^\n",
      "                        ^^^^^^^^^\\         /\n",
      "                                  ^^^^^^^^^\n",
      "\n",
      " DIFFERENT NUMBER OF PARALLEL PROCESSORS:\n",
      " DECLARED BEFORE (CASE OF COUPLING ?):           1\n",
      " TELEMAC-2D :           0\n",
      " VALUE            1  IS KEPT\n",
      "\n",
      "                   ********************************************\n",
      "                   *               LECDON:                    *\n",
      "                   *        AFTER CALLING DAMOCLES            *\n",
      "                   *        CHECKING OF DATA  READ            *\n",
      "                   *         IN THE STEERING FILE             *\n",
      "                   ********************************************\n",
      "\n",
      " EXITING LECDON. NAME OF THE STUDY:\n",
      "\n",
      " OPENING FILES FOR TELEMAC2D\n",
      " Opening: T2DGEO-geo_bump.slf\n",
      " Opening: T2DCLI-geo_bump_flu.cli\n",
      " Opening: T2DRES-r2d_bump.slf\n",
      "\n",
      "                          *****************************\n",
      "                          *    MEMORY ORGANIZATION    *\n",
      "                          *****************************\n",
      "\n",
      " READ_MESH_INFO: TITLE= mesh_bump0\n",
      "            NUMBER OF ELEMENTS:     1280\n",
      "            NUMBER OF POINTS:      729\n",
      "\n",
      "            SINGLE PRECISION FORMAT (R4)\n",
      "\n",
      " MXPTEL (BIEF) : MAXIMUM NUMBER OF ELEMENTS AROUND A POINT:   8\n",
      "                 MAXIMUM NUMBER OF POINTS AROUND A POINT:   8\n",
      " USER_CORRXY (BIEF):NO MODIFICATION OF COORDINATES\n",
      "\n",
      " MESH: MESH   ALLOCATED\n",
      "\n",
      "                     *************************************\n",
      "                     *    END OF MEMORY ORGANIZATION:    *\n",
      "                     *************************************\n",
      "\n",
      " INITIALIZING TELEMAC2D FOR\n",
      " INBIEF (BIEF): NOT A VECTOR MACHINE (ACCORDING TO YOUR DATA)\n",
      " STRCHE (BIEF): NO MODIFICATION OF FRICTION\n",
      "\n",
      " THERE IS     2 LIQUID BOUNDARIES:\n",
      "\n",
      " BOUNDARY    1 :\n",
      "  BEGINS AT BOUNDARY POINT:       81 , WITH GLOBAL NUMBER:        21\n",
      "  AND COORDINATES:     20.00000           0.000000\n",
      "  ENDS AT BOUNDARY POINT:       89 , WITH GLOBAL NUMBER:        63\n",
      "  AND COORDINATES:     20.00000           2.000000\n",
      "\n",
      " BOUNDARY    2 :\n",
      "  BEGINS AT BOUNDARY POINT:      169 , WITH GLOBAL NUMBER:        43\n",
      "  AND COORDINATES:     0.000000           2.000000\n",
      "  ENDS AT BOUNDARY POINT:        1 , WITH GLOBAL NUMBER:         1\n",
      "  AND COORDINATES:     0.000000           0.000000\n",
      "\n",
      " THERE IS     2 SOLID BOUNDARIES:\n",
      "\n",
      " BOUNDARY    1 :\n",
      "  BEGINS AT BOUNDARY POINT:        1 , WITH GLOBAL NUMBER:         1\n",
      "  AND COORDINATES:     0.000000           0.000000\n",
      "  ENDS AT BOUNDARY POINT:       81 , WITH GLOBAL NUMBER:        21\n",
      "  AND COORDINATES:     20.00000           0.000000\n",
      "\n",
      " BOUNDARY    2 :\n",
      "  BEGINS AT BOUNDARY POINT:       89 , WITH GLOBAL NUMBER:        63\n",
      "  AND COORDINATES:     20.00000           2.000000\n",
      "  ENDS AT BOUNDARY POINT:      169 , WITH GLOBAL NUMBER:        43\n",
      "  AND COORDINATES:     0.000000           2.000000\n",
      "\n",
      " CORFON (TELEMAC2D): NO MODIFICATION OF BOTTOM\n",
      "\n",
      "================================================================================\n",
      " ITERATION        0    TIME:   0.0000 S\n",
      " TELEMAC2D INITIALIZED\n",
      " USING STREAMLINE VERSION 7.3 FOR CHARACTERISTICS\n",
      "\n",
      "================================================================================\n",
      " ITERATION     1000    TIME:  20.0000 S\n",
      "--------------------------------------------------------------------------------\n",
      "                          ADVECTION STEP\n",
      "--------------------------------------------------------------------------------\n",
      "                    DIFFUSION-PROPAGATION STEP\n",
      " GRACJG (BIEF) :        6 ITERATIONS, ABSOLUTE PRECISION:   0.3639206E-05\n",
      "--------------------------------------------------------------------------------\n",
      "                       BALANCE OF WATER VOLUME\n",
      "     VOLUME IN THE DOMAIN :    28.49321     M3\n",
      "     FLUX BOUNDARY    1:    -1.350006     M3/S  ( >0 : ENTERING  <0 : EXITING )\n",
      "     FLUX BOUNDARY    2:     1.499891     M3/S  ( >0 : ENTERING  <0 : EXITING )\n",
      "     RELATIVE ERROR IN VOLUME AT T =        20.00     S :    0.1469789E-07\n",
      "\n",
      "================================================================================\n",
      " ITERATION     2000    TIME:  40.0000 S\n",
      "--------------------------------------------------------------------------------\n",
      "                          ADVECTION STEP\n",
      "--------------------------------------------------------------------------------\n",
      "                    DIFFUSION-PROPAGATION STEP\n",
      " GRACJG (BIEF) :        2 ITERATIONS, ABSOLUTE PRECISION:   0.2595021E-05\n",
      "--------------------------------------------------------------------------------\n",
      "                       BALANCE OF WATER VOLUME\n",
      "     VOLUME IN THE DOMAIN :    31.26615     M3\n",
      "     FLUX BOUNDARY    1:    -1.677285     M3/S  ( >0 : ENTERING  <0 : EXITING )\n",
      "     FLUX BOUNDARY    2:     1.499992     M3/S  ( >0 : ENTERING  <0 : EXITING )\n",
      "     RELATIVE ERROR IN VOLUME AT T =        40.00     S :   -0.1812475E-07\n",
      "\n",
      "================================================================================\n",
      " ITERATION     3000    TIME:  1 MN   0.0000 S   (       60.0000 S)\n",
      "--------------------------------------------------------------------------------\n",
      "                          ADVECTION STEP\n",
      "--------------------------------------------------------------------------------\n",
      "                    DIFFUSION-PROPAGATION STEP\n",
      " GRACJG (BIEF) :        1 ITERATIONS, ABSOLUTE PRECISION:   0.7965045E-05\n",
      "--------------------------------------------------------------------------------\n",
      "                       BALANCE OF WATER VOLUME\n",
      "     VOLUME IN THE DOMAIN :    30.39434     M3\n",
      "     FLUX BOUNDARY    1:    -1.445314     M3/S  ( >0 : ENTERING  <0 : EXITING )\n",
      "     FLUX BOUNDARY    2:     1.500007     M3/S  ( >0 : ENTERING  <0 : EXITING )\n",
      "     RELATIVE ERROR IN VOLUME AT T =        60.00     S :    0.2929416E-07\n",
      "\n",
      "================================================================================\n",
      " ITERATION     4000    TIME:  1 MN  20.0000 S   (       80.0000 S)\n",
      "--------------------------------------------------------------------------------\n",
      "                          ADVECTION STEP\n",
      "--------------------------------------------------------------------------------\n",
      "                    DIFFUSION-PROPAGATION STEP\n",
      " GRACJG (BIEF) :        1 ITERATIONS, ABSOLUTE PRECISION:   0.3529985E-05\n",
      "--------------------------------------------------------------------------------\n",
      "                       BALANCE OF WATER VOLUME\n",
      "     VOLUME IN THE DOMAIN :    30.59744     M3\n",
      "     FLUX BOUNDARY    1:    -1.520476     M3/S  ( >0 : ENTERING  <0 : EXITING )\n",
      "     FLUX BOUNDARY    2:     1.499993     M3/S  ( >0 : ENTERING  <0 : EXITING )\n",
      "     RELATIVE ERROR IN VOLUME AT T =        80.00     S :   -0.1034082E-07\n",
      "\n",
      "================================================================================\n",
      " ITERATION     5000    TIME:  1 MN  40.0000 S   (      100.0000 S)\n",
      "--------------------------------------------------------------------------------\n",
      "                          ADVECTION STEP\n",
      "--------------------------------------------------------------------------------\n",
      "                    DIFFUSION-PROPAGATION STEP\n",
      " GRACJG (BIEF) :        0 ITERATIONS, ABSOLUTE PRECISION:   0.9326646E-05\n",
      "--------------------------------------------------------------------------------\n",
      "                       BALANCE OF WATER VOLUME\n",
      "     VOLUME IN THE DOMAIN :    30.58665     M3\n",
      "     FLUX BOUNDARY    1:    -1.492772     M3/S  ( >0 : ENTERING  <0 : EXITING )\n",
      "     FLUX BOUNDARY    2:     1.500008     M3/S  ( >0 : ENTERING  <0 : EXITING )\n",
      "     RELATIVE ERROR IN VOLUME AT T =        100.0     S :    0.1111721E-07\n",
      "\n",
      "================================================================================\n",
      " ITERATION     6000    TIME:  1 MN  60.0000 S   (      120.0000 S)\n",
      "--------------------------------------------------------------------------------\n",
      "                          ADVECTION STEP\n",
      "--------------------------------------------------------------------------------\n",
      "                    DIFFUSION-PROPAGATION STEP\n",
      " GRACJG (BIEF) :        0 ITERATIONS, ABSOLUTE PRECISION:   0.9986241E-05\n",
      "--------------------------------------------------------------------------------\n",
      "                       BALANCE OF WATER VOLUME\n",
      "     VOLUME IN THE DOMAIN :    30.56195     M3\n",
      "     FLUX BOUNDARY    1:    -1.502181     M3/S  ( >0 : ENTERING  <0 : EXITING )\n",
      "     FLUX BOUNDARY    2:     1.499998     M3/S  ( >0 : ENTERING  <0 : EXITING )\n",
      "     RELATIVE ERROR IN VOLUME AT T =        120.0     S :    0.1459853E-07\n",
      "--------------------------------------------------------------------------------\n",
      "                   FINAL BALANCE OF WATER VOLUME\n",
      "\n",
      "     RELATIVE ERROR CUMULATED ON VOLUME:    0.3893987E-05\n",
      "\n",
      "     INITIAL VOLUME              :     38.74669     M3\n",
      "     FINAL VOLUME                :     30.56195     M3\n",
      "     VOLUME THAT ENTERED THE DOMAIN:    -8.184585     M3  ( IF <0 EXIT )\n",
      "     TOTAL VOLUME LOST             :    0.1508791E-03 M3\n",
      "\n",
      " END OF TIME LOOP\n",
      "\n",
      " EXITING MPI\n",
      "\n",
      "STOP 0\n",
      "                     *************************************\n",
      "                     *    END OF MEMORY ORGANIZATION:    *\n",
      "                     *************************************\n",
      "\n",
      " CORRECT END OF RUN\n",
      "\n",
      " ELAPSE TIME :\n",
      "                              2  SECONDS\n",
      "... merging separated result files\n",
      "\n",
      "... handling result files\n",
      "\n",
      "        moving: r2d_bump.slf\n",
      "      copying: t2d_bump_FE.cas_2020-04-14-16h24min13s.sortie\n",
      "... deleting working dir\n",
      "\n",
      "\n",
      "\n",
      "My work is done\n",
      "\n",
      "\n"
     ]
    }
   ],
   "source": [
    "%%bash\n",
    "cd $HOMETEL/examples/telemac2d/bump\n",
    "runcode.py telemac2d t2d_bump_FE.cas -s"
   ]
  },
  {
   "cell_type": "markdown",
   "metadata": {},
   "source": [
    "Get the lastest output file:"
   ]
  },
  {
   "cell_type": "code",
   "execution_count": 2,
   "metadata": {},
   "outputs": [
    {
     "name": "stdout",
     "output_type": "stream",
     "text": [
      "/home/B61570/opentelemac/git/trunk/examples/telemac2d/bump/t2d_bump_FE.cas_2020-04-14-16h24min13s.sortie\n"
     ]
    }
   ],
   "source": [
    "from postel.parser_output import get_latest_output_files\n",
    "import os\n",
    "import re\n",
    "from postel.parser_output import OutputFileData\n",
    "\n",
    "file_name = get_latest_output_files(os.path.join(os.environ['HOMETEL'],\n",
    "                                                 \"examples/telemac2d/bump/t2d_bump_FE.cas\"))\n",
    "if file_name:\n",
    "    file_name = file_name[0]\n",
    "    print(file_name)                    "
   ]
  },
  {
   "cell_type": "markdown",
   "metadata": {},
   "source": [
    "## Data extraction defines by user for the output file "
   ]
  },
  {
   "cell_type": "code",
   "execution_count": 3,
   "metadata": {},
   "outputs": [
    {
     "name": "stdout",
     "output_type": "stream",
     "text": [
      "ITERATION        0    TIME:   0.0000 S\n",
      "ITERATION     1000    TIME:  20.0000 S\n",
      "RELATIVE ERROR IN VOLUME AT T =        20.00     S :    0.1469789E-07\n",
      "ITERATION     2000    TIME:  40.0000 S\n",
      "RELATIVE ERROR IN VOLUME AT T =        40.00     S :   -0.1812475E-07\n",
      "ITERATION     3000    TIME:  1 MN   0.0000 S   (       60.0000 S)\n",
      "RELATIVE ERROR IN VOLUME AT T =        60.00     S :    0.2929416E-07\n",
      "ITERATION     4000    TIME:  1 MN  20.0000 S   (       80.0000 S)\n",
      "RELATIVE ERROR IN VOLUME AT T =        80.00     S :   -0.1034082E-07\n",
      "ITERATION     5000    TIME:  1 MN  40.0000 S   (      100.0000 S)\n",
      "RELATIVE ERROR IN VOLUME AT T =        100.0     S :    0.1111721E-07\n",
      "ITERATION     6000    TIME:  1 MN  60.0000 S   (      120.0000 S)\n",
      "RELATIVE ERROR IN VOLUME AT T =        120.0     S :    0.1459853E-07\n"
     ]
    }
   ],
   "source": [
    "# Example of regular expressions \n",
    "form = re.compile(r'\\s*(RELATIVE ERROR IN VOLUME AT T =)', re.I) # Search a term\n",
    "t_form = re.compile(r'\\s*ITERATION', re.I) # Search the time\n",
    "\n",
    "# extration data\n",
    "OuFile = OutputFileData(file_name)\n",
    "my_grep, line_num = OuFile.get_user_defined_output(form, line_num=True)\n",
    "my_grep_t, num_line_t = OuFile.get_user_defined_output(t_form, line_num=True)\n",
    "# print resutls\n",
    "tot = sorted(line_num + num_line_t)\n",
    "for idx in tot:\n",
    "    if idx in line_num:\n",
    "        print(my_grep[line_num.index(idx)])\n",
    "    elif idx in num_line_t:\n",
    "        print(my_grep_t[num_line_t.index(idx)])\n"
   ]
  },
  {
   "cell_type": "markdown",
   "metadata": {},
   "source": [
    "Note that the regular expression format could be found : https://docs.python.org/fr/3/library/re.html"
   ]
  },
  {
   "cell_type": "markdown",
   "metadata": {},
   "source": [
    "## Data predefined extraction for the output file"
   ]
  },
  {
   "cell_type": "code",
   "execution_count": 4,
   "metadata": {},
   "outputs": [
    {
     "name": "stdout",
     "output_type": "stream",
     "text": [
      "(('Iteration #', [0, 1000, 2000, 3000, 4000, 5000, 6000]), ('Time (s)', [0.0, 20.0, 40.0, 60.0, 80.0, 100.0, 120.0]))\n"
     ]
    }
   ],
   "source": [
    "OutFile = OutputFileData(file_name)\n",
    "#Works on TELEMAC-*D outfile\n",
    "print(OutFile.get_time_profile())"
   ]
  },
  {
   "cell_type": "code",
   "execution_count": 5,
   "metadata": {},
   "outputs": [
    {
     "name": "stdout",
     "output_type": "stream",
     "text": [
      "NO NAME OF STUDY\n"
     ]
    }
   ],
   "source": [
    "#Works on TELEMAC-*D outfile\n",
    "print(OutFile.get_name_of_study())"
   ]
  },
  {
   "cell_type": "code",
   "execution_count": 6,
   "metadata": {},
   "outputs": [
    {
     "name": "stdout",
     "output_type": "stream",
     "text": [
      "(('Time (s)', [0.0, 20.0, 40.0, 60.0, 80.0, 100.0, 120.0]), [('Volumes (m3/s)', [38.74669, 28.49321, 31.26615, 30.39434, 30.59744, 30.58665, 30.56195]), ('Fluxes (-)', ['Boundary 1', 'Boundary 2'], [[0.0, -1.350006, -1.677285, -1.445314, -1.520476, -1.492772, -1.502181], [0.0, 1.499891, 1.499992, 1.500007, 1.499993, 1.500008, 1.499998]]), ('Error (-)', [0.0, 1.469789e-08, -1.812475e-08, 2.929416e-08, -1.034082e-08, 1.111721e-08, 1.459853e-08])])\n"
     ]
    }
   ],
   "source": [
    "#Works on TELEMAC-2D outfile\n",
    "print(OutFile.get_value_history_output('voltotal;volfluxes;volerror'))"
   ]
  },
  {
   "cell_type": "code",
   "execution_count": 7,
   "metadata": {},
   "outputs": [
    {
     "name": "stdout",
     "output_type": "stream",
     "text": [
      "2.0\n"
     ]
    }
   ],
   "source": [
    "print(OutFile.get_exec_time())"
   ]
  },
  {
   "cell_type": "code",
   "execution_count": null,
   "metadata": {},
   "outputs": [],
   "source": []
  }
 ],
 "metadata": {
  "kernelspec": {
   "display_name": "Python 3",
   "language": "python",
   "name": "python3"
  },
  "language_info": {
   "codemirror_mode": {
    "name": "ipython",
    "version": 3
   },
   "file_extension": ".py",
   "mimetype": "text/x-python",
   "name": "python",
   "nbconvert_exporter": "python",
   "pygments_lexer": "ipython3",
   "version": "3.5.3"
  }
 },
 "nbformat": 4,
 "nbformat_minor": 1
}
