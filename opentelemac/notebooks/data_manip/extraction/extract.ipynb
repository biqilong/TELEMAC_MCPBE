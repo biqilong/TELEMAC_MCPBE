{
 "cells": [
  {
   "cell_type": "markdown",
   "metadata": {},
   "source": [
    "# Usage of plot.py\n",
    "\n",
    "The aim of this script is to allow simple extraction in csv format using a one-line command\n",
    "\n",
    "  * [mesh2d](#Mesh2d-action)\n",
    "  * [timeseries](#Timeseries-action)\n",
    "  * [spectrum](#Spectrum-action)\n",
    "\n",
    "## The script\n",
    "\n",
    "The script follow the same behaviour as other Telemac-Mascaret script the first argument is an action and then the specific options of that actions"
   ]
  },
  {
   "cell_type": "code",
   "execution_count": 7,
   "metadata": {},
   "outputs": [
    {
     "name": "stdout",
     "output_type": "stream",
     "text": [
      "usage: extract.py [-h] {timeseries,mesh2d,spectrum} ...\n",
      "\n",
      "positional arguments:\n",
      "  {timeseries,mesh2d,spectrum}\n",
      "                        plot command to do\n",
      "    timeseries          Extract timeseries over points or nodes\n",
      "    mesh2d              Extract x y from file\n",
      "    spectrum            Extract spectrum of a given node at a given\n",
      "                        record/time\n",
      "\n",
      "optional arguments:\n",
      "  -h, --help            show this help message and exit\n"
     ]
    }
   ],
   "source": [
    "%%bash\n",
    "\n",
    "extract.py -h"
   ]
  },
  {
   "cell_type": "markdown",
   "metadata": {},
   "source": [
    "## Mesh2d action\n",
    "\n",
    "Extract x, y from mesh file"
   ]
  },
  {
   "cell_type": "code",
   "execution_count": 8,
   "metadata": {},
   "outputs": [
    {
     "name": "stdout",
     "output_type": "stream",
     "text": [
      "usage: extract.py mesh2d [-h] [--delimiter DELIMITER] file_name csv_name\n",
      "\n",
      "positional arguments:\n",
      "  file_name             Telemac file to extract from\n",
      "  csv_name              Name of the output csv file\n",
      "\n",
      "optional arguments:\n",
      "  -h, --help            show this help message and exit\n",
      "  --delimiter DELIMITER\n",
      "                        Delimiter in the csv file\n"
     ]
    }
   ],
   "source": [
    "%%bash\n",
    "extract.py mesh2d -h"
   ]
  },
  {
   "cell_type": "code",
   "execution_count": 9,
   "metadata": {},
   "outputs": [],
   "source": [
    "%%bash\n",
    "\n",
    "DIR=$HOMETEL/examples/telemac2d/gouttedo/\n",
    "extract.py mesh2d $DIR/f2d_gouttedo.slf mesh.csv"
   ]
  },
  {
   "cell_type": "code",
   "execution_count": 10,
   "metadata": {},
   "outputs": [
    {
     "name": "stdout",
     "output_type": "stream",
     "text": [
      "            # X          Y\n",
      "0      0.000000   0.000000\n",
      "1     19.800003   0.000000\n",
      "2     20.100006   0.000000\n",
      "3     20.100006   0.300000\n",
      "4      0.000000  19.800003\n",
      "...         ...        ...\n",
      "4619  19.199982  19.799988\n",
      "4620  19.499985  19.799988\n",
      "4621  19.799988  19.799988\n",
      "4622  19.799988   0.300000\n",
      "4623   0.300000  19.799988\n",
      "\n",
      "[4624 rows x 2 columns]\n"
     ]
    }
   ],
   "source": [
    "# Nice way to display csv file\n",
    "import pandas as pd\n",
    "df1 = pd.read_csv(\"mesh.csv\",delimiter=\";\")\n",
    "print(df1)"
   ]
  },
  {
   "cell_type": "markdown",
   "metadata": {},
   "source": [
    "## Timeseries action\n",
    "\n",
    "Extract a timeseries at given nodes/points for a given variable into a csv."
   ]
  },
  {
   "cell_type": "code",
   "execution_count": 11,
   "metadata": {},
   "outputs": [
    {
     "name": "stdout",
     "output_type": "stream",
     "text": [
      "usage: extract.py timeseries [-h] [-v VAR] [--points POINTS [POINTS ...] |\n",
      "                             --nodes NODES [NODES ...]]\n",
      "                             [--delimiter DELIMITER]\n",
      "                             file_name csv_name\n",
      "\n",
      "positional arguments:\n",
      "  file_name             Telemac file to extract from\n",
      "  csv_name              Name of the output csv file\n",
      "\n",
      "optional arguments:\n",
      "  -h, --help            show this help message and exit\n",
      "  -v VAR, --var VAR     Name of the variable to display\n",
      "  --points POINTS [POINTS ...]\n",
      "                        List of points for extraction x,y or x,y,z space\n",
      "                        separated\n",
      "  --nodes NODES [NODES ...]\n",
      "                        List of nodes for extraction nodes space separated\n",
      "  --delimiter DELIMITER\n",
      "                        Delimiter in the csv file\n"
     ]
    }
   ],
   "source": [
    "%%bash\n",
    "\n",
    "extract.py timeseries -h"
   ]
  },
  {
   "cell_type": "code",
   "execution_count": 12,
   "metadata": {},
   "outputs": [],
   "source": [
    "%%bash\n",
    "DIR=$HOMETEL/examples/telemac2d/gouttedo\n",
    "\n",
    "extract.py timeseries $DIR/f2d_gouttedo.slf extract_nodes.csv --v \"WATER DEPTH\" --node 6 66 666"
   ]
  },
  {
   "cell_type": "code",
   "execution_count": 13,
   "metadata": {},
   "outputs": [
    {
     "name": "stdout",
     "output_type": "stream",
     "text": [
      "    # time (s)         6        66       666\n",
      "0          0.0  2.400000  2.400000  2.400000\n",
      "1          0.2  2.400000  2.400000  2.400000\n",
      "2          0.4  2.400000  2.400000  2.400000\n",
      "3          0.6  2.400000  2.400000  2.400000\n",
      "4          0.8  2.400000  2.400000  2.400001\n",
      "5          1.0  2.400000  2.400003  2.400016\n",
      "6          1.2  2.400002  2.400077  2.400265\n",
      "7          1.4  2.400037  2.401075  2.402868\n",
      "8          1.6  2.400602  2.410527  2.425672\n",
      "9          1.8  2.406572  2.500290  2.615281\n",
      "10         2.0  2.463837  2.979796  2.697838\n",
      "11         2.2  3.007748  2.800277  2.815541\n",
      "12         2.4  3.403445  2.689613  2.859059\n",
      "13         2.6  2.963299  2.878726  2.816173\n",
      "14         2.8  2.671156  2.721972  2.730161\n",
      "15         3.0  2.447778  2.496591  2.491754\n",
      "16         3.2  2.279944  2.333411  2.345749\n",
      "17         3.4  2.159925  2.228483  2.234284\n",
      "18         3.6  2.087530  2.181256  2.182404\n",
      "19         3.8  2.073202  2.181683  2.168199\n",
      "20         4.0  2.131447  2.190048  2.179203\n"
     ]
    }
   ],
   "source": [
    "# Nice way to display csv file\n",
    "import pandas as pd\n",
    "df1 = pd.read_csv(\"extract_nodes.csv\",delimiter=\";\")\n",
    "print(df1)"
   ]
  },
  {
   "cell_type": "code",
   "execution_count": 14,
   "metadata": {},
   "outputs": [],
   "source": [
    "%%bash\n",
    "DIR=$HOMETEL/examples/telemac2d/gouttedo\n",
    "\n",
    "extract.py timeseries $DIR/f2d_gouttedo.slf extract_points.csv --v \"WATER DEPTH\" --points 2.0,2.0 1.0,1.0"
   ]
  },
  {
   "cell_type": "code",
   "execution_count": 15,
   "metadata": {},
   "outputs": [
    {
     "name": "stdout",
     "output_type": "stream",
     "text": [
      "    # time (s)  (2.0, 2.0)  (1.0, 1.0)\n",
      "0          0.0    2.400000    2.400000\n",
      "1          0.2    2.400000    2.400000\n",
      "2          0.4    2.400000    2.400000\n",
      "3          0.6    2.400000    2.400000\n",
      "4          0.8    2.400004    2.400000\n",
      "5          1.0    2.400077    2.400001\n",
      "6          1.2    2.401012    2.400028\n",
      "7          1.4    2.409245    2.400407\n",
      "8          1.6    2.484275    2.404167\n",
      "9          1.8    2.708620    2.439934\n",
      "10         2.0    2.611298    2.663204\n",
      "11         2.2    2.666580    2.891539\n",
      "12         2.4    2.950481    3.127564\n",
      "13         2.6    2.735463    2.979948\n",
      "14         2.8    2.707753    2.685553\n",
      "15         3.0    2.518835    2.465570\n",
      "16         3.2    2.363940    2.297007\n",
      "17         3.4    2.269860    2.185104\n",
      "18         3.6    2.213318    2.121638\n",
      "19         3.8    2.181167    2.112655\n",
      "20         4.0    2.182562    2.151207\n"
     ]
    }
   ],
   "source": [
    "# Nice way to display csv file\n",
    "import pandas as pd\n",
    "df1 = pd.read_csv(\"extract_points.csv\",delimiter=\";\")\n",
    "print(df1)"
   ]
  },
  {
   "cell_type": "markdown",
   "metadata": {},
   "source": [
    "## Spectrum action\n",
    "\n",
    "Extract a timeseries at given nodes/points for a given variable into a csv."
   ]
  },
  {
   "cell_type": "code",
   "execution_count": 16,
   "metadata": {},
   "outputs": [
    {
     "name": "stdout",
     "output_type": "stream",
     "text": [
      "usage: extract.py spectrum [-h] [-p POINT] [--radian] [-r RECORD | -t TIME]\n",
      "                           [--delimiter DELIMITER]\n",
      "                           file_name csv_name\n",
      "\n",
      "positional arguments:\n",
      "  file_name             Telemac file to extract from\n",
      "  csv_name              Name of the output csv file\n",
      "\n",
      "optional arguments:\n",
      "  -h, --help            show this help message and exit\n",
      "  -p POINT, --point POINT\n",
      "                        Point of the spectrum to extract\n",
      "  --radian              If given theta is in radian instead of degree\n",
      "  -r RECORD, --record RECORD\n",
      "                        Record of the spectrum to extract\n",
      "  -t TIME, --time TIME  Time of the spectrum to extract\n",
      "  --delimiter DELIMITER\n",
      "                        Delimiter in the csv file\n"
     ]
    }
   ],
   "source": [
    "%%bash\n",
    "extract.py spectrum -h"
   ]
  },
  {
   "cell_type": "code",
   "execution_count": 17,
   "metadata": {},
   "outputs": [],
   "source": [
    "%%bash\n",
    "\n",
    "DIR=$HOMETEL/examples/tomawac/impose_spectra\n",
    "extract.py spectrum $DIR/tom_OceanicResults_dt10.spe spectrum_27.csv -p 27 --record=-1"
   ]
  },
  {
   "cell_type": "code",
   "execution_count": 18,
   "metadata": {},
   "outputs": [
    {
     "name": "stdout",
     "output_type": "stream",
     "text": [
      "     # theta           0.0          10.0          20.0          30.0  \\\n",
      "0   0.040000  3.220504e-28  1.825904e-10  2.756716e-09  1.279944e-08   \n",
      "1   0.042200  1.710993e-27  5.129460e-10  7.744528e-09  3.595544e-08   \n",
      "2   0.044521  5.936493e-27  1.181229e-09  1.783475e-08  8.279505e-08   \n",
      "3   0.046970  1.798171e-26  2.316998e-09  3.498393e-08  1.623940e-07   \n",
      "4   0.049553  4.879449e-26  3.992980e-09  6.029067e-08  2.798413e-07   \n",
      "5   0.052278  1.234516e-25  6.198809e-09  9.359894e-08  4.343989e-07   \n",
      "6   0.055154  2.940729e-25  8.845611e-09  1.335672e-07  6.198249e-07   \n",
      "7   0.058187  6.668327e-25  1.179334e-08  1.780807e-07  8.262908e-07   \n",
      "8   0.061387  1.459518e-24  1.488520e-08  2.247716e-07  1.042794e-06   \n",
      "9   0.064764  3.189326e-24  1.797634e-08  2.714516e-07  1.259172e-06   \n",
      "10  0.068326  6.758836e-24  2.095127e-08  3.163753e-07  1.467320e-06   \n",
      "11  0.072084  1.377736e-23  2.373013e-08  3.583347e-07  1.661629e-06   \n",
      "12  0.076048  2.773965e-23  2.626709e-08  3.966354e-07  1.838876e-06   \n",
      "13  0.080231  5.538121e-23  2.854452e-08  4.310076e-07  1.997811e-06   \n",
      "14  0.084644  1.100173e-22  3.056569e-08  4.613617e-07  2.138648e-06   \n",
      "15  0.089299  2.186306e-22  3.234798e-08  4.880187e-07  2.262583e-06   \n",
      "16  0.094211  4.336223e-22  3.391717e-08  5.114064e-07  2.371395e-06   \n",
      "17  0.099392  8.587697e-22  3.530328e-08  5.319754e-07  2.467156e-06   \n",
      "18  0.104859  1.717138e-21  3.653771e-08  5.501960e-07  2.552023e-06   \n",
      "19  0.110626  4.032138e-21  3.765143e-08  5.665310e-07  2.628119e-06   \n",
      "20  0.116710  9.097004e-21  3.867412e-08  5.814218e-07  2.697455e-06   \n",
      "21  0.123129  1.801589e-20  3.963369e-08  5.952823e-07  2.761910e-06   \n",
      "22  0.129901  3.222513e-20  4.055643e-08  6.084995e-07  2.823228e-06   \n",
      "23  0.137046  5.147590e-20  4.146721e-08  6.214372e-07  2.882826e-06   \n",
      "24  0.144584  7.916608e-20  4.239001e-08  6.344432e-07  2.942934e-06   \n",
      "25  0.152536  1.230981e-19  4.334841e-08  6.478569e-07  3.012787e-06   \n",
      "26  0.160925  1.496732e-19  4.436631e-08  6.620189e-07  3.087290e-06   \n",
      "27  0.169776  1.247619e-19  4.546856e-08  6.778902e-07  3.168250e-06   \n",
      "28  0.179114  1.044245e-19  4.669105e-08  6.962330e-07  3.257607e-06   \n",
      "29  0.188965  8.782573e-20  4.811290e-08  7.167025e-07  3.690968e-06   \n",
      "30  0.199358  7.430162e-20  4.984473e-08  7.402450e-07  3.818759e-06   \n",
      "31  0.210323  6.325173e-20  5.181635e-08  8.022903e-07  4.233917e-06   \n",
      "\n",
      "            40.0          50.0          60.0          70.0          80.0  ...  \\\n",
      "0   3.645751e-08  8.618255e-08  1.990149e-07  3.842118e-07  8.384859e-07  ...   \n",
      "1   1.024093e-07  2.421208e-07  5.593494e-07  1.079968e-06  2.356844e-06  ...   \n",
      "2   2.358061e-07  5.575910e-07  1.288759e-06  2.488551e-06  5.430739e-06  ...   \n",
      "3   4.624813e-07  1.093783e-06  2.529378e-06  4.884731e-06  1.065965e-05  ...   \n",
      "4   7.969052e-07  1.885079e-06  4.361776e-06  8.424559e-06  1.838385e-05  ...   \n",
      "5   1.236948e-06  2.926650e-06  6.776147e-06  1.308970e-05  2.856290e-05  ...   \n",
      "6   1.764803e-06  4.176616e-06  9.677082e-06  1.869652e-05  4.079553e-05  ...   \n",
      "7   2.352454e-06  5.570071e-06  1.291317e-05  2.495317e-05  5.444423e-05  ...   \n",
      "8   2.968548e-06  7.253348e-06  1.631443e-05  3.153181e-05  6.879304e-05  ...   \n",
      "9   3.584132e-06  8.763310e-06  1.972358e-05  3.812904e-05  8.317973e-05  ...   \n",
      "10  4.176123e-06  1.024050e-05  2.301512e-05  4.450266e-05  9.707503e-05  ...   \n",
      "11  4.728558e-06  1.160585e-05  2.610226e-05  5.048523e-05  1.101173e-04  ...   \n",
      "12  5.232311e-06  1.422283e-05  2.893533e-05  5.598086e-05  1.221142e-04  ...   \n",
      "13  5.683788e-06  1.547385e-05  3.149542e-05  6.095320e-05  1.329880e-04  ...   \n",
      "14  6.083606e-06  1.659069e-05  3.378661e-05  6.541029e-05  1.427579e-04  ...   \n",
      "15  6.544140e-06  1.772698e-05  3.582855e-05  6.939028e-05  1.515037e-04  ...   \n",
      "16  6.862771e-06  1.862191e-05  3.765029e-05  7.294963e-05  1.593456e-04  ...   \n",
      "17  7.144380e-06  1.942342e-05  3.928582e-05  7.615441e-05  1.664269e-04  ...   \n",
      "18  7.401425e-06  2.014914e-05  4.077090e-05  7.907509e-05  1.729034e-04  ...   \n",
      "19  7.636435e-06  2.083299e-05  4.214125e-05  8.178060e-05  1.789284e-04  ...   \n",
      "20  7.855471e-06  2.145989e-05  4.343150e-05  8.433902e-05  1.846566e-04  ...   \n",
      "21  8.065243e-06  2.206182e-05  4.467490e-05  8.681556e-05  1.902276e-04  ...   \n",
      "22  8.269516e-06  2.265439e-05  4.590340e-05  8.927252e-05  1.959572e-04  ...   \n",
      "23  8.472742e-06  2.325271e-05  4.714780e-05  9.177232e-05  2.016621e-04  ...   \n",
      "24  8.723792e-06  2.387171e-05  4.843905e-05  9.437654e-05  2.076468e-04  ...   \n",
      "25  1.028823e-05  2.452627e-05  4.980863e-05  9.714810e-05  2.140459e-04  ...   \n",
      "26  1.057693e-05  2.523225e-05  5.128931e-05  1.001532e-04  2.210122e-04  ...   \n",
      "27  1.088317e-05  2.600642e-05  5.291620e-05  1.034634e-04  2.287142e-04  ...   \n",
      "28  1.146650e-05  2.686709e-05  5.472783e-05  1.071575e-04  2.373469e-04  ...   \n",
      "29  1.186816e-05  2.783458e-05  5.676718e-05  1.113242e-04  2.471204e-04  ...   \n",
      "30  1.232323e-05  2.893174e-05  5.908277e-05  1.160662e-04  2.582767e-04  ...   \n",
      "31  1.284230e-05  3.018427e-05  6.172944e-05  1.214939e-04  2.716740e-04  ...   \n",
      "\n",
      "    260.0  270.0  280.0  290.0  300.0  310.0  320.0         330.0  \\\n",
      "0     0.0    0.0    0.0    0.0    0.0    0.0    0.0  2.638061e-34   \n",
      "1     0.0    0.0    0.0    0.0    0.0    0.0    0.0  1.387740e-33   \n",
      "2     0.0    0.0    0.0    0.0    0.0    0.0    0.0  4.600560e-33   \n",
      "3     0.0    0.0    0.0    0.0    0.0    0.0    0.0  1.364525e-32   \n",
      "4     0.0    0.0    0.0    0.0    0.0    0.0    0.0  3.696993e-32   \n",
      "5     0.0    0.0    0.0    0.0    0.0    0.0    0.0  9.308683e-32   \n",
      "6     0.0    0.0    0.0    0.0    0.0    0.0    0.0  2.209392e-31   \n",
      "7     0.0    0.0    0.0    0.0    0.0    0.0    0.0  5.001028e-31   \n",
      "8     0.0    0.0    0.0    0.0    0.0    0.0    0.0  1.089919e-30   \n",
      "9     0.0    0.0    0.0    0.0    0.0    0.0    0.0  2.305077e-30   \n",
      "10    0.0    0.0    0.0    0.0    0.0    0.0    0.0  4.761509e-30   \n",
      "11    0.0    0.0    0.0    0.0    0.0    0.0    0.0  9.658467e-30   \n",
      "12    0.0    0.0    0.0    0.0    0.0    0.0    0.0  1.932376e-29   \n",
      "13    0.0    0.0    0.0    0.0    0.0    0.0    0.0  3.827188e-29   \n",
      "14    0.0    0.0    0.0    0.0    0.0    0.0    0.0  7.527899e-29   \n",
      "15    0.0    0.0    0.0    0.0    0.0    0.0    0.0  1.475227e-28   \n",
      "16    0.0    0.0    0.0    0.0    0.0    0.0    0.0  2.887201e-28   \n",
      "17    0.0    0.0    0.0    0.0    0.0    0.0    0.0  5.664450e-28   \n",
      "18    0.0    0.0    0.0    0.0    0.0    0.0    0.0  1.120158e-27   \n",
      "19    0.0    0.0    0.0    0.0    0.0    0.0    0.0  2.262522e-27   \n",
      "20    0.0    0.0    0.0    0.0    0.0    0.0    0.0  4.599809e-27   \n",
      "21    0.0    0.0    0.0    0.0    0.0    0.0    0.0  9.308740e-27   \n",
      "22    0.0    0.0    0.0    0.0    0.0    0.0    0.0  1.612390e-26   \n",
      "23    0.0    0.0    0.0    0.0    0.0    0.0    0.0  2.415900e-26   \n",
      "24    0.0    0.0    0.0    0.0    0.0    0.0    0.0  3.662854e-26   \n",
      "25    0.0    0.0    0.0    0.0    0.0    0.0    0.0  5.621338e-26   \n",
      "26    0.0    0.0    0.0    0.0    0.0    0.0    0.0  6.758128e-26   \n",
      "27    0.0    0.0    0.0    0.0    0.0    0.0    0.0  5.622137e-26   \n",
      "28    0.0    0.0    0.0    0.0    0.0    0.0    0.0  4.692989e-26   \n",
      "29    0.0    0.0    0.0    0.0    0.0    0.0    0.0  3.932987e-26   \n",
      "30    0.0    0.0    0.0    0.0    0.0    0.0    0.0  3.308683e-26   \n",
      "31    0.0    0.0    0.0    0.0    0.0    0.0    0.0  2.797122e-26   \n",
      "\n",
      "           340.0         350.0  \n",
      "0   2.340457e-31  1.465367e-29  \n",
      "1   1.231736e-30  7.741423e-29  \n",
      "2   4.086115e-30  2.616086e-28  \n",
      "3   1.212852e-29  7.832056e-28  \n",
      "4   3.290816e-29  2.126959e-27  \n",
      "5   8.318070e-29  5.400598e-27  \n",
      "6   1.980111e-28  1.289313e-26  \n",
      "7   4.488858e-28  2.924177e-26  \n",
      "8   9.796232e-28  6.396002e-26  \n",
      "9   2.074152e-27  1.365782e-25  \n",
      "10  4.289438e-27  2.843345e-25  \n",
      "11  8.712020e-27  5.788344e-25  \n",
      "12  1.745426e-26  1.162588e-24  \n",
      "13  3.462365e-26  2.312818e-24  \n",
      "14  6.854417e-26  4.614638e-24  \n",
      "15  1.378494e-25  9.527991e-24  \n",
      "16  2.749504e-25  1.934402e-23  \n",
      "17  5.408918e-25  3.817522e-23  \n",
      "18  1.082428e-24  7.683457e-23  \n",
      "19  2.218490e-24  1.549698e-22  \n",
      "20  4.524879e-24  3.107811e-22  \n",
      "21  9.116256e-24  6.125005e-22  \n",
      "22  1.575015e-23  1.040188e-21  \n",
      "23  2.357342e-23  1.698510e-21  \n",
      "24  3.558394e-23  2.802130e-21  \n",
      "25  5.651420e-23  4.662794e-21  \n",
      "26  7.065690e-23  6.094193e-21  \n",
      "27  5.875295e-23  5.068577e-21  \n",
      "28  4.903027e-23  4.229839e-21  \n",
      "29  4.106830e-23  3.543884e-21  \n",
      "30  3.454168e-23  2.982247e-21  \n",
      "31  2.919722e-23  2.520849e-21  \n",
      "\n",
      "[32 rows x 37 columns]\n"
     ]
    }
   ],
   "source": [
    "# Nice way to display csv file\n",
    "import pandas as pd\n",
    "df1 = pd.read_csv(\"spectrum_27.csv\",delimiter=\";\")\n",
    "print(df1)"
   ]
  },
  {
   "cell_type": "code",
   "execution_count": null,
   "metadata": {},
   "outputs": [],
   "source": []
  }
 ],
 "metadata": {
  "kernelspec": {
   "display_name": "Python 3",
   "language": "python",
   "name": "python3"
  },
  "language_info": {
   "codemirror_mode": {
    "name": "ipython",
    "version": 3
   },
   "file_extension": ".py",
   "mimetype": "text/x-python",
   "name": "python",
   "nbconvert_exporter": "python",
   "pygments_lexer": "ipython3",
   "version": "3.5.3"
  }
 },
 "nbformat": 4,
 "nbformat_minor": 2
}
