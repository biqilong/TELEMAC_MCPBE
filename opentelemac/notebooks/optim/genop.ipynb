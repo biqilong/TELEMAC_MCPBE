{
 "cells": [
  {
   "cell_type": "markdown",
   "metadata": {},
   "source": [
    "<span style=\"float:left;\">Licence CC BY-SA</span><span style=\"float:right;\">Fabrice Zaoui&nbsp;</span><br/>\n",
    "___"
   ]
  },
  {
   "cell_type": "markdown",
   "metadata": {},
   "source": [
    "This tutorial is intended for people who want to use the Genop optimizer. Genop (**Gen**etic **op**timizer) is a Python package implementing the Genetic Algorithm (GA) for a mono-objective minimization. GA is a derivative-free optimizer.  This metaheuristic mimics the natural evolution with the repeated application of operators (selection, mutation, crossover, etc.) in order to evolve a set of solutions towards the optimality. People interested in this class of algorithms may refer to [Genetic Algorithms](https://en.wikipedia.org/wiki/Genetic_algorithm) or [Genetic Programming](http://geneticprogramming.com/) for more information.\n",
    "\n",
    "Although Genop was primarly designed for the Telemac system, it is user-friendly and open to other fields of applications where derivatives are difficult to assess. Indeed, the software claims to be easy to figure out, efficient to run and supported.\n"
   ]
  },
  {
   "cell_type": "markdown",
   "metadata": {},
   "source": [
    "# Genop as a Python package"
   ]
  },
  {
   "cell_type": "markdown",
   "metadata": {},
   "source": [
    "Genop can be imported as a Python v2 package. It is located with the Telemac distribution in the sub-folder:\n",
    "\n",
    "$HOMETEL/scripts/python3/TelApy/tools"
   ]
  },
  {
   "cell_type": "code",
   "execution_count": 2,
   "metadata": {},
   "outputs": [],
   "source": [
    "# Changing of directory\n",
    "import os\n",
    "HOMETEL = os.environ.get('HOMETEL')\n",
    "if HOMETEL:\n",
    "    os.chdir(HOMETEL + '/scripts/python3/telapy/tools')\n",
    "else:\n",
    "    raise Exception('Unable to change of directory: \\\n",
    "    please check the HOMETEL value.')"
   ]
  },
  {
   "cell_type": "markdown",
   "metadata": {},
   "source": [
    "Note: In order to import the package from any other path, one can change the PYTHONPATH environment variable.\n",
    "\n",
    "Once the Genop package is correctly located, it can be imported:"
   ]
  },
  {
   "cell_type": "code",
   "execution_count": 3,
   "metadata": {},
   "outputs": [],
   "source": [
    "from telapy.tools.genop import genop"
   ]
  },
  {
   "cell_type": "markdown",
   "metadata": {},
   "source": [
    "Some basic information on Genop package can be obtained with:"
   ]
  },
  {
   "cell_type": "code",
   "execution_count": 4,
   "metadata": {},
   "outputs": [
    {
     "name": "stdout",
     "output_type": "stream",
     "text": [
      "Help on module telapy.tools.genop.genop in telapy.tools.genop:\n",
      "\n",
      "NAME\n",
      "    telapy.tools.genop.genop - A genetic algorithm optimizer (minimizer) in Python\n",
      "\n",
      "DESCRIPTION\n",
      "    Author(s): Fabrice Zaoui\n",
      "    \n",
      "    Copyright EDF 2016-2017\n",
      "    \n",
      "    Comments : adapted from the original algorithm of Scilab module 'optim_ga'\n",
      "\n",
      "CLASSES\n",
      "    builtins.object\n",
      "        Genop\n",
      "    \n",
      "    class Genop(builtins.object)\n",
      "     |  The base class for the Genetic Opimization\n",
      "     |  \n",
      "     |  Methods defined here:\n",
      "     |  \n",
      "     |  __init__(self, popsize=25, pbcross=0.7, pbmut=0.1)\n",
      "     |      Initialize some algorithmic parameters to default values\n",
      "     |      :return: a new object from Genop\n",
      "     |  \n",
      "     |  initialize(self, func, nvar, bounds)\n",
      "     |      Description of the minimization problem\n",
      "     |      :param 'f': the name of the python function where the cost function\n",
      "     |          is implemented (type: str)\n",
      "     |      :param 'n': the number of optimization variables (type: int)\n",
      "     |      :param 'bounds': a numpy array for the lower and upper bounds of\n",
      "     |          optimization variables (type: int)\n",
      "     |      :return: error code = 0 if successful (type: int)\n",
      "     |  \n",
      "     |  optimize(self, nbgen=10, nproc=1)\n",
      "     |      Do the genetic algorithm with 'niter' generations\n",
      "     |      :param 'nbgen': the maximal number of gnerations (i.e. iterations)\n",
      "     |      :param 'nproc': the number of processes (parallel simulations)\n",
      "     |      :return: a tuple of two elements for all the iterations:\n",
      "     |                  - the best parameters\n",
      "     |                  - the associated optimal cost functions\n",
      "     |  \n",
      "     |  ----------------------------------------------------------------------\n",
      "     |  Data descriptors defined here:\n",
      "     |  \n",
      "     |  __dict__\n",
      "     |      dictionary for instance variables (if defined)\n",
      "     |  \n",
      "     |  __weakref__\n",
      "     |      list of weak references to the object (if defined)\n",
      "\n",
      "FILE\n",
      "    /home/B61570/opentelemac/git/trunk/scripts/python3/telapy/tools/genop/genop.py\n",
      "\n",
      "\n"
     ]
    }
   ],
   "source": [
    "help(genop)"
   ]
  },
  {
   "cell_type": "markdown",
   "metadata": {},
   "source": [
    "and attributes reachable from it with:"
   ]
  },
  {
   "cell_type": "code",
   "execution_count": 5,
   "metadata": {},
   "outputs": [
    {
     "data": {
      "text/plain": [
       "['Genop',\n",
       " '__builtins__',\n",
       " '__cached__',\n",
       " '__doc__',\n",
       " '__file__',\n",
       " '__loader__',\n",
       " '__name__',\n",
       " '__package__',\n",
       " '__spec__',\n",
       " 'cost',\n",
       " 'crossover',\n",
       " 'elitist',\n",
       " 'genpop',\n",
       " 'mutation',\n",
       " 'np',\n",
       " 'printinfo',\n",
       " 'selection',\n",
       " 'updatecost',\n",
       " 'validate']"
      ]
     },
     "execution_count": 5,
     "metadata": {},
     "output_type": "execute_result"
    }
   ],
   "source": [
    "dir(genop)"
   ]
  },
  {
   "cell_type": "markdown",
   "metadata": {},
   "source": [
    "# Cost function"
   ]
  },
  {
   "cell_type": "markdown",
   "metadata": {},
   "source": [
    "The problem under consideration is formulated as a mathematical optimization seeking to minimize a cost function. With Genop the user has to define the cost function as a Python function taking as argument the (numpy array) vector of variables and returning the corresponding cost function value.\n",
    "\n",
    "For example, in the parent directory of Genop some test functions are defined in the file 'simul.py' "
   ]
  },
  {
   "cell_type": "code",
   "execution_count": 6,
   "metadata": {},
   "outputs": [],
   "source": [
    "import telapy.tools.simul as simul"
   ]
  },
  {
   "cell_type": "code",
   "execution_count": 7,
   "metadata": {},
   "outputs": [
    {
     "name": "stdout",
     "output_type": "stream",
     "text": [
      "# -*- coding: utf-8 -*-\n",
      "\"\"\"\n",
      "Definition of the cost function for 'genop' optimizer\n",
      "\n",
      "Author(s) : Fabrice Zaoui\n",
      "\n",
      "Copyright EDF 2016-2017\n",
      "\n",
      ":param 'x': array of optimization variables\n",
      ":return: value of the cost function\n",
      "\"\"\"\n",
      "import numpy as np\n",
      "\n",
      "\n",
      "# user function\n",
      "def sim_telemac(varx):\n",
      "    \"\"\"\n",
      "    The cost function to be written by user\n",
      "    \"\"\"\n",
      "    val = varx\n",
      "    return val\n",
      "\n",
      "\n",
      "# test function\n",
      "def rosenbrock(varx):\n",
      "    \"\"\"\n",
      "    https://en.wikipedia.org/wiki/Rosenbrock_function\n",
      "    \"\"\"\n",
      "    val = (1.-varx[0])**2+100.*(varx[1]-varx[0]**2)**2\n",
      "    return val\n",
      "\n",
      "\n",
      "# test function\n",
      "def maccormick(varx):\n",
      "    \"\"\"\n",
      "    https://en.wikipedia.org/wiki/Test_functions_for_optimization\n",
      "    \"\"\"\n",
      "    val = np.sin(varx[0]+varx[1])+(varx[0]-varx[1])**2 - \\\n",
      "        1.5*varx[0]+2.5*varx[1]+1.\n",
      "    return val\n",
      "\n",
      "\n",
      "# test function\n",
      "def easom(varx):\n",
      "    \"\"\"\n",
      "    https://en.wikipedia.org/wiki/Test_functions_for_optimization\n",
      "    \"\"\"\n",
      "    val = -np.cos(varx[0])*np.cos(varx[1]) * \\\n",
      "        np.exp(-((varx[0]-np.pi)**2+(varx[1]-np.pi)**2))\n",
      "    return val\n",
      "\n",
      "\n",
      "# test function\n",
      "def eggholder(varx):\n",
      "    \"\"\"\n",
      "    https://en.wikipedia.org/wiki/Test_functions_for_optimization\n",
      "    \"\"\"\n",
      "    val = -(varx[1]+47.)*np.sin(np.sqrt(np.abs(0.5*varx[0]+varx[1]+47.))) - \\\n",
      "        varx[0]*np.sin(np.sqrt(np.abs(varx[0]-varx[1]-47.)))\n",
      "    return val\n",
      "\n",
      "\n",
      "# test function\n",
      "def linear(varx):\n",
      "    \"\"\"\n",
      "    a simple linear function of three variables\n",
      "    \"\"\"\n",
      "    val = varx[0] + varx[1] - varx[2]\n",
      "    return val\n",
      "\n",
      "\n",
      "# test function\n",
      "def abslinear(varx):\n",
      "    \"\"\"\n",
      "    a simple absolute value function\n",
      "    \"\"\"\n",
      "    val = np.abs(varx[0]-2.)\n",
      "    return val\n"
     ]
    }
   ],
   "source": [
    "%%bash\n",
    "cat simul.py"
   ]
  },
  {
   "cell_type": "markdown",
   "metadata": {},
   "source": [
    "Six analytical functions are defined in this test file. They can be all optimized with Genop in one shot using the script 'test_genop.py':"
   ]
  },
  {
   "cell_type": "code",
   "execution_count": 8,
   "metadata": {},
   "outputs": [
    {
     "name": "stdout",
     "output_type": "stream",
     "text": [
      "-----  genop optimization -----\n",
      "-------------------------------\n",
      "|     iter     |     Cost     |\n",
      "-------------------------------\n",
      "        1       6.828216e+00\n",
      "        2       4.489315e-01\n",
      "        3       3.872464e-01\n",
      "        4       1.375434e-01\n",
      "        5       8.147332e-02\n",
      "        6       1.324750e-02\n",
      "        7       7.884752e-04\n",
      "        8       7.884752e-04\n",
      "        9       7.572284e-04\n",
      "       10       3.139442e-04\n",
      "       11       3.139442e-04\n",
      "       12       3.139442e-04\n",
      "       13       3.060440e-04\n",
      "       14       3.060440e-04\n",
      "       15       3.060440e-04\n",
      "       16       3.056095e-04\n",
      "       17       3.056095e-04\n",
      "       18       1.106437e-05\n",
      "       19       1.106437e-05\n",
      "       20       1.106437e-05\n",
      "       21       1.106437e-05\n",
      "       22       1.106437e-05\n",
      "       23       1.106421e-05\n",
      "       24       1.105327e-05\n",
      "       25       1.102495e-05\n",
      "       26       1.102495e-05\n",
      "       27       1.102495e-05\n",
      "       28       1.102454e-05\n",
      "       29       1.102422e-05\n",
      "       30       1.102422e-05\n",
      "-------------------------------------\n",
      "\n",
      "--> Maximum number of iterations: 30\n",
      "-------------------------------------\n",
      "\n",
      "--> Number of simulations: 2739\n",
      "-------------------------------------\n",
      "\n",
      "--> Best solution found:\n",
      "\t * cost function: 1.102422e-05\n",
      "\t * solution:\t\n",
      "\t\t0: 1.000582976852959\t\t\t1: 1.001493162896345\n",
      "-------------------------------------\n",
      "\n",
      "[[6.82821641e+00]\n",
      " [4.48931524e-01]\n",
      " [3.87246360e-01]\n",
      " [1.37543442e-01]\n",
      " [8.14733249e-02]\n",
      " [1.32474974e-02]\n",
      " [7.88475172e-04]\n",
      " [7.88475172e-04]\n",
      " [7.57228430e-04]\n",
      " [3.13944179e-04]\n",
      " [3.13944179e-04]\n",
      " [3.13944179e-04]\n",
      " [3.06043985e-04]\n",
      " [3.06043985e-04]\n",
      " [3.06043985e-04]\n",
      " [3.05609516e-04]\n",
      " [3.05609516e-04]\n",
      " [1.10643688e-05]\n",
      " [1.10643688e-05]\n",
      " [1.10643688e-05]\n",
      " [1.10643688e-05]\n",
      " [1.10643688e-05]\n",
      " [1.10642127e-05]\n",
      " [1.10532715e-05]\n",
      " [1.10249471e-05]\n",
      " [1.10249471e-05]\n",
      " [1.10249471e-05]\n",
      " [1.10245437e-05]\n",
      " [1.10242178e-05]\n",
      " [1.10242178e-05]]\n"
     ]
    },
    {
     "name": "stderr",
     "output_type": "stream",
     "text": [
      "......\n",
      "----------------------------------------------------------------------\n",
      "Ran 6 tests in 6.368s\n",
      "\n",
      "OK\n"
     ]
    }
   ],
   "source": [
    "%%bash\n",
    "python3 test_genop.py"
   ]
  },
  {
   "cell_type": "markdown",
   "metadata": {},
   "source": [
    "# Problem definition with Genop"
   ]
  },
  {
   "cell_type": "markdown",
   "metadata": {},
   "source": [
    "Suppose that the problem concerns the minimization of the [Rosenbrock function](https://en.wikipedia.org/wiki/Rosenbrock_function):"
   ]
  },
  {
   "cell_type": "markdown",
   "metadata": {},
   "source": [
    "$$ F(x_1,x_2) = (1-x_1)^2 + 100 \\times (x_2-x_1^2)^2$$ "
   ]
  },
  {
   "cell_type": "markdown",
   "metadata": {},
   "source": [
    "This functions of two variables has a global optimum at $$(x_1,x_2)=(1,1)$$ where $$F_{opt}(1,1)=0$$"
   ]
  },
  {
   "cell_type": "markdown",
   "metadata": {},
   "source": [
    "As the function is already implemented in 'simul.py' the definition of the Genop problem will be:"
   ]
  },
  {
   "cell_type": "code",
   "execution_count": 9,
   "metadata": {},
   "outputs": [],
   "source": [
    "import numpy as np\n",
    "\n",
    "# pointer to the function\n",
    "f = simul.rosenbrock\n",
    "# number of variables\n",
    "n = 2\n",
    "# lower and upper bounds for variable (optimizing in the range [-5., 5.])\n",
    "bounds = np.zeros((n, 2))\n",
    "bounds[0, 0] = -5.\n",
    "bounds[0, 1] = 5.\n",
    "bounds[1, 0] = -5.\n",
    "bounds[1, 1] = 5.\n",
    "# instantiation of a Genop problem with default values for parameters\n",
    "mypb = genop.Genop()\n",
    "# initialization of the problem for Genop\n",
    "error = mypb.initialize(f, n, bounds)\n",
    "if error:\n",
    "    raise Exception('Unable to initialize Genop')"
   ]
  },
  {
   "cell_type": "markdown",
   "metadata": {},
   "source": [
    "# Optimizing with Genop"
   ]
  },
  {
   "cell_type": "markdown",
   "metadata": {},
   "source": [
    "The Genop minimization with default valuesis straightforward: "
   ]
  },
  {
   "cell_type": "code",
   "execution_count": 10,
   "metadata": {},
   "outputs": [
    {
     "name": "stdout",
     "output_type": "stream",
     "text": [
      "-----  genop optimization -----\n",
      "-------------------------------\n",
      "|     iter     |     Cost     |\n",
      "-------------------------------\n",
      "        1       1.201334e+01\n",
      "        2       2.123930e+00\n",
      "        3       7.860268e-01\n",
      "        4       7.860268e-01\n",
      "        5       7.860268e-01\n",
      "        6       7.860268e-01\n",
      "        7       7.860268e-01\n",
      "        8       7.860268e-01\n",
      "        9       4.297289e-01\n",
      "       10       3.989541e-01\n",
      "-------------------------------------\n",
      "\n",
      "--> Maximum number of iterations: 10\n",
      "-------------------------------------\n",
      "\n",
      "--> Number of simulations: 464\n",
      "-------------------------------------\n",
      "\n",
      "--> Best solution found:\n",
      "\t * cost function: 3.989541e-01\n",
      "\t * solution:\t\n",
      "\t\t0: 0.3683780321234696\t\t\t1: 0.13542252720858686\n",
      "-------------------------------------\n",
      "\n"
     ]
    }
   ],
   "source": [
    "fcost, xopt = mypb.optimize()"
   ]
  },
  {
   "cell_type": "markdown",
   "metadata": {},
   "source": [
    "Genop returns all the values of optimal cost functions *fcost* and associated variables *xopt* throughout the minimization process."
   ]
  },
  {
   "cell_type": "code",
   "execution_count": 11,
   "metadata": {},
   "outputs": [
    {
     "data": {
      "image/png": "[encoded data removed]",
      "text/plain": [
       "<Figure size 432x288 with 1 Axes>"
      ]
     },
     "metadata": {
      "needs_background": "light"
     },
     "output_type": "display_data"
    }
   ],
   "source": [
    "import matplotlib.pyplot as plt\n",
    "\n",
    "%matplotlib inline\n",
    "plt.plot(fcost)\n",
    "plt.grid()\n",
    "plt.xlabel('Iteration number')\n",
    "plt.ylabel('Cost function value')\n",
    "plt.title('Rosenborck function minimized with Genop')\n",
    "plt.show()"
   ]
  },
  {
   "cell_type": "code",
   "execution_count": 12,
   "metadata": {},
   "outputs": [
    {
     "data": {
      "image/png": "[encoded data removed]",
      "text/plain": [
       "<Figure size 432x288 with 1 Axes>"
      ]
     },
     "metadata": {
      "needs_background": "light"
     },
     "output_type": "display_data"
    }
   ],
   "source": [
    "x1, x2 = np.meshgrid(np.linspace(-5.,5.,201),np.linspace(-5.,5.,201))\n",
    "plt.contourf(x1, x2, simul.rosenbrock([x1,x2]), np.linspace(0.,3000.,200))\n",
    "plt.plot(*zip(*xopt), lw=4, color=\"green\", marker=\"o\", markerfacecolor=\"white\")\n",
    "plt.show()"
   ]
  },
  {
   "cell_type": "markdown",
   "metadata": {},
   "source": [
    "## Default optimization parameters"
   ]
  },
  {
   "cell_type": "markdown",
   "metadata": {},
   "source": [
    "Usefull parameters for the optimization process can be changed by the user with the instantiation of a new Genop object:"
   ]
  },
  {
   "cell_type": "markdown",
   "metadata": {},
   "source": [
    "mypb = genop.Genop(popsize=20, pbcross=0.8, pbmut=0.05)"
   ]
  },
  {
   "cell_type": "markdown",
   "metadata": {},
   "source": [
    "where:\n",
    "* popsize is the size of the population\n",
    "* pbcross is the probability crossover\n",
    "* pbmut is the probability mutation"
   ]
  },
  {
   "cell_type": "markdown",
   "metadata": {},
   "source": [
    "It is also possible to change the maximum number of generations with the call to the optimize method:"
   ]
  },
  {
   "cell_type": "markdown",
   "metadata": {},
   "source": [
    "fcost, xopt = mypb.optimize(nbgen=30)"
   ]
  },
  {
   "cell_type": "markdown",
   "metadata": {},
   "source": [
    "## Parallelism"
   ]
  },
  {
   "cell_type": "markdown",
   "metadata": {},
   "source": [
    "Althought GA requires many calls to cost functions assessment, it can be easily parallelised since each call is independant from other.\n",
    "\n",
    "Genop implements the *multiprocessing* Python package for this purpose.\n",
    "\n",
    "The number of processors to be used is indicated when calling the optimize method:"
   ]
  },
  {
   "cell_type": "markdown",
   "metadata": {},
   "source": [
    "fcost, xopt = mypb.optimize(nproc=2)"
   ]
  }
 ],
 "metadata": {
  "anaconda-cloud": {},
  "kernelspec": {
   "display_name": "Python 3",
   "language": "python",
   "name": "python3"
  },
  "language_info": {
   "codemirror_mode": {
    "name": "ipython",
    "version": 3
   },
   "file_extension": ".py",
   "mimetype": "text/x-python",
   "name": "python",
   "nbconvert_exporter": "python",
   "pygments_lexer": "ipython3",
   "version": "3.5.3"
  }
 },
 "nbformat": 4,
 "nbformat_minor": 1
}
