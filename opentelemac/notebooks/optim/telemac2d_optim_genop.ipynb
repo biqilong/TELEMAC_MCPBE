{
 "cells": [
  {
   "cell_type": "markdown",
   "metadata": {},
   "source": [
    "<span style=\"float:left;\">Licence CC BY-SA</span><span style=\"float:right;\">Fabrice Zaoui - Cedric Goeury&nbsp;</span><br/>\n",
    "___"
   ]
  },
  {
   "cell_type": "markdown",
   "metadata": {},
   "source": [
    "This tutorial is intended for people who want an example showing how to optimize a Telemac 2D case with a genetic algorithm based on Genop Python module."
   ]
  },
  {
   "cell_type": "markdown",
   "metadata": {},
   "source": [
    "# Import Optimizer from TelApy"
   ]
  },
  {
   "cell_type": "code",
   "execution_count": 1,
   "metadata": {},
   "outputs": [],
   "source": [
    "from telapy.tools import genop"
   ]
  },
  {
   "cell_type": "markdown",
   "metadata": {},
   "source": [
    "The module 'genop' is located in the '$HOMETEL/scripts/python27/TelApy/tools' directory. If an error occurs while attempting to import, check the value of the environment variable PYTHONPATH.\n"
   ]
  },
  {
   "cell_type": "markdown",
   "metadata": {},
   "source": [
    "'genop' uses a meta-heuristic (the Genetic Algorithm) for a mono-objective optimization."
   ]
  },
  {
   "cell_type": "code",
   "execution_count": 2,
   "metadata": {},
   "outputs": [
    {
     "name": "stdout",
     "output_type": "stream",
     "text": [
      "Help on package telapy.tools.genop in telapy.tools:\n",
      "\n",
      "NAME\n",
      "    telapy.tools.genop - GENOP : a Python (v3) Genetic Optimizer\n",
      "\n",
      "DESCRIPTION\n",
      "    Adapted from the Scilab module 'ga_optim'\n",
      "    \n",
      "    Auteur : Fabrice Zaoui (EDF R&D LNHE)\n",
      "    \n",
      "    Copyright EDF 2016-2018\n",
      "\n",
      "PACKAGE CONTENTS\n",
      "    costfunction\n",
      "    crossover\n",
      "    genop\n",
      "    genpop\n",
      "    mutation\n",
      "    selection\n",
      "    showresults\n",
      "    validate\n",
      "\n",
      "CLASSES\n",
      "    builtins.object\n",
      "        telapy.tools.genop.genop.Genop\n",
      "    \n",
      "    class Genop(builtins.object)\n",
      "     |  The base class for the Genetic Opimization\n",
      "     |  \n",
      "     |  Methods defined here:\n",
      "     |  \n",
      "     |  __init__(self, popsize=25, pbcross=0.7, pbmut=0.1)\n",
      "     |      Initialize some algorithmic parameters to default values\n",
      "     |      :return: a new object from Genop\n",
      "     |  \n",
      "     |  initialize(self, func, nvar, bounds)\n",
      "     |      Description of the minimization problem\n",
      "     |      :param 'f': the name of the python function where the cost function\n",
      "     |          is implemented (type: str)\n",
      "     |      :param 'n': the number of optimization variables (type: int)\n",
      "     |      :param 'bounds': a numpy array for the lower and upper bounds of\n",
      "     |          optimization variables (type: int)\n",
      "     |      :return: error code = 0 if successful (type: int)\n",
      "     |  \n",
      "     |  optimize(self, nbgen=10, nproc=1)\n",
      "     |      Do the genetic algorithm with 'niter' generations\n",
      "     |      :param 'nbgen': the maximal number of gnerations (i.e. iterations)\n",
      "     |      :param 'nproc': the number of processes (parallel simulations)\n",
      "     |      :return: a tuple of two elements for all the iterations:\n",
      "     |                  - the best parameters\n",
      "     |                  - the associated optimal cost functions\n",
      "     |  \n",
      "     |  ----------------------------------------------------------------------\n",
      "     |  Data descriptors defined here:\n",
      "     |  \n",
      "     |  __dict__\n",
      "     |      dictionary for instance variables (if defined)\n",
      "     |  \n",
      "     |  __weakref__\n",
      "     |      list of weak references to the object (if defined)\n",
      "\n",
      "DATA\n",
      "    __all__ = ['genop', 'validate', 'genpop', 'costfunction', 'selection',...\n",
      "    __copyright__ = 'Copyright EDF 2016'\n",
      "    __email__ = 'fabrice.zaoui@edf.fr'\n",
      "    __license__ = 'GPL'\n",
      "    __maintainer__ = 'Fabrice Zaoui'\n",
      "    __status__ = 'Implementation'\n",
      "\n",
      "VERSION\n",
      "    0.02\n",
      "\n",
      "AUTHOR\n",
      "    Fabrice Zaoui\n",
      "\n",
      "FILE\n",
      "    /home/B61570/opentelemac/git/trunk/scripts/python3/telapy/tools/genop/__init__.py\n",
      "\n",
      "\n"
     ]
    }
   ],
   "source": [
    "help(genop)"
   ]
  },
  {
   "cell_type": "markdown",
   "metadata": {
    "collapsed": true
   },
   "source": [
    "# The Telemac2d test case"
   ]
  },
  {
   "cell_type": "markdown",
   "metadata": {},
   "source": [
    "A problem is created with the 'estimation' example located in '$HOMETEL/examples/telemac2d/estimation'."
   ]
  },
  {
   "cell_type": "markdown",
   "metadata": {},
   "source": [
    "The test case 'estimation' is dedicated to the automatic calibration problem. This Telemac-2D model is composed of 551 triangular mesh elements. On the upstream of the model, an imposed flow type boundary condition is used. On downstream, a water depth is applied."
   ]
  },
  {
   "cell_type": "markdown",
   "metadata": {},
   "source": [
    "The script 'study_t2d.py' has been written to manage this case with the Telemac API (initialization of the case, run of the case, get some important values on the physical variables)."
   ]
  },
  {
   "cell_type": "code",
   "execution_count": 3,
   "metadata": {},
   "outputs": [],
   "source": [
    "from telapy.tools.study_t2d import StudyTelemac2D\n",
    "import numpy as np\n",
    "import os"
   ]
  },
  {
   "cell_type": "markdown",
   "metadata": {},
   "source": [
    "# Goal"
   ]
  },
  {
   "cell_type": "markdown",
   "metadata": {
    "collapsed": true
   },
   "source": [
    "The calibration aims at minimizing the error between observations and Telemac computations on the water depths. Six observations are available on the middle of the domain. A norm is used to evaluate the error as follows:"
   ]
  },
  {
   "cell_type": "code",
   "execution_count": 4,
   "metadata": {},
   "outputs": [],
   "source": [
    "def estimation(CHESTR):\n",
    "    YObs = [5.000000000000000000e-01, 7.517873224063527093e-01, \\\n",
    "            7.517873219825667030e-01, 7.517873219442824384e-01, \\\n",
    "            7.517873221409325790e-01, 7.517873218929342904e-01]\n",
    "    YObs = np.asmatrix(np.ravel(YObs)).T # six observations\n",
    "    Fx = study.h_x(CHESTR[0]) # Telemac computation with new friction coefficient\n",
    "    Res = np.linalg.norm(YObs -Fx) # The norm evaluation\n",
    "    return np.array(Res)"
   ]
  },
  {
   "cell_type": "markdown",
   "metadata": {},
   "source": [
    "# Reading the case"
   ]
  },
  {
   "cell_type": "code",
   "execution_count": 5,
   "metadata": {},
   "outputs": [],
   "source": [
    "# Changing of directory : 'examples' directory of the Telemac sources\n",
    "HOMETEL = os.environ.get('HOMETEL')\n",
    "os.chdir(HOMETEL + '/examples/telemac2d/estimation')"
   ]
  },
  {
   "cell_type": "code",
   "execution_count": 6,
   "metadata": {},
   "outputs": [],
   "source": [
    "#  Telemac 2d files\n",
    "studyFiles={'t2d.f'   :'user_fortran',\\\n",
    "            't2d.cas' :'t2d_estimation_basic.cas',\\\n",
    "            'f2d.slf' :'f2d_estimation.slf',\\\n",
    "            't2d.geo' :'geo_estimation.slf' }"
   ]
  },
  {
   "cell_type": "code",
   "execution_count": 7,
   "metadata": {},
   "outputs": [],
   "source": [
    "# Observation times\n",
    "obs_time = [0.0, 2000.0, 4000.0, 6000.0, 8000.0, 10000.0]\n",
    "# A polygon is defined to get the observation node\n",
    "poly = [(246.114, 57.3554), (261.13, 57.0189), (261.802, 45.018), (245.666, 45.3545)]"
   ]
  },
  {
   "cell_type": "markdown",
   "metadata": {},
   "source": [
    "# Initialization"
   ]
  },
  {
   "cell_type": "code",
   "execution_count": 8,
   "metadata": {},
   "outputs": [],
   "source": [
    "# Class Instantiation \n",
    "study = StudyTelemac2D(studyFiles, obs_time, poly)"
   ]
  },
  {
   "cell_type": "markdown",
   "metadata": {},
   "source": [
    "# Run the optimization"
   ]
  },
  {
   "cell_type": "markdown",
   "metadata": {},
   "source": [
    "WARNINGS: The optimization will take time because the required number of Telemac runs is significant."
   ]
  },
  {
   "cell_type": "code",
   "execution_count": null,
   "metadata": {},
   "outputs": [],
   "source": [
    "# pointer to the function\n",
    "fcost = estimation\n",
    "# number of variables\n",
    "nvar = 1\n",
    "# lower and upper bounds for variable (optimizing in the range [20., 60.])\n",
    "bounds = np.zeros((nvar, 2))\n",
    "bounds[0, 0] = 20.\n",
    "bounds[0, 1] = 60.\n",
    "\n",
    "# instantiation of a Genop problem with default values for parameters\n",
    "mypb = genop.Genop()\n",
    "# initialization of the problem for Genop\n",
    "error = mypb.initialize(fcost, nvar, bounds)\n",
    "if error:\n",
    "    raise Exception('Unable to initialize Genop')\n",
    "\n",
    "# run optimization in parallel mode\n",
    "# ...comments: change parameter nproc depending on your machine \n",
    "fcost, xopt = mypb.optimize(nproc=3)"
   ]
  },
  {
   "cell_type": "code",
   "execution_count": null,
   "metadata": {},
   "outputs": [],
   "source": [
    "# Print all the optimal solutions found for the friction coefficient\n",
    "print(xopt)"
   ]
  },
  {
   "cell_type": "code",
   "execution_count": null,
   "metadata": {},
   "outputs": [],
   "source": [
    "# Print the corresponding errors (2-norm)\n",
    "print(fcost)"
   ]
  }
 ],
 "metadata": {
  "anaconda-cloud": {},
  "kernelspec": {
   "display_name": "Python 3",
   "language": "python",
   "name": "python3"
  },
  "language_info": {
   "codemirror_mode": {
    "name": "ipython",
    "version": 3
   },
   "file_extension": ".py",
   "mimetype": "text/x-python",
   "name": "python",
   "nbconvert_exporter": "python",
   "pygments_lexer": "ipython3",
   "version": "3.5.3"
  }
 },
 "nbformat": 4,
 "nbformat_minor": 1
}
