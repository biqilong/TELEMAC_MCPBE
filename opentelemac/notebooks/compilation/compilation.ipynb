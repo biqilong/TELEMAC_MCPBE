{
 "metadata": {
  "kernelspec": {
   "display_name": "Python 3",
   "language": "python",
   "name": "python3"
  },
  "language_info": {
   "codemirror_mode": {
    "name": "ipython",
    "version": 3
   },
   "file_extension": ".py",
   "mimetype": "text/x-python",
   "name": "python",
   "nbconvert_exporter": "python",
   "pygments_lexer": "ipython3",
   "version": "3.5.3"
  },
  "name": ""
 },
 "nbformat": 3,
 "nbformat_minor": 0,
 "worksheets": [
  {
   "cells": [
    {
     "cell_type": "heading",
     "level": 1,
     "metadata": {},
     "source": [
      "Compilation scripts"
     ]
    },
    {
     "cell_type": "markdown",
     "metadata": {},
     "source": [
      "This will describe how the commands for compilation works\n",
      "\n",
      "We will describe two scripts:\n",
      "- config.py that display information on your actual configuration\n",
      "- compile_telemac.py that runs the compilation of the system\n",
      "\n",
      "Most the telemac scripts have the following options to define your configuration:\n",
      "-  -c config name, --configname config name\n",
      " specify configuration name, default is randomly found in the configuration file\n",
      "-  -f config file, --configfile config file\n",
      " specify configuration file, default is systel.cfg\n",
      "-  -r TELEMAC root, --rootdir TELEMAC root\n",
      " specify the root, default is taken from config file\n",
      "\n",
      "They are not mandatory and can be replace by a environment variable:\n",
      "- \\$USETELCFG for the configuration name\n",
      "- \\$SYSTELCFG for the configuration file\n",
      "- \\$HOMETEL for the path to the system installation\n"
     ]
    },
    {
     "cell_type": "heading",
     "level": 1,
     "metadata": {},
     "source": [
      "config.py"
     ]
    },
    {
     "cell_type": "code",
     "collapsed": false,
     "input": [
      "%%bash\n",
      "config.py"
     ],
     "language": "python",
     "metadata": {},
     "outputs": [
      {
       "output_type": "stream",
       "stream": "stdout",
       "text": [
        "\n",
        "\n",
        "Loading Options and Configurations\n",
        "~~~~~~~~~~~~~~~~~~~~~~~~~~~~~~~~~~~~~~~~~~~~~~~~~~~~~~~~~~~~~~~~~~~~~~~~\n",
        "\n",
        "... parsing configuration file: /home/B61570/opentelemac/trunk/configs/systel.edf.cfg\n",
        "                _                                                        _       _               \n",
        "               | |                                                      (_)     (_)              \n",
        "  _   _  _ __  | | __ _ __    ___  __      __ _ __    _ __   ___ __   __ _  ___  _   ___   _ __  \n",
        " | | | || '_ \\ | |/ /| '_ \\  / _ \\ \\ \\ /\\ / /| '_ \\  | '__| / _ \\\\ \\ / /| |/ __|| | / _ \\ | '_ \\ \n",
        " | |_| || | | ||   < | | | || (_) | \\ V  V / | | | | | |   |  __/ \\ V / | |\\__ \\| || (_) || | | |\n",
        "  \\__,_||_| |_||_|\\_\\|_| |_| \\___/   \\_/\\_/  |_| |_| |_|    \\___|  \\_/  |_||___/|_| \\___/ |_| |_|\n",
        "                                                                                                 \n",
        "                                                                                                 \n",
        "\n",
        "\n",
        "~~~~~~~~~~~~~~~~~~~~~~~~~~~~~~~~~~~~~~~~~~~~~~~~~~~~~~~~~~~~~~~~~~~~~~~~\n",
        "\n",
        "C9.gfortran.dyn: \n",
        "    \n",
        "\n",
        "    +> Gfortran compiler 4.9.2 with open_mpi for a debian 8 all libraries are compiled in dynamic\n",
        "\n",
        "    +> root:    /home/B61570/opentelemac/trunk\n",
        "    +> module:  gretel / tomawac / telemac2d / telemac3d / artemis / hermes / parallel / diffsel / postel3d / sisyphe / nestor / special / bief / khione / waqtel / mascaret / splitsel / api / damocles / partel / stbtel / ad\n",
        "\n",
        "\n",
        "~~~~~~~~~~~~~~~~~~~~~~~~~~~~~~~~~~~~~~~~~~~~~~~~~~~~~~~~~~~~~~~~~~~~~~~~\n",
        "\n",
        "\n",
        "\n",
        "My work is done\n",
        "\n",
        "\n"
       ]
      }
     ],
     "prompt_number": 1
    },
    {
     "cell_type": "heading",
     "level": 1,
     "metadata": {},
     "source": [
      "compile_telemac.py"
     ]
    },
    {
     "cell_type": "markdown",
     "metadata": {},
     "source": [
      "To see its options like all of the script just -h or --help at the end"
     ]
    },
    {
     "cell_type": "code",
     "collapsed": false,
     "input": [
      "%%bash\n",
      "compile_telemac.py -h"
     ],
     "language": "python",
     "metadata": {},
     "outputs": [
      {
       "output_type": "stream",
       "stream": "stdout",
       "text": [
        "\n",
        "\n",
        "Loading Options and Configurations\n",
        "~~~~~~~~~~~~~~~~~~~~~~~~~~~~~~~~~~~~~~~~~~~~~~~~~~~~~~~~~~~~~~~~~~~~~~~~\n",
        "\n",
        "usage: compile_telemac.py [-h] [-c config name] [-f config file]\n",
        "                          [-r TELEMAC root] [-m modules] [-b] [--rescan]\n",
        "                          [--clean] [-j NCSIZE]\n",
        "\n",
        "Compile the TELEMAC system:\n",
        "\n",
        "1. rescan the tree dependencies if necessary\n",
        "2. check which files need re-compilation\n",
        "3. create object files, libraries, executable, and other binaries\n",
        "    depending on your configuration settings\n",
        "Work with all active configurations.\n",
        "        \n",
        "\n",
        "optional arguments:\n",
        "  -h, --help            show this help message and exit\n",
        "  -c config name, --configname config name\n",
        "                        specify configuration name, default is randomly found\n",
        "                        in the configuration file\n",
        "  -f config file, --configfile config file\n",
        "                        specify configuration file, default is systel.cfg\n",
        "  -r TELEMAC root, --rootdir TELEMAC root\n",
        "                        specify the root, default is taken from config file\n",
        "  -m modules, --modules modules\n",
        "                        specify the list modules, default is taken from config\n",
        "                        file\n",
        "  -b, --bypass          will bypass execution failures and try to carry on\n",
        "                        (final report at the end)\n",
        "  --rescan              will redo the scan of sources for an update of all the\n",
        "                        cmdf files\n",
        "  --clean               will erase all object, executable libraries from\n",
        "                        folder on the selected configs/modules\n",
        "  -j NCSIZE             set the number of core used for the parallel\n",
        "                        compilation of objects\n"
       ]
      }
     ],
     "prompt_number": 2
    },
    {
     "cell_type": "heading",
     "level": 2,
     "metadata": {},
     "source": [
      "To simply compile:"
     ]
    },
    {
     "cell_type": "markdown",
     "metadata": {},
     "source": [
      "`compile_telemac.py`"
     ]
    },
    {
     "cell_type": "heading",
     "level": 2,
     "metadata": {},
     "source": [
      "To recompile everything"
     ]
    },
    {
     "cell_type": "markdown",
     "metadata": {},
     "source": [
      "`compile_telemac.py --clean`"
     ]
    },
    {
     "cell_type": "heading",
     "level": 2,
     "metadata": {},
     "source": [
      "To update the cmdf"
     ]
    },
    {
     "cell_type": "markdown",
     "metadata": {},
     "source": [
      "This will only add new files to the cmdf.\n",
      "If you remove/add new files it is recommend to [regenerate the cmdf](#To regenerate the cmdf giles) instead."
     ]
    },
    {
     "cell_type": "markdown",
     "metadata": {},
     "source": [
      "`compile_telemac.py --rescan`"
     ]
    },
    {
     "cell_type": "heading",
     "level": 2,
     "metadata": {},
     "source": [
      "To regenerate the cmdf files"
     ]
    },
    {
     "cell_type": "markdown",
     "metadata": {},
     "source": [
      "Delete the cmdf files.  \n",
      "Run the scan of the sources files.  \n",
      "Generate the cmdf.  \n",
      "Recompiles everythings.  "
     ]
    },
    {
     "cell_type": "markdown",
     "metadata": {},
     "source": [
      "`compile_telemac.py --clean --rescan`"
     ]
    }
   ],
   "metadata": {}
  }
 ]
}
