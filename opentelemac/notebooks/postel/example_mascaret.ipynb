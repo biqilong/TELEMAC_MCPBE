{
 "cells": [
  {
   "cell_type": "markdown",
   "metadata": {},
   "source": [
    "# Example mascaret"
   ]
  },
  {
   "cell_type": "markdown",
   "metadata": {},
   "source": [
    "## Geometry file"
   ]
  },
  {
   "cell_type": "code",
   "execution_count": null,
   "metadata": {
    "scrolled": true
   },
   "outputs": [],
   "source": [
    "import os.path\n",
    "from data_manip.formats.mascaretgeo_file import MascaretGeoFile\n",
    "\n",
    "# File with a single reach\n",
    "mascgeo_file = MascaretGeoFile(os.path.join(os.environ['HOMETEL'],\n",
    "                                            'examples', 'mascaret', 'Test6', 'geometrie'),\n",
    "                               'geo')\n",
    "print(mascgeo_file.summary())\n",
    "\n",
    "# File with multiples reaches\n",
    "mascgeo_file = MascaretGeoFile(os.path.join(os.environ['HOMETEL'],\n",
    "                                            'examples', 'mascaret', 'Test15', 'mascaret0.geo'))\n",
    "print(mascgeo_file.summary())"
   ]
  },
  {
   "cell_type": "markdown",
   "metadata": {},
   "source": [
    "## Opthyca result file"
   ]
  },
  {
   "cell_type": "markdown",
   "metadata": {},
   "source": [
    "Run some validation mascaret test cases such as `Test18` and `Test26` to have generate opt files ( respectively `sarap_ecr.opt` and `rezo_ecr.opt`)."
   ]
  },
  {
   "cell_type": "code",
   "execution_count": null,
   "metadata": {
    "scrolled": true
   },
   "outputs": [],
   "source": [
    "%%bash\n",
    "# Run Test18 : ressaut\n",
    "cd $HOMETEL/examples/mascaret/Test18 && mascaret.py sarap.xcas"
   ]
  },
  {
   "cell_type": "code",
   "execution_count": null,
   "metadata": {},
   "outputs": [],
   "source": [
    "%%bash\n",
    "# Run Test26 : confluence\n",
    "cd $HOMETEL/examples/mascaret/Test26 && mascaret.py rezo.xcas"
   ]
  },
  {
   "cell_type": "code",
   "execution_count": null,
   "metadata": {
    "scrolled": true
   },
   "outputs": [],
   "source": [
    "import os.path\n",
    "from data_manip.formats.mascaret_file import MascaretFile\n",
    "\n",
    "\n",
    "masc_file = MascaretFile(os.path.join(os.environ['HOMETEL'], 'examples', 'mascaret', 'Test26', 'rezo_ecr.opt'))\n",
    "print(masc_file.summary())"
   ]
  },
  {
   "cell_type": "code",
   "execution_count": null,
   "metadata": {},
   "outputs": [],
   "source": [
    "# Get reaches\n",
    "masc_file.reaches"
   ]
  },
  {
   "cell_type": "code",
   "execution_count": null,
   "metadata": {},
   "outputs": [],
   "source": [
    "# Get sections of reach `1`\n",
    "masc_file.reaches[1].sections"
   ]
  },
  {
   "cell_type": "code",
   "execution_count": null,
   "metadata": {},
   "outputs": [],
   "source": [
    "# Get section `1` of reach `1`\n",
    "masc_file.reaches[1].sections[1]"
   ]
  },
  {
   "cell_type": "markdown",
   "metadata": {},
   "source": [
    "## Longitudinal profile"
   ]
  },
  {
   "cell_type": "code",
   "execution_count": null,
   "metadata": {},
   "outputs": [],
   "source": [
    "import matplotlib.pyplot as plt\n",
    "import os.path\n",
    "\n",
    "from data_manip.formats.mascaret_file import MascaretFile\n",
    "from postel.plot1d import plot1d\n",
    "\n",
    "\n",
    "# Selection to display\n",
    "masc_file = MascaretFile(os.path.join(os.environ['HOMETEL'], 'examples', 'mascaret', 'Test18', 'sarap_ecr.opt'))\n",
    "varnames = ['Cote de l eau', 'Cote du fond']\n",
    "reach_id = 1  # first reach\n",
    "time_index = -1  # last frame\n",
    "reach = masc_file.reaches[reach_id]\n",
    "\n",
    "fig, ax = plt.subplots(figsize=(10,8))\n",
    "\n",
    "for varname in varnames:\n",
    "    var_pos = masc_file.get_position_var(varname)\n",
    "    values = masc_file.get_values_at_reach(time_index, reach_id, var_pos)\n",
    "    plot1d(ax, reach.get_section_pk_list(), values,\n",
    "           plot_label='%s' % varname,\n",
    "           x_label='Distance (m)',\n",
    "           y_label='Cote (m)')\n",
    "\n",
    "# Displaying legend\n",
    "ax.legend()\n",
    "\n",
    "# Showing figure\n",
    "plt.show()\n",
    "\n",
    "del plt\n",
    "del masc_file"
   ]
  },
  {
   "cell_type": "markdown",
   "metadata": {},
   "source": [
    "## Temporal profile"
   ]
  },
  {
   "cell_type": "code",
   "execution_count": null,
   "metadata": {},
   "outputs": [],
   "source": [
    "import matplotlib.pyplot as plt\n",
    "import os.path\n",
    "\n",
    "from data_manip.formats.mascaret_file import MascaretFile\n",
    "from postel.plot1d import plot1d\n",
    "\n",
    "\n",
    "# Selection to display\n",
    "masc_file = MascaretFile(os.path.join(os.environ['HOMETEL'], 'examples', 'mascaret', 'Test26', 'rezo_ecr.opt'))\n",
    "varname = 'Cote de l eau'\n",
    "reach_id = 2  # first reach\n",
    "reach = masc_file.reaches[reach_id]\n",
    "sections = reach[:5]  # First 5 sections of requested reach\n",
    "\n",
    "# Build plot\n",
    "fig, ax = plt.subplots(figsize=(10, 8))\n",
    "\n",
    "var_pos = masc_file.get_position_var(varname)\n",
    "for section in sections:\n",
    "    values = masc_file.get_series(reach_id, section.id, [var_pos])\n",
    "    plot1d(ax, masc_file.times, values,\n",
    "           plot_label='%s' % section.name,\n",
    "           x_label='Temps (s)',\n",
    "           y_label='Z (m)')\n",
    "\n",
    "# Displaying legend\n",
    "ax.legend()\n",
    "\n",
    "# Showing figure\n",
    "plt.show()\n",
    "\n",
    "del plt\n",
    "del masc_file"
   ]
  },
  {
   "cell_type": "markdown",
   "metadata": {},
   "source": [
    "## creation .lig file (LIDOP format)\n",
    "\n",
    "Write a LIDOP format file for compute reprise"
   ]
  },
  {
   "cell_type": "code",
   "execution_count": null,
   "metadata": {},
   "outputs": [],
   "source": [
    "import os.path\n",
    "from data_manip.formats.mascaret_file import MascaretFile\n",
    "\n",
    "\n",
    "masc_file = MascaretFile(os.path.join(os.environ['HOMETEL'], 'examples', 'mascaret', 'Test26', 'rezo_ecr.opt'))\n",
    "# the last time_step for .lig file\n",
    "id_time = masc_file.ntimestep - 1\n",
    "# id_time = -1 # give the same result\n",
    "masc_file.export_as_lig('rezo_ecr.lig', id_time)"
   ]
  },
  {
   "cell_type": "markdown",
   "metadata": {},
   "source": [
    "Display the .lig file:"
   ]
  },
  {
   "cell_type": "code",
   "execution_count": null,
   "metadata": {},
   "outputs": [],
   "source": [
    "%%bash\n",
    "cat rezo_ecr.lig"
   ]
  },
  {
   "cell_type": "markdown",
   "metadata": {},
   "source": [
    "## Creation opthyca file (OPTHYCA format)\n",
    "\n",
    "This could be interesting if you reduce the variable number or the time step number in the mascaret results file"
   ]
  },
  {
   "cell_type": "code",
   "execution_count": null,
   "metadata": {},
   "outputs": [],
   "source": [
    "import os.path\n",
    "from data_manip.formats.mascaret_file import MascaretFile\n",
    "\n",
    "path_file = os.path.join(os.environ['HOMETEL'], 'examples', 'mascaret', 'Test26')\n",
    "\n",
    "masc_file = MascaretFile(os.path.join(path_file, 'rezo_ecr.opt'))\n",
    "\n",
    "# List of time index \n",
    "times_indexes=[0,-1]\n",
    "# [initialisation time step, last time step]\n",
    "vars_indexes=[]\n",
    "# get position with variable name\n",
    "vars_indexes.append(masc_file.get_position_var(\"Cote du fond\"))\n",
    "vars_indexes.append(masc_file.get_position_var(\"Cote de l eau\"))\n",
    "# get position with abbreviation of variable name\n",
    "vars_indexes.append(masc_file.get_position_var_abbr(\"Q\"))\n",
    "print('vars_indexes = ',vars_indexes)\n",
    "print('times_indexes = ',times_indexes)\n",
    "\n",
    "# Write a new file\n",
    "masc_file.write_optfile(os.path.join(path_file, 'rezo_ecr_ZQ.opt'), times_indexes, vars_indexes)\n",
    "\n",
    "del masc_file"
   ]
  },
  {
   "cell_type": "markdown",
   "metadata": {},
   "source": [
    "Check the new file which is created."
   ]
  },
  {
   "cell_type": "code",
   "execution_count": null,
   "metadata": {},
   "outputs": [],
   "source": [
    "# check new file \n",
    "masc_file_new = MascaretFile(os.path.join(path_file, 'rezo_ecr_ZQ.opt'))\n",
    "print(masc_file_new.summary())\n",
    "del masc_file_new"
   ]
  },
  {
   "cell_type": "code",
   "execution_count": null,
   "metadata": {},
   "outputs": [],
   "source": [
    "%%bash\n",
    "cat $HOMETEL/examples/mascaret/Test26/rezo_ecr_ZQ.opt"
   ]
  },
  {
   "cell_type": "code",
   "execution_count": null,
   "metadata": {},
   "outputs": [],
   "source": []
  }
 ],
 "metadata": {
  "kernelspec": {
   "display_name": "Python 3",
   "language": "python",
   "name": "python3"
  },
  "language_info": {
   "codemirror_mode": {
    "name": "ipython",
    "version": 3
   },
   "file_extension": ".py",
   "mimetype": "text/x-python",
   "name": "python",
   "nbconvert_exporter": "python",
   "pygments_lexer": "ipython3",
   "version": "3.7.5"
  }
 },
 "nbformat": 4,
 "nbformat_minor": 1
}
