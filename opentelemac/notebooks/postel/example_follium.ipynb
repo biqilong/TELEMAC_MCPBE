{
 "metadata": {
  "kernelspec": {
   "display_name": "Python 3",
   "language": "python",
   "name": "python3"
  },
  "language_info": {
   "codemirror_mode": {
    "name": "ipython",
    "version": 3
   },
   "file_extension": ".py",
   "mimetype": "text/x-python",
   "name": "python",
   "nbconvert_exporter": "python",
   "pygments_lexer": "ipython3",
   "version": "3.5.3"
  },
  "name": ""
 },
 "nbformat": 3,
 "nbformat_minor": 0,
 "worksheets": [
  {
   "cells": [
    {
     "cell_type": "markdown",
     "metadata": {},
     "source": [
      "# How to work with maps with follium\n",
      "\n",
      "## Locate the computational domain on a map"
     ]
    },
    {
     "cell_type": "code",
     "collapsed": false,
     "input": [
      "from os import environ, path\n",
      "import sys\n",
      "import numpy as np\n",
      "try:\n",
      "    import pyproj\n",
      "    import folium\n",
      "except ImportError:\n",
      "    raise Exception(\"Warning: pyproj and folium are mandatory for that notebook\")\n",
      "import matplotlib.pyplot as plt\n",
      "import matplotlib.tri as mtri\n",
      "from data_manip.extraction.telemac_file import TelemacFile\n",
      "from postel.plot2d import *\n",
      "\n",
      "# File we are going to use\n",
      "file_name = path.join(environ['HOMETEL'], \n",
      "                      'examples', \n",
      "                      'telemac2d', \n",
      "                      'tide',\n",
      "                      'r2d_tide-jmj_type.slf')\n",
      "\n",
      "# Initalisaing Telemac file reader\n",
      "res = TelemacFile(file_name)\n",
      "\n",
      "# Coordoate projections\n",
      "wgs84=pyproj.Proj(\"+init=EPSG:4326\") # LatLon with WGS84 datum used by GPS units and Google Earth\n",
      "lamb1=pyproj.Proj(\"+init=EPSG:27561\")\n",
      "\n",
      "# Conversion from Lambert Nord to WGS84\n",
      "res.tri.x, res.tri.y = pyproj.transform(lamb1, wgs84, res.tri.x, res.tri.y)\n",
      "\n",
      "# Define location of mesh\n",
      "xlim = [np.min(res.tri.x), np.max(res.tri.x)]\n",
      "ylim = [np.min(res.tri.y), np.max(res.tri.y)]\n",
      "x_center = (xlim[0] + xlim[1])/2.\n",
      "y_center = (ylim[0] + ylim[1])/2.\n",
      "\n",
      "top_left_point = [ylim[1], xlim[0]]\n",
      "bottom_left_point = [ylim[0], xlim[0]]\n",
      "top_right_point = [ylim[1], xlim[1]]\n",
      "bottom_right_point = [ylim[0], xlim[1]]\n",
      "\n",
      "height = ylim[1] - ylim[0]\n",
      "width = xlim[1] - xlim[0]\n",
      "\n",
      "# Creation of raster layer for map overlay\n",
      "carte_wms = folium.Map(\n",
      "    location = [y_center, x_center], # [latittude, longitude]  \n",
      "    width = '100%',\n",
      "    height= '100%',\n",
      "    zoom_start = 10,\n",
      "    max_native_zoom = None,\n",
      "    control_scale = True,\n",
      "    disable_3d = True,\n",
      "    zoom_control = True, \n",
      "    )\n",
      "\n",
      "folium.Marker(top_left_point).add_to(carte_wms)\n",
      "folium.Marker(bottom_right_point).add_to(carte_wms)\n",
      "folium.Marker(bottom_left_point).add_to(carte_wms)\n",
      "folium.Marker(top_right_point).add_to(carte_wms)\n",
      "\n",
      "carte_wms"
     ],
     "language": "python",
     "metadata": {
      "scrolled": false
     },
     "outputs": [
      {
       "html": [
        "<div style=\"width:100%;\"><div style=\"position:relative;width:100%;height:0;padding-bottom:60%;\"><iframe src=\"data:text/html;charset=utf-8;base64,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\" style=\"position:absolute;width:100%;height:100%;left:0;top:0;border:none !important;\" allowfullscreen webkitallowfullscreen mozallowfullscreen></iframe></div></div>"
       ],
       "metadata": {},
       "output_type": "pyout",
       "prompt_number": 4,
       "text": [
        "<folium.folium.Map at 0x7f0bd44b56a0>"
       ]
      }
     ],
     "prompt_number": 4
    },
    {
     "cell_type": "code",
     "collapsed": false,
     "input": [
      "# Ajout wms raster layer\n",
      "rasterlayer = folium.raster_layers.WmsTileLayer(\n",
      "    url = 'http://noeyyrh6.hadam.hadroot.edf.fr:6080/arcgis/services/EXT/BDORTHO_France/MapServer/WMSServer',\n",
      "    name = 'test',\n",
      "    fmt = 'image/png',\n",
      "    version = \"1.3.0\",\n",
      "    layers = '0',\n",
      "    attr = u'EDF',\n",
      "    transparent = False,\n",
      "    overlay = True,\n",
      "    control = True)\n",
      "\n",
      "rasterlayer.add_to(carte_wms)\n",
      "\n",
      "carte_wms.fit_bounds((bottom_left_point, top_right_point), padding_top_left=top_left_point, \n",
      "                     padding_bottom_right=bottom_right_point, max_zoom=100)\n",
      "carte_wms"
     ],
     "language": "python",
     "metadata": {},
     "outputs": [
      {
       "html": [
        "<div style=\"width:100%;\"><div style=\"position:relative;width:100%;height:0;padding-bottom:60%;\"><iframe src=\"data:text/html;charset=utf-8;base64,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\" style=\"position:absolute;width:100%;height:100%;left:0;top:0;border:none !important;\" allowfullscreen webkitallowfullscreen mozallowfullscreen></iframe></div></div>"
       ],
       "metadata": {},
       "output_type": "pyout",
       "prompt_number": 2,
       "text": [
        "<folium.folium.Map at 0x7f0bd6c37048>"
       ]
      }
     ],
     "prompt_number": 2
    },
    {
     "cell_type": "code",
     "collapsed": true,
     "input": [
      "del res"
     ],
     "language": "python",
     "metadata": {},
     "outputs": [],
     "prompt_number": 3
    }
   ],
   "metadata": {}
  }
 ]
}
