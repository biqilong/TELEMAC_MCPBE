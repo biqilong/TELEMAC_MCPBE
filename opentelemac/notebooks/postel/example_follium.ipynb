{
 "cells": [
  {
   "cell_type": "markdown",
   "metadata": {},
   "source": [
    "# How to work with maps with follium\n",
    "\n",
    "## Locate the computational domain on a map"
   ]
  },
  {
   "cell_type": "code",
   "execution_count": 1,
   "metadata": {
    "scrolled": false
   },
   "outputs": [
    {
     "data": {
      "text/html": [
       "<div style=\"width:100%;\"><div style=\"position:relative;width:100%;height:0;padding-bottom:60%;\"><iframe src=\"data:text/html;charset=utf-8;base64,PCFET0NUWVBFIGh0bWw+CjxoZWFkPiAgICAKICAgIDxtZXRhIGh0dHAtZXF1aXY9ImNvbnRlbnQtdHlwZSIgY29udGVudD0idGV4dC9odG1sOyBjaGFyc2V0PVVURi04IiAvPgogICAgCiAgICAgICAgPHNjcmlwdD4KICAgICAgICAgICAgTF9OT19UT1VDSCA9IGZhbHNlOwogICAgICAgICAgICBMX0RJU0FCTEVfM0QgPSB0cnVlOwogICAgICAgIDwvc2NyaXB0PgogICAgCiAgICA8c2NyaXB0IHNyYz0iaHR0cHM6Ly9jZG4uanNkZWxpdnIubmV0L25wbS9sZWFmbGV0QDEuNS4xL2Rpc3QvbGVhZmxldC5qcyI+PC9zY3JpcHQ+CiAgICA8c2NyaXB0IHNyYz0iaHR0cHM6Ly9jb2RlLmpxdWVyeS5jb20vanF1ZXJ5LTEuMTIuNC5taW4uanMiPjwvc2NyaXB0PgogICAgPHNjcmlwdCBzcmM9Imh0dHBzOi8vbWF4Y2RuLmJvb3RzdHJhcGNkbi5jb20vYm9vdHN0cmFwLzMuMi4wL2pzL2Jvb3RzdHJhcC5taW4uanMiPjwvc2NyaXB0PgogICAgPHNjcmlwdCBzcmM9Imh0dHBzOi8vY2RuanMuY2xvdWRmbGFyZS5jb20vYWpheC9saWJzL0xlYWZsZXQuYXdlc29tZS1tYXJrZXJzLzIuMC4yL2xlYWZsZXQuYXdlc29tZS1tYXJrZXJzLmpzIj48L3NjcmlwdD4KICAgIDxsaW5rIHJlbD0ic3R5bGVzaGVldCIgaHJlZj0iaHR0cHM6Ly9jZG4uanNkZWxpdnIubmV0L25wbS9sZWFmbGV0QDEuNS4xL2Rpc3QvbGVhZmxldC5jc3MiLz4KICAgIDxsaW5rIHJlbD0ic3R5bGVzaGVldCIgaHJlZj0iaHR0cHM6Ly9tYXhjZG4uYm9vdHN0cmFwY2RuLmNvbS9ib290c3RyYXAvMy4yLjAvY3NzL2Jvb3RzdHJhcC5taW4uY3NzIi8+CiAgICA8bGluayByZWw9InN0eWxlc2hlZXQiIGhyZWY9Imh0dHBzOi8vbWF4Y2RuLmJvb3RzdHJhcGNkbi5jb20vYm9vdHN0cmFwLzMuMi4wL2Nzcy9ib290c3RyYXAtdGhlbWUubWluLmNzcyIvPgogICAgPGxpbmsgcmVsPSJzdHlsZXNoZWV0IiBocmVmPSJodHRwczovL21heGNkbi5ib290c3RyYXBjZG4uY29tL2ZvbnQtYXdlc29tZS80LjYuMy9jc3MvZm9udC1hd2Vzb21lLm1pbi5jc3MiLz4KICAgIDxsaW5rIHJlbD0ic3R5bGVzaGVldCIgaHJlZj0iaHR0cHM6Ly9jZG5qcy5jbG91ZGZsYXJlLmNvbS9hamF4L2xpYnMvTGVhZmxldC5hd2Vzb21lLW1hcmtlcnMvMi4wLjIvbGVhZmxldC5hd2Vzb21lLW1hcmtlcnMuY3NzIi8+CiAgICA8bGluayByZWw9InN0eWxlc2hlZXQiIGhyZWY9Imh0dHBzOi8vcmF3Y2RuLmdpdGhhY2suY29tL3B5dGhvbi12aXN1YWxpemF0aW9uL2ZvbGl1bS9tYXN0ZXIvZm9saXVtL3RlbXBsYXRlcy9sZWFmbGV0LmF3ZXNvbWUucm90YXRlLmNzcyIvPgogICAgPHN0eWxlPmh0bWwsIGJvZHkge3dpZHRoOiAxMDAlO2hlaWdodDogMTAwJTttYXJnaW46IDA7cGFkZGluZzogMDt9PC9zdHlsZT4KICAgIDxzdHlsZT4jbWFwIHtwb3NpdGlvbjphYnNvbHV0ZTt0b3A6MDtib3R0b206MDtyaWdodDowO2xlZnQ6MDt9PC9zdHlsZT4KICAgIAogICAgICAgICAgICA8bWV0YSBuYW1lPSJ2aWV3cG9ydCIgY29udGVudD0id2lkdGg9ZGV2aWNlLXdpZHRoLAogICAgICAgICAgICAgICAgaW5pdGlhbC1zY2FsZT0xLjAsIG1heGltdW0tc2NhbGU9MS4wLCB1c2VyLXNjYWxhYmxlPW5vIiAvPgogICAgICAgICAgICA8c3R5bGU+CiAgICAgICAgICAgICAgICAjbWFwXzU1MTZjNGI4Y2YyOTQ5ZjU4OTY0NmZhNTEzMjA1YWYwIHsKICAgICAgICAgICAgICAgICAgICBwb3NpdGlvbjogcmVsYXRpdmU7CiAgICAgICAgICAgICAgICAgICAgd2lkdGg6IDEwMC4wJTsKICAgICAgICAgICAgICAgICAgICBoZWlnaHQ6IDEwMC4wJTsKICAgICAgICAgICAgICAgICAgICBsZWZ0OiAwLjAlOwogICAgICAgICAgICAgICAgICAgIHRvcDogMC4wJTsKICAgICAgICAgICAgICAgIH0KICAgICAgICAgICAgPC9zdHlsZT4KICAgICAgICAKPC9oZWFkPgo8Ym9keT4gICAgCiAgICAKICAgICAgICAgICAgPGRpdiBjbGFzcz0iZm9saXVtLW1hcCIgaWQ9Im1hcF81NTE2YzRiOGNmMjk0OWY1ODk2NDZmYTUxMzIwNWFmMCIgPjwvZGl2PgogICAgICAgIAo8L2JvZHk+CjxzY3JpcHQ+ICAgIAogICAgCiAgICAgICAgICAgIHZhciBtYXBfNTUxNmM0YjhjZjI5NDlmNTg5NjQ2ZmE1MTMyMDVhZjAgPSBMLm1hcCgKICAgICAgICAgICAgICAgICJtYXBfNTUxNmM0YjhjZjI5NDlmNTg5NjQ2ZmE1MTMyMDVhZjAiLAogICAgICAgICAgICAgICAgewogICAgICAgICAgICAgICAgICAgIGNlbnRlcjogWzQ4Ljg5NzY4MDkwMDI5NDU0NiwgLTMuMTkxNjY2NzA1NTQ2MjQ2NF0sCiAgICAgICAgICAgICAgICAgICAgY3JzOiBMLkNSUy5FUFNHMzg1NywKICAgICAgICAgICAgICAgICAgICB6b29tOiAxMCwKICAgICAgICAgICAgICAgICAgICBwcmVmZXJDYW52YXM6IGZhbHNlLAogICAgICAgICAgICAgICAgICAgIHpvb21Db250cm9sOiB0cnVlLAogICAgICAgICAgICAgICAgfQogICAgICAgICAgICApOwogICAgICAgICAgICBMLmNvbnRyb2wuc2NhbGUoKS5hZGRUbyhtYXBfNTUxNmM0YjhjZjI5NDlmNTg5NjQ2ZmE1MTMyMDVhZjApOwoKICAgICAgICAgICAgCgogICAgICAgIAogICAgCiAgICAgICAgICAgIHZhciB0aWxlX2xheWVyXzllZGUxN2ViYzk2ZTQwYzU5YzEwNGI1Yjc4OTk5YjFjID0gTC50aWxlTGF5ZXIoCiAgICAgICAgICAgICAgICAiaHR0cHM6Ly97c30udGlsZS5vcGVuc3RyZWV0bWFwLm9yZy97en0ve3h9L3t5fS5wbmciLAogICAgICAgICAgICAgICAgeyJhdHRyaWJ1dGlvbiI6ICJEYXRhIGJ5IFx1MDAyNmNvcHk7IFx1MDAzY2EgaHJlZj1cImh0dHA6Ly9vcGVuc3RyZWV0bWFwLm9yZ1wiXHUwMDNlT3BlblN0cmVldE1hcFx1MDAzYy9hXHUwMDNlLCB1bmRlciBcdTAwM2NhIGhyZWY9XCJodHRwOi8vd3d3Lm9wZW5zdHJlZXRtYXAub3JnL2NvcHlyaWdodFwiXHUwMDNlT0RiTFx1MDAzYy9hXHUwMDNlLiIsICJkZXRlY3RSZXRpbmEiOiBmYWxzZSwgIm1heE5hdGl2ZVpvb20iOiAxOCwgIm1heFpvb20iOiAxOCwgIm1pblpvb20iOiAwLCAibm9XcmFwIjogZmFsc2UsICJvcGFjaXR5IjogMSwgInN1YmRvbWFpbnMiOiAiYWJjIiwgInRtcyI6IGZhbHNlfQogICAgICAgICAgICApLmFkZFRvKG1hcF81NTE2YzRiOGNmMjk0OWY1ODk2NDZmYTUxMzIwNWFmMCk7CiAgICAgICAgCiAgICAKICAgICAgICAgICAgdmFyIG1hcmtlcl9kMTZhMzY5OTUwODA0NWMyYjMwZjM1OTBlM2UwOTZhMSA9IEwubWFya2VyKAogICAgICAgICAgICAgICAgWzQ5LjAwMDA4NTU3NDEzNjA5LCAtMy4zMzMzMzUwMTQ3MjgzNjldLAogICAgICAgICAgICAgICAge30KICAgICAgICAgICAgKS5hZGRUbyhtYXBfNTUxNmM0YjhjZjI5NDlmNTg5NjQ2ZmE1MTMyMDVhZjApOwogICAgICAgIAogICAgCiAgICAgICAgICAgIHZhciBtYXJrZXJfNjE4YTc3ZDczNjUyNGVmYjg3ZmIzNThlYzJlM2M3OGMgPSBMLm1hcmtlcigKICAgICAgICAgICAgICAgIFs0OC43OTUyNzYyMjY0NTMwMDUsIC0zLjA0OTk5ODM5NjM2NDEyMzddLAogICAgICAgICAgICAgICAge30KICAgICAgICAgICAgKS5hZGRUbyhtYXBfNTUxNmM0YjhjZjI5NDlmNTg5NjQ2ZmE1MTMyMDVhZjApOwogICAgICAgIAogICAgCiAgICAgICAgICAgIHZhciBtYXJrZXJfOWEzNmVlOTFkNjczNDJmMGJhODRiZDUwMmU0NzM5NDAgPSBMLm1hcmtlcigKICAgICAgICAgICAgICAgIFs0OC43OTUyNzYyMjY0NTMwMDUsIC0zLjMzMzMzNTAxNDcyODM2OV0sCiAgICAgICAgICAgICAgICB7fQogICAgICAgICAgICApLmFkZFRvKG1hcF81NTE2YzRiOGNmMjk0OWY1ODk2NDZmYTUxMzIwNWFmMCk7CiAgICAgICAgCiAgICAKICAgICAgICAgICAgdmFyIG1hcmtlcl9mZDg4YTc3OGE1ZWI0NDU2OGU1YTJiOTVjMDg0ZWRjMyA9IEwubWFya2VyKAogICAgICAgICAgICAgICAgWzQ5LjAwMDA4NTU3NDEzNjA5LCAtMy4wNDk5OTgzOTYzNjQxMjM3XSwKICAgICAgICAgICAgICAgIHt9CiAgICAgICAgICAgICkuYWRkVG8obWFwXzU1MTZjNGI4Y2YyOTQ5ZjU4OTY0NmZhNTEzMjA1YWYwKTsKICAgICAgICAKPC9zY3JpcHQ+\" style=\"position:absolute;width:100%;height:100%;left:0;top:0;border:none !important;\" allowfullscreen webkitallowfullscreen mozallowfullscreen></iframe></div></div>"
      ],
      "text/plain": [
       "<folium.folium.Map at 0x7fec171862e8>"
      ]
     },
     "execution_count": 1,
     "metadata": {},
     "output_type": "execute_result"
    }
   ],
   "source": [
    "from os import environ, path\n",
    "import sys\n",
    "import numpy as np\n",
    "try:\n",
    "    import pyproj\n",
    "    import folium\n",
    "except ImportError:\n",
    "    raise Exception(\"Warning: pyproj and folium are mandatory for that notebook\")\n",
    "import matplotlib.pyplot as plt\n",
    "import matplotlib.tri as mtri\n",
    "from data_manip.extraction.telemac_file import TelemacFile\n",
    "from postel.plot2d import *\n",
    "\n",
    "# File we are going to use\n",
    "file_name = path.join(environ['HOMETEL'], \n",
    "                      'examples', \n",
    "                      'telemac2d', \n",
    "                      'tide',\n",
    "                      'f2d_tide-jmj_type.slf')\n",
    "\n",
    "# Initalisaing Telemac file reader\n",
    "res = TelemacFile(file_name)\n",
    "\n",
    "# Coordoate projections\n",
    "wgs84=pyproj.Proj(\"+init=EPSG:4326\") # LatLon with WGS84 datum used by GPS units and Google Earth\n",
    "lamb1=pyproj.Proj(\"+init=EPSG:27561\")\n",
    "\n",
    "# Conversion from Lambert Nord to WGS84\n",
    "res.tri.x, res.tri.y = pyproj.transform(lamb1, wgs84, res.tri.x, res.tri.y)\n",
    "\n",
    "# Define location of mesh\n",
    "xlim = [np.min(res.tri.x), np.max(res.tri.x)]\n",
    "ylim = [np.min(res.tri.y), np.max(res.tri.y)]\n",
    "x_center = (xlim[0] + xlim[1])/2.\n",
    "y_center = (ylim[0] + ylim[1])/2.\n",
    "\n",
    "top_left_point = [ylim[1], xlim[0]]\n",
    "bottom_left_point = [ylim[0], xlim[0]]\n",
    "top_right_point = [ylim[1], xlim[1]]\n",
    "bottom_right_point = [ylim[0], xlim[1]]\n",
    "\n",
    "height = ylim[1] - ylim[0]\n",
    "width = xlim[1] - xlim[0]\n",
    "\n",
    "# Creation of raster layer for map overlay\n",
    "carte_wms = folium.Map(\n",
    "    location = [y_center, x_center], # [latittude, longitude]  \n",
    "    width = '100%',\n",
    "    height= '100%',\n",
    "    zoom_start = 10,\n",
    "    max_native_zoom = None,\n",
    "    control_scale = True,\n",
    "    disable_3d = True,\n",
    "    zoom_control = True, \n",
    "    )\n",
    "\n",
    "folium.Marker(top_left_point).add_to(carte_wms)\n",
    "folium.Marker(bottom_right_point).add_to(carte_wms)\n",
    "folium.Marker(bottom_left_point).add_to(carte_wms)\n",
    "folium.Marker(top_right_point).add_to(carte_wms)\n",
    "\n",
    "carte_wms"
   ]
  },
  {
   "cell_type": "code",
   "execution_count": 2,
   "metadata": {},
   "outputs": [
    {
     "data": {
      "text/html": [
       "<div style=\"width:100%;\"><div style=\"position:relative;width:100%;height:0;padding-bottom:60%;\"><iframe src=\"data:text/html;charset=utf-8;base64,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\" style=\"position:absolute;width:100%;height:100%;left:0;top:0;border:none !important;\" allowfullscreen webkitallowfullscreen mozallowfullscreen></iframe></div></div>"
      ],
      "text/plain": [
       "<folium.folium.Map at 0x7fec171862e8>"
      ]
     },
     "execution_count": 2,
     "metadata": {},
     "output_type": "execute_result"
    }
   ],
   "source": [
    "# Ajout wms raster layer\n",
    "rasterlayer = folium.raster_layers.WmsTileLayer(\n",
    "    url = 'http://noeyyrh6.hadam.hadroot.edf.fr:6080/arcgis/services/EXT/BDORTHO_France/MapServer/WMSServer',\n",
    "    name = 'test',\n",
    "    fmt = 'image/png',\n",
    "    version = \"1.3.0\",\n",
    "    layers = '0',\n",
    "    attr = u'EDF',\n",
    "    transparent = False,\n",
    "    overlay = True,\n",
    "    control = True)\n",
    "\n",
    "rasterlayer.add_to(carte_wms)\n",
    "\n",
    "carte_wms.fit_bounds((bottom_left_point, top_right_point), padding_top_left=top_left_point, \n",
    "                     padding_bottom_right=bottom_right_point, max_zoom=100)\n",
    "carte_wms"
   ]
  },
  {
   "cell_type": "code",
   "execution_count": 3,
   "metadata": {},
   "outputs": [],
   "source": [
    "del res"
   ]
  }
 ],
 "metadata": {
  "kernelspec": {
   "display_name": "Python 3",
   "language": "python",
   "name": "python3"
  },
  "language_info": {
   "codemirror_mode": {
    "name": "ipython",
    "version": 3
   },
   "file_extension": ".py",
   "mimetype": "text/x-python",
   "name": "python",
   "nbconvert_exporter": "python",
   "pygments_lexer": "ipython3",
   "version": "3.5.3"
  }
 },
 "nbformat": 4,
 "nbformat_minor": 1
}
